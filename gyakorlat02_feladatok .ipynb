{
    "metadata": {
        "kernelspec": {
            "name": "SQL",
            "display_name": "SQL",
            "language": "sql"
        },
        "language_info": {
            "name": "sql",
            "version": ""
        },
        "extensions": {
            "azuredatastudio": {
                "version": 1,
                "views": []
            }
        }
    },
    "nbformat_minor": 2,
    "nbformat": 4,
    "cells": [
        {
            "cell_type": "markdown",
            "source": [
                "1. <span style=\"color:rgb(36, 41, 47);font-family:-apple-system, BlinkMacSystemFont, &quot;Segoe UI&quot;, Helvetica, Arial, sans-serif, &quot;Apple Color Emoji&quot;, &quot;Segoe UI Emoji&quot;;font-size:16px;\">Készítsünk lekérdezést, amely listázza, hogy mely napokon hány db kölcsönzés történt!</span>\n",
                "\n",
                "<span style=\"font-size: 16px;\">a.&nbsp;</span> Az oszlopok neve legyen 'Dátum' és 'Kölcsönzések száma'  \n",
                "b. A listát rendezzük a kölcsönzés dátuma szerint csökkenő sorrendbe!"
            ],
            "metadata": {
                "azdata_cell_guid": "77f2d5b3-38e9-41cc-893f-f5afd02b97ef"
            },
            "attachments": {}
        },
        {
            "cell_type": "code",
            "source": [
                "SELECT ki_datum,\r\n",
                "    COUNT(*)\r\n",
                "FROM kolcsonzesek\r\n",
                "GROUP BY ki_datum"
            ],
            "metadata": {
                "azdata_cell_guid": "bd3cef1a-4e6e-4ece-9dc3-aaa9d2b5d66d",
                "language": "sql"
            },
            "outputs": [
                {
                    "output_type": "display_data",
                    "data": {
                        "text/html": "(3 rows affected)"
                    },
                    "metadata": {}
                },
                {
                    "output_type": "display_data",
                    "data": {
                        "text/html": "Total execution time: 00:00:00.038"
                    },
                    "metadata": {}
                },
                {
                    "output_type": "execute_result",
                    "execution_count": 1,
                    "data": {
                        "application/vnd.dataresource+json": {
                            "schema": {
                                "fields": [
                                    {
                                        "name": "ki_datum"
                                    },
                                    {
                                        "name": "(No column name)"
                                    }
                                ]
                            },
                            "data": [
                                {
                                    "ki_datum": "2003-12-11",
                                    "(No column name)": "3"
                                },
                                {
                                    "ki_datum": "2006-10-01",
                                    "(No column name)": "1"
                                },
                                {
                                    "ki_datum": "2006-10-02",
                                    "(No column name)": "1"
                                }
                            ]
                        },
                        "text/html": "<table><tr><th>ki_datum</th><th>(No column name)</th></tr><tr><td>2003-12-11</td><td>3</td></tr><tr><td>2006-10-01</td><td>1</td></tr><tr><td>2006-10-02</td><td>1</td></tr></table>"
                    },
                    "metadata": {}
                }
            ],
            "execution_count": 1
        },
        {
            "cell_type": "markdown",
            "source": [
                "2. <span style=\"font-weight: 600; color: rgb(36, 41, 47); font-family: -apple-system, BlinkMacSystemFont, &quot;Segoe UI&quot;, Helvetica, Arial, sans-serif, &quot;Apple Color Emoji&quot;, &quot;Segoe UI Emoji&quot;; font-size: 16px;\">Mennyi a dvd-k átlagos ára stílusonkénti bontásban?</span>\n",
                "\n",
                "1. Csak azokat a stílusokat vegyük figyelembe, ahol az átlagos ár 4500 Ft feletti!\n",
                "2. Az oszlopokat nevezzük el értelemszerűen!\n",
                "3. A listát rendezzük átlagos ár szerint csökkenő sorrendbe!"
            ],
            "metadata": {
                "azdata_cell_guid": "88f5b4bb-f4c1-4bad-a0c7-b2592687b422"
            },
            "attachments": {}
        },
        {
            "cell_type": "code",
            "source": [
                "SELECT stilus,\r\n",
                "AVG(nettoar)\r\n",
                "FROM dvd\r\n",
                "GROUP BY stilus\r\n",
                "HAVING AVG(nettoar)>4500\r\n",
                "ORDER BY AVG(nettoar) DESC"
            ],
            "metadata": {
                "azdata_cell_guid": "e9de5726-f036-4fb9-8c33-a873955ed886",
                "language": "sql"
            },
            "outputs": [
                {
                    "output_type": "display_data",
                    "data": {
                        "text/html": "(30 rows affected)"
                    },
                    "metadata": {}
                },
                {
                    "output_type": "display_data",
                    "data": {
                        "text/html": "Total execution time: 00:00:00.011"
                    },
                    "metadata": {}
                },
                {
                    "output_type": "execute_result",
                    "execution_count": 4,
                    "data": {
                        "application/vnd.dataresource+json": {
                            "schema": {
                                "fields": [
                                    {
                                        "name": "stilus"
                                    },
                                    {
                                        "name": "(No column name)"
                                    }
                                ]
                            },
                            "data": [
                                {
                                    "stilus": "ásványtan",
                                    "(No column name)": "5624"
                                },
                                {
                                    "stilus": "játék (rodeó)",
                                    "(No column name)": "5591"
                                },
                                {
                                    "stilus": "humor",
                                    "(No column name)": "5573"
                                },
                                {
                                    "stilus": "környezetvédelem",
                                    "(No column name)": "5508"
                                },
                                {
                                    "stilus": "kresz",
                                    "(No column name)": "5476"
                                },
                                {
                                    "stilus": "játék (jégkorong)",
                                    "(No column name)": "5242"
                                },
                                {
                                    "stilus": "színház",
                                    "(No column name)": "5158"
                                },
                                {
                                    "stilus": "múvészet",
                                    "(No column name)": "5118"
                                },
                                {
                                    "stilus": "kémia",
                                    "(No column name)": "5094"
                                },
                                {
                                    "stilus": "fordító program",
                                    "(No column name)": "5036"
                                },
                                {
                                    "stilus": "kerttervező",
                                    "(No column name)": "4951"
                                },
                                {
                                    "stilus": "művészet",
                                    "(No column name)": "4939,25"
                                },
                                {
                                    "stilus": "festészet",
                                    "(No column name)": "4901"
                                },
                                {
                                    "stilus": "zene",
                                    "(No column name)": "4855,333333333333"
                                },
                                {
                                    "stilus": "játék",
                                    "(No column name)": "4850,466666666666"
                                },
                                {
                                    "stilus": "játék (labdarúgás)",
                                    "(No column name)": "4817,333333333333"
                                },
                                {
                                    "stilus": "állattan",
                                    "(No column name)": "4783,666666666667"
                                },
                                {
                                    "stilus": "nyelvtan",
                                    "(No column name)": "4770,666666666667"
                                },
                                {
                                    "stilus": "fizika",
                                    "(No column name)": "4769"
                                },
                                {
                                    "stilus": "nyelvtanító",
                                    "(No column name)": "4759,476190476191"
                                },
                                {
                                    "stilus": "csillagászat",
                                    "(No column name)": "4733,571428571428"
                                },
                                {
                                    "stilus": "ismeretterjesztő",
                                    "(No column name)": "4726,673913043478"
                                },
                                {
                                    "stilus": "irodalom, nyelv",
                                    "(No column name)": "4704"
                                },
                                {
                                    "stilus": "gasztronómia",
                                    "(No column name)": "4691"
                                },
                                {
                                    "stilus": "történelem",
                                    "(No column name)": "4655,731707317073"
                                },
                                {
                                    "stilus": "szótár",
                                    "(No column name)": "4624,428571428572"
                                },
                                {
                                    "stilus": "sport",
                                    "(No column name)": "4607"
                                },
                                {
                                    "stilus": "földrajz",
                                    "(No column name)": "4580,0625"
                                },
                                {
                                    "stilus": "matematika",
                                    "(No column name)": "4520,777777777777"
                                },
                                {
                                    "stilus": "felvételi",
                                    "(No column name)": "4501,333333333333"
                                }
                            ]
                        },
                        "text/html": "<table><tr><th>stilus</th><th>(No column name)</th></tr><tr><td>ásványtan</td><td>5624</td></tr><tr><td>játék (rodeó)</td><td>5591</td></tr><tr><td>humor</td><td>5573</td></tr><tr><td>környezetvédelem</td><td>5508</td></tr><tr><td>kresz</td><td>5476</td></tr><tr><td>játék (jégkorong)</td><td>5242</td></tr><tr><td>színház</td><td>5158</td></tr><tr><td>múvészet</td><td>5118</td></tr><tr><td>kémia</td><td>5094</td></tr><tr><td>fordító program</td><td>5036</td></tr><tr><td>kerttervező</td><td>4951</td></tr><tr><td>művészet</td><td>4939,25</td></tr><tr><td>festészet</td><td>4901</td></tr><tr><td>zene</td><td>4855,333333333333</td></tr><tr><td>játék</td><td>4850,466666666666</td></tr><tr><td>játék (labdarúgás)</td><td>4817,333333333333</td></tr><tr><td>állattan</td><td>4783,666666666667</td></tr><tr><td>nyelvtan</td><td>4770,666666666667</td></tr><tr><td>fizika</td><td>4769</td></tr><tr><td>nyelvtanító</td><td>4759,476190476191</td></tr><tr><td>csillagászat</td><td>4733,571428571428</td></tr><tr><td>ismeretterjesztő</td><td>4726,673913043478</td></tr><tr><td>irodalom, nyelv</td><td>4704</td></tr><tr><td>gasztronómia</td><td>4691</td></tr><tr><td>történelem</td><td>4655,731707317073</td></tr><tr><td>szótár</td><td>4624,428571428572</td></tr><tr><td>sport</td><td>4607</td></tr><tr><td>földrajz</td><td>4580,0625</td></tr><tr><td>matematika</td><td>4520,777777777777</td></tr><tr><td>felvételi</td><td>4501,333333333333</td></tr></table>"
                    },
                    "metadata": {}
                }
            ],
            "execution_count": 4
        },
        {
            "cell_type": "markdown",
            "source": [
                "3. <span style=\"color:rgb(36, 41, 47);font-family:-apple-system, BlinkMacSystemFont, &quot;Segoe UI&quot;, Helvetica, Arial, sans-serif, &quot;Apple Color Emoji&quot;, &quot;Segoe UI Emoji&quot;;font-size:16px;\">Listázzuk nyelvenkénti, azon belül stílusonkénti bontásban, hogy mennyi a dvd-k legkisebb és legnagyobb ára!&nbsp;</span> \n",
                "\n",
                "<span style=\"font-size: 16px;\">a. Az oszlopok neve legyen 'Nyelv', 'Stílus', 'MinÁr' és 'MaxÁr'!<br>b.&nbsp;</span> A listából hagyjuk ki azokat a sorokat, ahol a nyelv vagy a stílus nincs megadva!  \n",
                "c. Szintén hagyjuk ki azokat a csoportokat, ahol a csoport elemszáma 3-nál kisebb!"
            ],
            "metadata": {
                "azdata_cell_guid": "9e7249de-1b59-43d8-84b1-26fa7d81fc5a"
            },
            "attachments": {}
        },
        {
            "cell_type": "code",
            "source": [
                "SELECT MIN(nettoar) as 'minár',\r\n",
                "MAX(nettoar) as 'ár',\r\n",
                "stilus,\r\n",
                "lang\r\n",
                "FROM dvd\r\n",
                "WHERE lang<>0 AND stilus IS NOT NULL\r\n",
                "GROUP BY lang, stilus\r\n",
                "HAVING COUNT(*)>=3"
            ],
            "metadata": {
                "azdata_cell_guid": "6405d3e8-a9b1-45d7-aa76-3b1e785ef6cc",
                "language": "sql"
            },
            "outputs": [
                {
                    "output_type": "error",
                    "ename": "",
                    "evalue": "Msg 8120, Level 16, State 1, Line 2\r\nColumn 'dvd.cim' is invalid in the select list because it is not contained in either an aggregate function or the GROUP BY clause.",
                    "traceback": []
                },
                {
                    "output_type": "display_data",
                    "data": {
                        "text/html": "Total execution time: 00:00:00.016"
                    },
                    "metadata": {}
                }
            ],
            "execution_count": 15
        },
        {
            "cell_type": "markdown",
            "source": [
                "4. <span style=\"color: rgb(36, 41, 47); font-family: -apple-system, BlinkMacSystemFont, &quot;Segoe UI&quot;, Helvetica, Arial, sans-serif, &quot;Apple Color Emoji&quot;, &quot;Segoe UI Emoji&quot;; font-size: 16px;\">Készítsünk listát, amely a csoportokat hoz létre aszerint, hogy a mai naptól számítva hány nap telt el a kölcsönzés kezdete óta. A lista jelenítse meg csoportonkénti bontásban a kikölcsönzött dvd-k számát!</span>\n",
                "\n",
                "1. Az oszlopokat nevezzük el értelemszerűen!\n",
                "2. A listát rendezzük az eltelt napok száma szerint csökkenő sorrendbe!"
            ],
            "metadata": {
                "azdata_cell_guid": "6478e469-c094-472c-a772-ccd5b5c61516"
            },
            "attachments": {}
        },
        {
            "cell_type": "code",
            "source": [
                "SELECT DATEDIFF(DAY, ki_datum,GETDATE()),\r\n",
                "COUNT(*) AS 'db'\r\n",
                "FROM kolcsonzesek\r\n",
                "GROUP BY DATEDIFF(DAY, ki_datum,GETDATE())"
            ],
            "metadata": {
                "azdata_cell_guid": "02031ea2-3838-458d-839c-228e3b362b61",
                "language": "sql"
            },
            "outputs": [
                {
                    "output_type": "display_data",
                    "data": {
                        "text/html": "(3 rows affected)"
                    },
                    "metadata": {}
                },
                {
                    "output_type": "display_data",
                    "data": {
                        "text/html": "Total execution time: 00:00:00.022"
                    },
                    "metadata": {}
                },
                {
                    "output_type": "execute_result",
                    "execution_count": 26,
                    "data": {
                        "application/vnd.dataresource+json": {
                            "schema": {
                                "fields": [
                                    {
                                        "name": "(No column name)"
                                    },
                                    {
                                        "name": "db"
                                    }
                                ]
                            },
                            "data": [
                                {
                                    "(No column name)": "7380",
                                    "db": "3"
                                },
                                {
                                    "(No column name)": "6355",
                                    "db": "1"
                                },
                                {
                                    "(No column name)": "6354",
                                    "db": "1"
                                }
                            ]
                        },
                        "text/html": "<table><tr><th>(No column name)</th><th>db</th></tr><tr><td>7380</td><td>3</td></tr><tr><td>6355</td><td>1</td></tr><tr><td>6354</td><td>1</td></tr></table>"
                    },
                    "metadata": {}
                }
            ],
            "execution_count": 26
        },
        {
            "cell_type": "markdown",
            "source": [
                "5. <span style=\"color: rgb(36, 41, 47); font-family: -apple-system, BlinkMacSystemFont, &quot;Segoe UI&quot;, Helvetica, Arial, sans-serif, &quot;Apple Color Emoji&quot;, &quot;Segoe UI Emoji&quot;; font-size: 16px;\">A kölcsönző tulajdonosa elhatározza, hogy ezentúl kerekebb árakat alkalmaz. Ezért minden dvd árát 1000 Ft-ra kerekíti. Készítsünk lekérdezést, amely megmutatja, hogy melyik 1000 Ft-ra kerekített ár szerint, azon belül stílus szerint hány db dvd összesen raktáron! **</span>\n",
                "\n",
                "1. Csak olyan csoportokat listázzunk, ahol a raktárkészlet legalább 30!\n",
                "2. A listát rendezzük kerekített ár szerint, azon belül raktárkészlet szerint növekvő sorrendbe!"
            ],
            "metadata": {
                "azdata_cell_guid": "9edbbaf9-c276-4898-9a01-e1b2993c089f"
            },
            "attachments": {}
        },
        {
            "cell_type": "code",
            "source": [
                "SELECT ROUND(nettoar,-3) AS 'kerekit',\r\n",
                "SUM([raktár készlet]) AS 'ASD',\r\n",
                "stilus\r\n",
                "FROM dvd\r\n",
                "GROUP BY ROUND(nettoar,-3), stilus\r\n",
                "HAVING SUM([raktár készlet])>30\r\n",
                "order by 1,2"
            ],
            "metadata": {
                "azdata_cell_guid": "5ad5fdcb-2878-4111-861a-833bcd50e935",
                "language": "sql"
            },
            "outputs": [
                {
                    "output_type": "display_data",
                    "data": {
                        "text/html": "(19 rows affected)"
                    },
                    "metadata": {}
                },
                {
                    "output_type": "display_data",
                    "data": {
                        "text/html": "Total execution time: 00:00:00.022"
                    },
                    "metadata": {}
                },
                {
                    "output_type": "execute_result",
                    "execution_count": 44,
                    "data": {
                        "application/vnd.dataresource+json": {
                            "schema": {
                                "fields": [
                                    {
                                        "name": "kerekit"
                                    },
                                    {
                                        "name": "ASD"
                                    },
                                    {
                                        "name": "stilus"
                                    }
                                ]
                            },
                            "data": [
                                {
                                    "kerekit": "3000",
                                    "ASD": "40",
                                    "stilus": "játék"
                                },
                                {
                                    "kerekit": "3000",
                                    "ASD": "40",
                                    "stilus": "történelem"
                                },
                                {
                                    "kerekit": "3000",
                                    "ASD": "70",
                                    "stilus": "ismeretterjesztő"
                                },
                                {
                                    "kerekit": "4000",
                                    "ASD": "40",
                                    "stilus": "csillagászat"
                                },
                                {
                                    "kerekit": "4000",
                                    "ASD": "50",
                                    "stilus": "földrajz"
                                },
                                {
                                    "kerekit": "4000",
                                    "ASD": "90",
                                    "stilus": "irodalom"
                                },
                                {
                                    "kerekit": "4000",
                                    "ASD": "130",
                                    "stilus": "ismeretterjesztő"
                                },
                                {
                                    "kerekit": "4000",
                                    "ASD": "140",
                                    "stilus": "nyelvtanító"
                                },
                                {
                                    "kerekit": "4000",
                                    "ASD": "160",
                                    "stilus": "történelem"
                                },
                                {
                                    "kerekit": "4000",
                                    "ASD": "180",
                                    "stilus": "játék"
                                },
                                {
                                    "kerekit": "5000",
                                    "ASD": "60",
                                    "stilus": "földrajz"
                                },
                                {
                                    "kerekit": "5000",
                                    "ASD": "120",
                                    "stilus": "történelem"
                                },
                                {
                                    "kerekit": "5000",
                                    "ASD": "140",
                                    "stilus": "nyelvtanító"
                                },
                                {
                                    "kerekit": "5000",
                                    "ASD": "170",
                                    "stilus": "ismeretterjesztő"
                                },
                                {
                                    "kerekit": "5000",
                                    "ASD": "210",
                                    "stilus": "játék"
                                },
                                {
                                    "kerekit": "6000",
                                    "ASD": "88",
                                    "stilus": "történelem"
                                },
                                {
                                    "kerekit": "6000",
                                    "ASD": "90",
                                    "stilus": "ismeretterjesztő"
                                },
                                {
                                    "kerekit": "6000",
                                    "ASD": "110",
                                    "stilus": "nyelvtanító"
                                },
                                {
                                    "kerekit": "6000",
                                    "ASD": "170",
                                    "stilus": "játék"
                                }
                            ]
                        },
                        "text/html": "<table><tr><th>kerekit</th><th>ASD</th><th>stilus</th></tr><tr><td>3000</td><td>40</td><td>játék</td></tr><tr><td>3000</td><td>40</td><td>történelem</td></tr><tr><td>3000</td><td>70</td><td>ismeretterjesztő</td></tr><tr><td>4000</td><td>40</td><td>csillagászat</td></tr><tr><td>4000</td><td>50</td><td>földrajz</td></tr><tr><td>4000</td><td>90</td><td>irodalom</td></tr><tr><td>4000</td><td>130</td><td>ismeretterjesztő</td></tr><tr><td>4000</td><td>140</td><td>nyelvtanító</td></tr><tr><td>4000</td><td>160</td><td>történelem</td></tr><tr><td>4000</td><td>180</td><td>játék</td></tr><tr><td>5000</td><td>60</td><td>földrajz</td></tr><tr><td>5000</td><td>120</td><td>történelem</td></tr><tr><td>5000</td><td>140</td><td>nyelvtanító</td></tr><tr><td>5000</td><td>170</td><td>ismeretterjesztő</td></tr><tr><td>5000</td><td>210</td><td>játék</td></tr><tr><td>6000</td><td>88</td><td>történelem</td></tr><tr><td>6000</td><td>90</td><td>ismeretterjesztő</td></tr><tr><td>6000</td><td>110</td><td>nyelvtanító</td></tr><tr><td>6000</td><td>170</td><td>játék</td></tr></table>"
                    },
                    "metadata": {}
                }
            ],
            "execution_count": 44
        },
        {
            "cell_type": "markdown",
            "source": [
                "6. <span style=\"font-weight: 600; color: rgb(36, 41, 47); font-family: -apple-system, BlinkMacSystemFont, &quot;Segoe UI&quot;, Helvetica, Arial, sans-serif, &quot;Apple Color Emoji&quot;, &quot;Segoe UI Emoji&quot;; font-size: 16px;\">A dvd-ket csoportosíthatjuk aszerint, hogy milyen hosszú a címük. Amelyiknél a cím hosszúsága 10 karakter alatt van, az legyen Rövid, 10-20-ig Átlagos, 20 felett Hosszú. Hány Rövid, Átlagos, illetve Hosszú dvd-van összesen raktáron?</span>\n",
                "\n",
                "1. Az oszlopok neve legyen 'Cím hosszúság' és 'Darabszám"
            ],
            "metadata": {
                "azdata_cell_guid": "5fe65c1c-2479-45ac-ad03-ec99d12eae21"
            },
            "attachments": {}
        },
        {
            "cell_type": "code",
            "source": [
                "SELECT CASE WHEN LEN(cim)<10 THEN 'rövid'\r\n",
                "WHEN LEN(cim) BETWEEN 10 AND 20 THEN 'atlag'\r\n",
                "ELSE 'hossu'\r\n",
                "END AS 'hosszusag',\r\n",
                "SUM([raktár készlet]) AS 'mennyi'\r\n",
                "FROM dvd\r\n",
                "GROUP by CASE WHEN LEN(cim)<10 THEN 'rövid'\r\n",
                "WHEN LEN(cim) BETWEEN 10 AND 20 THEN 'atlag'\r\n",
                "ELSE 'hossu'\r\n",
                "END\r\n",
                ""
            ],
            "metadata": {
                "azdata_cell_guid": "924f2dde-f1c2-4def-a7f9-dbf4bace7735",
                "language": "sql"
            },
            "outputs": [
                {
                    "output_type": "display_data",
                    "data": {
                        "text/html": "(3 rows affected)"
                    },
                    "metadata": {}
                },
                {
                    "output_type": "display_data",
                    "data": {
                        "text/html": "Total execution time: 00:00:00.027"
                    },
                    "metadata": {}
                },
                {
                    "output_type": "execute_result",
                    "execution_count": 48,
                    "data": {
                        "application/vnd.dataresource+json": {
                            "schema": {
                                "fields": [
                                    {
                                        "name": "hosszusag"
                                    },
                                    {
                                        "name": "mennyi"
                                    }
                                ]
                            },
                            "data": [
                                {
                                    "hosszusag": "atlag",
                                    "mennyi": "930"
                                },
                                {
                                    "hosszusag": "hossu",
                                    "mennyi": "2128"
                                },
                                {
                                    "hosszusag": "rövid",
                                    "mennyi": "120"
                                }
                            ]
                        },
                        "text/html": "<table><tr><th>hosszusag</th><th>mennyi</th></tr><tr><td>atlag</td><td>930</td></tr><tr><td>hossu</td><td>2128</td></tr><tr><td>rövid</td><td>120</td></tr></table>"
                    },
                    "metadata": {}
                }
            ],
            "execution_count": 48
        },
        {
            "cell_type": "markdown",
            "source": [
                "7. <span style=\"color: rgb(36, 41, 47); font-family: -apple-system, BlinkMacSystemFont, &quot;Segoe UI&quot;, Helvetica, Arial, sans-serif, &quot;Apple Color Emoji&quot;, &quot;Segoe UI Emoji&quot;; font-size: 16px;\">Készítsünk listát arról, hogy melyik teremben hány óra van!</span>\n",
                "\n",
                "1. Jelenítsük meg a termek azonosítóit és a teremben tartott órák számát!\n",
                "2. Az oszlopokat nevezzük el értelemszerűen!\n",
                "3. Szűrjünk azokra a termekre, ahol az órák száma legalább 3!"
            ],
            "metadata": {
                "azdata_cell_guid": "3aeb6bf5-b111-40d5-92b2-9712ce335696"
            },
            "attachments": {}
        },
        {
            "cell_type": "code",
            "source": [
                "select terem, \r\n",
                "COUNT(*)\r\n",
                "From Orak \r\n",
                "GROUP BY terem\r\n",
                "having COUNT(*) >=3"
            ],
            "metadata": {
                "azdata_cell_guid": "3e89b651-f56f-4102-af52-30eb2bbe360d",
                "language": "sql"
            },
            "outputs": [
                {
                    "output_type": "display_data",
                    "data": {
                        "text/html": "(11 rows affected)"
                    },
                    "metadata": {}
                },
                {
                    "output_type": "display_data",
                    "data": {
                        "text/html": "Total execution time: 00:00:00.006"
                    },
                    "metadata": {}
                },
                {
                    "output_type": "execute_result",
                    "execution_count": 5,
                    "data": {
                        "application/vnd.dataresource+json": {
                            "schema": {
                                "fields": [
                                    {
                                        "name": "terem"
                                    },
                                    {
                                        "name": "(No column name)"
                                    }
                                ]
                            },
                            "data": [
                                {
                                    "terem": "2",
                                    "(No column name)": "5"
                                },
                                {
                                    "terem": "3",
                                    "(No column name)": "11"
                                },
                                {
                                    "terem": "4",
                                    "(No column name)": "8"
                                },
                                {
                                    "terem": "5",
                                    "(No column name)": "5"
                                },
                                {
                                    "terem": "6",
                                    "(No column name)": "6"
                                },
                                {
                                    "terem": "7",
                                    "(No column name)": "6"
                                },
                                {
                                    "terem": "8",
                                    "(No column name)": "6"
                                },
                                {
                                    "terem": "10",
                                    "(No column name)": "3"
                                },
                                {
                                    "terem": "12",
                                    "(No column name)": "3"
                                },
                                {
                                    "terem": "13",
                                    "(No column name)": "5"
                                },
                                {
                                    "terem": "14",
                                    "(No column name)": "3"
                                }
                            ]
                        },
                        "text/html": "<table><tr><th>terem</th><th>(No column name)</th></tr><tr><td>2</td><td>5</td></tr><tr><td>3</td><td>11</td></tr><tr><td>4</td><td>8</td></tr><tr><td>5</td><td>5</td></tr><tr><td>6</td><td>6</td></tr><tr><td>7</td><td>6</td></tr><tr><td>8</td><td>6</td></tr><tr><td>10</td><td>3</td></tr><tr><td>12</td><td>3</td></tr><tr><td>13</td><td>5</td></tr><tr><td>14</td><td>3</td></tr></table>"
                    },
                    "metadata": {}
                }
            ],
            "execution_count": 5
        },
        {
            "cell_type": "markdown",
            "source": [
                "8. <span style=\"color: rgb(36, 41, 47); font-family: -apple-system, BlinkMacSystemFont, &quot;Segoe UI&quot;, Helvetica, Arial, sans-serif, &quot;Apple Color Emoji&quot;, &quot;Segoe UI Emoji&quot;; font-size: 16px;\">Készítsünk lekérdezést, amely megadja, hogy minimálian és maximálisan hány kreditet ér egy tantárgy!</span>\n",
                "\n",
                "1. Az oszlopokat nevezzük el értelemszerűen!\n",
                "2. Ne vegyük figyelembe azokat a tantárgyakat, amelyek nevében az „alapjai” szó szerepel, vagy a tantárgy neve 10 karakternél rövidebb!"
            ],
            "metadata": {
                "azdata_cell_guid": "26a504dc-ff6a-439f-94c0-4580eca3eacf"
            },
            "attachments": {}
        },
        {
            "cell_type": "code",
            "source": [
                "SELECT Tantárgynév, \r\n",
                "MIN(Kredit) AS 'min',\r\n",
                "MAX(Kredit) AS 'max'\r\n",
                "FROM Tantárgyak\r\n",
                "WHERE Tantárgynév NOT LIKE '%alapjai%' AND LEN(Tantárgynév)>=10\r\n",
                "GROUP BY Tantargykod\r\n",
                ""
            ],
            "metadata": {
                "azdata_cell_guid": "1cbb8aeb-78b5-4350-aa45-e3202fdab85b",
                "language": "sql"
            },
            "outputs": [
                {
                    "output_type": "error",
                    "ename": "",
                    "evalue": "Msg 8120, Level 16, State 1, Line 1\r\nColumn 'Tantárgyak.Tantárgynév' is invalid in the select list because it is not contained in either an aggregate function or the GROUP BY clause.",
                    "traceback": []
                },
                {
                    "output_type": "display_data",
                    "data": {
                        "text/html": "Total execution time: 00:00:00.017"
                    },
                    "metadata": {}
                }
            ],
            "execution_count": 63
        },
        {
            "cell_type": "markdown",
            "source": [
                "9. <span style=\"color: rgb(36, 41, 47); font-family: -apple-system, BlinkMacSystemFont, &quot;Segoe UI&quot;, Helvetica, Arial, sans-serif, &quot;Apple Color Emoji&quot;, &quot;Segoe UI Emoji&quot;; font-size: 16px;\">A tapasztalat alapján a tanársegédeknek 8, az óraadóknak 10 órájuk van egy héten. A többiek annyi órát tartanak, amennyi az elvárt óraszámuk. Készítsünk lekérdezést, amely minden beosztáshoz megjeleníti, hogy hetente hány túlóra tartozik hozzá!</span>\n",
                "\n",
                "1. A lekérdezés csak a beosztások nevét és a heti túlórák számát jelenítse meg!"
            ],
            "metadata": {
                "azdata_cell_guid": "435e2860-2dd5-4877-90f4-34a43baeb53c"
            },
            "attachments": {}
        },
        {
            "cell_type": "code",
            "source": [
                "SELECT beosztasnev,\r\n",
                "CASE WHEN beosztasnev = 'Tanársegéd' THEN 8\r\n",
                "WHEN beosztasnev ='Óraadó' THEN 10\r\n",
                "ELSE elvart\r\n",
                "end -elvart AS 'Túlóra'\r\n",
                "FROM Beosztasok"
            ],
            "metadata": {
                "azdata_cell_guid": "ce846351-ddbe-4d8e-b8fb-2a92c73ac80b",
                "language": "sql"
            },
            "outputs": [
                {
                    "output_type": "display_data",
                    "data": {
                        "text/html": "(7 rows affected)"
                    },
                    "metadata": {}
                },
                {
                    "output_type": "display_data",
                    "data": {
                        "text/html": "Total execution time: 00:00:00.036"
                    },
                    "metadata": {}
                },
                {
                    "output_type": "execute_result",
                    "metadata": {},
                    "execution_count": 4,
                    "data": {
                        "application/vnd.dataresource+json": {
                            "schema": {
                                "fields": [
                                    {
                                        "name": "beosztasnev"
                                    },
                                    {
                                        "name": "Túlóra"
                                    }
                                ]
                            },
                            "data": [
                                {
                                    "beosztasnev": "Óraadó",
                                    "Túlóra": "16"
                                },
                                {
                                    "beosztasnev": "Tanársegéd",
                                    "Túlóra": "14"
                                },
                                {
                                    "beosztasnev": "Adjunktus",
                                    "Túlóra": "10"
                                },
                                {
                                    "beosztasnev": "Docens",
                                    "Túlóra": "8"
                                },
                                {
                                    "beosztasnev": "Professzor",
                                    "Túlóra": "6"
                                },
                                {
                                    "beosztasnev": "Egyetemi tanár",
                                    "Túlóra": "4"
                                },
                                {
                                    "beosztasnev": "Tudományos munkatárs",
                                    "Túlóra": "8"
                                }
                            ]
                        },
                        "text/html": [
                            "<table>",
                            "<tr><th>beosztasnev</th><th>Túlóra</th></tr>",
                            "<tr><td>Óraadó</td><td>16</td></tr>",
                            "<tr><td>Tanársegéd</td><td>14</td></tr>",
                            "<tr><td>Adjunktus</td><td>10</td></tr>",
                            "<tr><td>Docens</td><td>8</td></tr>",
                            "<tr><td>Professzor</td><td>6</td></tr>",
                            "<tr><td>Egyetemi tanár</td><td>4</td></tr>",
                            "<tr><td>Tudományos munkatárs</td><td>8</td></tr>",
                            "</table>"
                        ]
                    }
                }
            ],
            "execution_count": 4
        },
        {
            "cell_type": "markdown",
            "source": [
                "10. <span style=\"font-weight: 600; color: rgb(36, 41, 47); font-family: -apple-system, BlinkMacSystemFont, &quot;Segoe UI&quot;, Helvetica, Arial, sans-serif, &quot;Apple Color Emoji&quot;, &quot;Segoe UI Emoji&quot;; font-size: 16px;\">Melyek azok az oktatók, akiknek nincs órájuk?</span>\n",
                "\n",
                "1. Csak az oktatók neve jelenjen meg!\n",
                "2. ÖTLET: használjunk LEFT JOIN-t, és szűrjünk azokra a rekordokra, ahol NULL érték van a JOIN utáni feltétel jobb oldalán!"
            ],
            "metadata": {
                "azdata_cell_guid": "217c5772-afe2-4a7c-b913-e3a3e09d6411"
            },
            "attachments": {}
        },
        {
            "cell_type": "code",
            "source": [
                "SELECT nev\r\n",
                "FROM Oktatok LEFT JOIN Orak ON Oktatok.oktato_id = Orak.tanar\r\n",
                "WHERE tanar IS NULL"
            ],
            "metadata": {
                "azdata_cell_guid": "a9cc0926-3dbd-4ed8-8179-1c39d64a0762",
                "language": "sql"
            },
            "outputs": [
                {
                    "output_type": "display_data",
                    "data": {
                        "text/html": "(5 rows affected)"
                    },
                    "metadata": {}
                },
                {
                    "output_type": "display_data",
                    "data": {
                        "text/html": "Total execution time: 00:00:00.036"
                    },
                    "metadata": {}
                },
                {
                    "output_type": "execute_result",
                    "metadata": {},
                    "execution_count": 5,
                    "data": {
                        "application/vnd.dataresource+json": {
                            "schema": {
                                "fields": [
                                    {
                                        "name": "nev"
                                    }
                                ]
                            },
                            "data": [
                                {
                                    "nev": "Józsa Gábor"
                                },
                                {
                                    "nev": "Rácz András"
                                },
                                {
                                    "nev": "Kiss István"
                                },
                                {
                                    "nev": "Mészáros Kriszta"
                                },
                                {
                                    "nev": "Kovacs Istvan"
                                }
                            ]
                        },
                        "text/html": [
                            "<table>",
                            "<tr><th>nev</th></tr>",
                            "<tr><td>Józsa Gábor</td></tr>",
                            "<tr><td>Rácz András</td></tr>",
                            "<tr><td>Kiss István</td></tr>",
                            "<tr><td>Mészáros Kriszta</td></tr>",
                            "<tr><td>Kovacs Istvan</td></tr>",
                            "</table>"
                        ]
                    }
                }
            ],
            "execution_count": 5
        },
        {
            "cell_type": "markdown",
            "source": [
                "11. <span style=\"font-weight: 600; color: rgb(36, 41, 47); font-family: -apple-system, BlinkMacSystemFont, &quot;Segoe UI&quot;, Helvetica, Arial, sans-serif, &quot;Apple Color Emoji&quot;, &quot;Segoe UI Emoji&quot;; font-size: 16px;\">Készítsünk lekérdezést, amely részletesen megjeleníti az egyes órák fontosabb adatait, azaz</span>\n",
                "\n",
                "1. Az órák azonosítóit, a tanár nevét, a tantárgy nevét, a terem nevét és a kezdési időpontot!\n",
                "2. Az oszlopokat nevezzük el értelemszerűen!"
            ],
            "metadata": {
                "azdata_cell_guid": "d2340f5f-1614-473c-b937-85740d67f7c1"
            },
            "attachments": {}
        },
        {
            "cell_type": "code",
            "source": [
                "SELECT  Orak.ora_id,\r\n",
                "        Oktatok.nev,\r\n",
                "        Tantárgyak.Tantárgynév,\r\n",
                "        termek.terem,\r\n",
                "        Savok.Időpont\r\n",
                "From Orak JOIN Oktatok ON Orak.tanar = OKtatok.oktato_id\r\n",
                "        JOIN Tantárgyak ON Orak.targy =Tantárgyak.Tkód\r\n",
                "        JOIN Termek ON Orak.terem =Termek.Tkód\r\n",
                "        JOIN Savok On Orak.Sav = Savok.Sav_id"
            ],
            "metadata": {
                "azdata_cell_guid": "e99c2c53-898f-4787-b0e6-182d106dc16f",
                "language": "sql"
            },
            "outputs": [
                {
                    "output_type": "display_data",
                    "data": {
                        "text/html": "(67 rows affected)"
                    },
                    "metadata": {}
                },
                {
                    "output_type": "display_data",
                    "data": {
                        "text/html": "Total execution time: 00:00:00.041"
                    },
                    "metadata": {}
                },
                {
                    "output_type": "execute_result",
                    "execution_count": 6,
                    "data": {
                        "application/vnd.dataresource+json": {
                            "schema": {
                                "fields": [
                                    {
                                        "name": "ora_id"
                                    },
                                    {
                                        "name": "nev"
                                    },
                                    {
                                        "name": "Tantárgynév"
                                    },
                                    {
                                        "name": "terem"
                                    },
                                    {
                                        "name": "Időpont"
                                    }
                                ]
                            },
                            "data": [
                                {
                                    "ora_id": "159",
                                    "nev": "Ujfalussi István",
                                    "Tantárgynév": "Az ürgeöntés alapjai",
                                    "terem": "117",
                                    "Időpont": "8.00"
                                },
                                {
                                    "ora_id": "160",
                                    "nev": "Pelikán József",
                                    "Tantárgynév": "Az ürgeöntés alapjai",
                                    "terem": "118",
                                    "Időpont": "14.00"
                                },
                                {
                                    "ora_id": "161",
                                    "nev": "Pelikán József",
                                    "Tantárgynév": "Az ürgeöntés alapjai",
                                    "terem": "118",
                                    "Időpont": "9.30"
                                },
                                {
                                    "ora_id": "162",
                                    "nev": "Kovács András",
                                    "Tantárgynév": "Az ürgeöntés alapjai",
                                    "terem": "119",
                                    "Időpont": "12.30"
                                },
                                {
                                    "ora_id": "163",
                                    "nev": "Szerb László",
                                    "Tantárgynév": "Az ürgeöntés alapjai",
                                    "terem": "120",
                                    "Időpont": "9.30"
                                },
                                {
                                    "ora_id": "164",
                                    "nev": "Kiss János",
                                    "Tantárgynév": "Az ürgeöntés alapjai",
                                    "terem": "119",
                                    "Időpont": "11.00"
                                },
                                {
                                    "ora_id": "165",
                                    "nev": "Szerb László",
                                    "Tantárgynév": "Az ürgeöntés alapjai",
                                    "terem": "119",
                                    "Időpont": "11.00"
                                },
                                {
                                    "ora_id": "166",
                                    "nev": "Szerb László",
                                    "Tantárgynév": "Az ürgeöntés alapjai",
                                    "terem": "119",
                                    "Időpont": "12.30"
                                },
                                {
                                    "ora_id": "167",
                                    "nev": "Szentágotai Istvás",
                                    "Tantárgynév": "Az ürgeöntés alapjai",
                                    "terem": "120",
                                    "Időpont": "12.30"
                                },
                                {
                                    "ora_id": "168",
                                    "nev": "Ujfalussi István",
                                    "Tantárgynév": "Az ürgeöntés alapjai",
                                    "terem": "217",
                                    "Időpont": "11.00"
                                },
                                {
                                    "ora_id": "169",
                                    "nev": "Kovács András",
                                    "Tantárgynév": "Az ürgeöntés alapjai",
                                    "terem": "218",
                                    "Időpont": "9.30"
                                },
                                {
                                    "ora_id": "170",
                                    "nev": "Ludas Mátyás",
                                    "Tantárgynév": "Az ürgeöntés alapjai",
                                    "terem": "120",
                                    "Időpont": "9.30"
                                },
                                {
                                    "ora_id": "171",
                                    "nev": "Szénási ászló",
                                    "Tantárgynév": "Az ürgeöntés alapjai",
                                    "terem": "220",
                                    "Időpont": "9.30"
                                },
                                {
                                    "ora_id": "172",
                                    "nev": "Kiss János",
                                    "Tantárgynév": "Az ürgeöntés alapjai",
                                    "terem": "119",
                                    "Időpont": "9.30"
                                },
                                {
                                    "ora_id": "173",
                                    "nev": "Kovács András",
                                    "Tantárgynév": "Az ürgeöntés alapjai",
                                    "terem": "119",
                                    "Időpont": "11.00"
                                },
                                {
                                    "ora_id": "174",
                                    "nev": "Ludas Mátyás",
                                    "Tantárgynév": "Az ürgeöntés alapjai",
                                    "terem": "219",
                                    "Időpont": "11.00"
                                },
                                {
                                    "ora_id": "175",
                                    "nev": "Szénási ászló",
                                    "Tantárgynév": "Az ürgeöntés alapjai",
                                    "terem": "120",
                                    "Időpont": "12.30"
                                },
                                {
                                    "ora_id": "176",
                                    "nev": "Kovács András",
                                    "Tantárgynév": "Az ürgeöntés alapjai",
                                    "terem": "118",
                                    "Időpont": "12.30"
                                },
                                {
                                    "ora_id": "177",
                                    "nev": "Szentágotai Istvás",
                                    "Tantárgynév": "Az ürgeöntés alapjai",
                                    "terem": "119",
                                    "Időpont": "14.00"
                                },
                                {
                                    "ora_id": "178",
                                    "nev": "Vitéz János",
                                    "Tantárgynév": "Az ürgeöntés alapjai",
                                    "terem": "220",
                                    "Időpont": "14.00"
                                },
                                {
                                    "ora_id": "179",
                                    "nev": "Szentágotai Istvás",
                                    "Tantárgynév": "Az ürgeöntés alapjai",
                                    "terem": "120",
                                    "Időpont": "15.30"
                                },
                                {
                                    "ora_id": "180",
                                    "nev": "Vitéz János",
                                    "Tantárgynév": "Az ürgeöntés alapjai",
                                    "terem": "119",
                                    "Időpont": "15.30"
                                },
                                {
                                    "ora_id": "181",
                                    "nev": "Szentágotai Istvás",
                                    "Tantárgynév": "Az ürgeöntés alapjai",
                                    "terem": "118",
                                    "Időpont": "8.00"
                                },
                                {
                                    "ora_id": "182",
                                    "nev": "Vitéz János",
                                    "Tantárgynév": "Az ürgeöntés alapjai",
                                    "terem": "219",
                                    "Időpont": "8.00"
                                },
                                {
                                    "ora_id": "183",
                                    "nev": "Szentágotai Istvás",
                                    "Tantárgynév": "Az ürgeöntés alapjai",
                                    "terem": "220",
                                    "Időpont": "9.30"
                                },
                                {
                                    "ora_id": "184",
                                    "nev": "Vitéz János",
                                    "Tantárgynév": "Az ürgeöntés alapjai",
                                    "terem": "218",
                                    "Időpont": "9.30"
                                },
                                {
                                    "ora_id": "185",
                                    "nev": "Szentágotai Istvás",
                                    "Tantárgynév": "Az ürgeöntés alapjai",
                                    "terem": "120",
                                    "Időpont": "11.00"
                                },
                                {
                                    "ora_id": "186",
                                    "nev": "Nógrádi Kata",
                                    "Tantárgynév": "ü-business",
                                    "terem": "219",
                                    "Időpont": "12.30"
                                },
                                {
                                    "ora_id": "187",
                                    "nev": "Balkán András",
                                    "Tantárgynév": "Bevezetés az ürgeöntésbe",
                                    "terem": "217",
                                    "Időpont": "9.30"
                                },
                                {
                                    "ora_id": "188",
                                    "nev": "Farkasos Piroska",
                                    "Tantárgynév": "Bevezetés az ürgeöntésbe",
                                    "terem": "VP 203.",
                                    "Időpont": "15.30"
                                },
                                {
                                    "ora_id": "189",
                                    "nev": "Farkasos Piroska",
                                    "Tantárgynév": "Bevezetés az ürgeöntésbe",
                                    "terem": "VP 203.",
                                    "Időpont": "9.30"
                                },
                                {
                                    "ora_id": "190",
                                    "nev": "Farkasos Piroska",
                                    "Tantárgynév": "Bevezetés az ürgeöntésbe",
                                    "terem": "E.2.238",
                                    "Időpont": "11.00"
                                },
                                {
                                    "ora_id": "191",
                                    "nev": "Varga Kata",
                                    "Tantárgynév": "Az ürgeöntés hydrológiai alapjai II.",
                                    "terem": "220",
                                    "Időpont": "14.00"
                                },
                                {
                                    "ora_id": "192",
                                    "nev": "Varga Kata",
                                    "Tantárgynév": "Az ürgeöntés hydrológiai alapjai II.",
                                    "terem": "119",
                                    "Időpont": "15.30"
                                },
                                {
                                    "ora_id": "193",
                                    "nev": "Farkasos Piroska",
                                    "Tantárgynév": "Az ürgeöntés hydrológiai alapjai II.",
                                    "terem": "217",
                                    "Időpont": "14.00"
                                },
                                {
                                    "ora_id": "194",
                                    "nev": "Farkasos Piroska",
                                    "Tantárgynév": "Az ürgeöntés hydrológiai alapjai II.",
                                    "terem": "E.fsz.I",
                                    "Időpont": "15.30"
                                },
                                {
                                    "ora_id": "195",
                                    "nev": "Balkán András",
                                    "Tantárgynév": "Az ürgeöntés hydrológiai alapjai II.",
                                    "terem": "116",
                                    "Időpont": "14.00"
                                },
                                {
                                    "ora_id": "196",
                                    "nev": "Balkán András",
                                    "Tantárgynév": "Az ürgeöntés hydrológiai alapjai II.",
                                    "terem": "218",
                                    "Időpont": "15.30"
                                },
                                {
                                    "ora_id": "197",
                                    "nev": "Farkasos Piroska",
                                    "Tantárgynév": "Az ürgeöntés hydrológiai alapjai II.",
                                    "terem": "116",
                                    "Időpont": "8.00"
                                },
                                {
                                    "ora_id": "198",
                                    "nev": "Farkasos Piroska",
                                    "Tantárgynév": "Az ürgeöntés hydrológiai alapjai II.",
                                    "terem": "119",
                                    "Időpont": "9.30"
                                },
                                {
                                    "ora_id": "199",
                                    "nev": "Szabó Andrera",
                                    "Tantárgynév": "Az ürgeöntés hydrológiai alapjai II.",
                                    "terem": "218",
                                    "Időpont": "8.00"
                                },
                                {
                                    "ora_id": "200",
                                    "nev": "Szabó Andrera",
                                    "Tantárgynév": "Az ürgeöntés hydrológiai alapjai II.",
                                    "terem": "220",
                                    "Időpont": "9.30"
                                },
                                {
                                    "ora_id": "201",
                                    "nev": "Juhász András",
                                    "Tantárgynév": "Öntési gyakorlat",
                                    "terem": "E.2.238",
                                    "Időpont": "12.30"
                                },
                                {
                                    "ora_id": "202",
                                    "nev": "Juhász András",
                                    "Tantárgynév": "Öntési gyakorlat",
                                    "terem": "E.3.332",
                                    "Időpont": "14.00"
                                },
                                {
                                    "ora_id": "203",
                                    "nev": "Aranyi Mária",
                                    "Tantárgynév": "Az ürgeöntés hydrológiai alapjai I.",
                                    "terem": "S.Asor.S3",
                                    "Időpont": "12.30"
                                },
                                {
                                    "ora_id": "204",
                                    "nev": "Róbert Gida",
                                    "Tantárgynév": "Az ürgeöntés hydrológiai alapjai I.",
                                    "terem": "120",
                                    "Időpont": "14.00"
                                },
                                {
                                    "ora_id": "205",
                                    "nev": "Ujfalussi István",
                                    "Tantárgynév": "Az öntés elmélete",
                                    "terem": "220",
                                    "Időpont": "12.30"
                                },
                                {
                                    "ora_id": "206",
                                    "nev": "Varga Kata",
                                    "Tantárgynév": "Az öntés elmélete",
                                    "terem": "S.Asor.S3",
                                    "Időpont": "8.00"
                                },
                                {
                                    "ora_id": "207",
                                    "nev": "Varga Kata",
                                    "Tantárgynév": "Az öntés elmélete",
                                    "terem": "219",
                                    "Időpont": "12.30"
                                },
                                {
                                    "ora_id": "208",
                                    "nev": "Jogrerős Pál",
                                    "Tantárgynév": "Ürgevitel",
                                    "terem": "VP 203.",
                                    "Időpont": "8.00"
                                },
                                {
                                    "ora_id": "209",
                                    "nev": "Jogrerős Pál",
                                    "Tantárgynév": "Ürgevitel",
                                    "terem": "VP 203.",
                                    "Időpont": "9.30"
                                },
                                {
                                    "ora_id": "210",
                                    "nev": "Szép llonka",
                                    "Tantárgynév": "Ürgeöntés az EU-ban",
                                    "terem": "E.2.238",
                                    "Időpont": "15.30"
                                },
                                {
                                    "ora_id": "211",
                                    "nev": "Szép llonka",
                                    "Tantárgynév": "Ürgeöntés az EU-ban",
                                    "terem": "217",
                                    "Időpont": "17.00"
                                },
                                {
                                    "ora_id": "212",
                                    "nev": "Kiss János",
                                    "Tantárgynév": "Ürgeöntés az EU-ban",
                                    "terem": "120",
                                    "Időpont": "18.30"
                                },
                                {
                                    "ora_id": "213",
                                    "nev": "Kiss János",
                                    "Tantárgynév": "Ürgeöntés az EU-ban",
                                    "terem": "218",
                                    "Időpont": "20.00"
                                },
                                {
                                    "ora_id": "214",
                                    "nev": "Pelikán József",
                                    "Tantárgynév": "Az ürge anatómiája",
                                    "terem": "219",
                                    "Időpont": "11.00"
                                },
                                {
                                    "ora_id": "215",
                                    "nev": "Pelikán József",
                                    "Tantárgynév": "Az ürge anatómiája",
                                    "terem": "E.fsz.IV.",
                                    "Időpont": "12.30"
                                },
                                {
                                    "ora_id": "216",
                                    "nev": "Szép llonka",
                                    "Tantárgynév": "Az ürge anatómiája",
                                    "terem": "218",
                                    "Időpont": "11.00"
                                },
                                {
                                    "ora_id": "217",
                                    "nev": "Szép llonka",
                                    "Tantárgynév": "Az ürge anatómiája",
                                    "terem": "217",
                                    "Időpont": "12.30"
                                },
                                {
                                    "ora_id": "218",
                                    "nev": "Pelikán József",
                                    "Tantárgynév": "Az ürge anatómiája",
                                    "terem": "118",
                                    "Időpont": "15.30"
                                },
                                {
                                    "ora_id": "219",
                                    "nev": "Pelikán József",
                                    "Tantárgynév": "Az ürge anatómiája",
                                    "terem": "219",
                                    "Időpont": "17.00"
                                },
                                {
                                    "ora_id": "220",
                                    "nev": "Kovács László",
                                    "Tantárgynév": "Fejezetek az ürgék jogaiból",
                                    "terem": "119",
                                    "Időpont": "11.00"
                                },
                                {
                                    "ora_id": "221",
                                    "nev": "Kovács László",
                                    "Tantárgynév": "Fejezetek az ürgék jogaiból",
                                    "terem": "VP 203.",
                                    "Időpont": "11.00"
                                },
                                {
                                    "ora_id": "222",
                                    "nev": "Kovács László",
                                    "Tantárgynév": "Fejezetek az ürgék jogaiból",
                                    "terem": "116",
                                    "Időpont": "14.00"
                                },
                                {
                                    "ora_id": "223",
                                    "nev": "Kovács László",
                                    "Tantárgynév": "Fejezetek az ürgék jogaiból",
                                    "terem": "S.Asor.S3",
                                    "Időpont": "8.00"
                                },
                                {
                                    "ora_id": "226",
                                    "nev": "Szentágotai Istvás",
                                    "Tantárgynév": "ürgefőzés",
                                    "terem": "117",
                                    "Időpont": "11.00"
                                },
                                {
                                    "ora_id": "227",
                                    "nev": "Szentágotai Istvás",
                                    "Tantárgynév": "Az ürgeöntés hydrológiai alapjai I.",
                                    "terem": "116",
                                    "Időpont": "14.00"
                                }
                            ]
                        },
                        "text/html": "<table><tr><th>ora_id</th><th>nev</th><th>Tantárgynév</th><th>terem</th><th>Időpont</th></tr><tr><td>159</td><td>Ujfalussi István</td><td>Az ürgeöntés alapjai</td><td>117</td><td>8.00</td></tr><tr><td>160</td><td>Pelikán József</td><td>Az ürgeöntés alapjai</td><td>118</td><td>14.00</td></tr><tr><td>161</td><td>Pelikán József</td><td>Az ürgeöntés alapjai</td><td>118</td><td>9.30</td></tr><tr><td>162</td><td>Kovács András</td><td>Az ürgeöntés alapjai</td><td>119</td><td>12.30</td></tr><tr><td>163</td><td>Szerb László</td><td>Az ürgeöntés alapjai</td><td>120</td><td>9.30</td></tr><tr><td>164</td><td>Kiss János</td><td>Az ürgeöntés alapjai</td><td>119</td><td>11.00</td></tr><tr><td>165</td><td>Szerb László</td><td>Az ürgeöntés alapjai</td><td>119</td><td>11.00</td></tr><tr><td>166</td><td>Szerb László</td><td>Az ürgeöntés alapjai</td><td>119</td><td>12.30</td></tr><tr><td>167</td><td>Szentágotai Istvás</td><td>Az ürgeöntés alapjai</td><td>120</td><td>12.30</td></tr><tr><td>168</td><td>Ujfalussi István</td><td>Az ürgeöntés alapjai</td><td>217</td><td>11.00</td></tr><tr><td>169</td><td>Kovács András</td><td>Az ürgeöntés alapjai</td><td>218</td><td>9.30</td></tr><tr><td>170</td><td>Ludas Mátyás</td><td>Az ürgeöntés alapjai</td><td>120</td><td>9.30</td></tr><tr><td>171</td><td>Szénási ászló</td><td>Az ürgeöntés alapjai</td><td>220</td><td>9.30</td></tr><tr><td>172</td><td>Kiss János</td><td>Az ürgeöntés alapjai</td><td>119</td><td>9.30</td></tr><tr><td>173</td><td>Kovács András</td><td>Az ürgeöntés alapjai</td><td>119</td><td>11.00</td></tr><tr><td>174</td><td>Ludas Mátyás</td><td>Az ürgeöntés alapjai</td><td>219</td><td>11.00</td></tr><tr><td>175</td><td>Szénási ászló</td><td>Az ürgeöntés alapjai</td><td>120</td><td>12.30</td></tr><tr><td>176</td><td>Kovács András</td><td>Az ürgeöntés alapjai</td><td>118</td><td>12.30</td></tr><tr><td>177</td><td>Szentágotai Istvás</td><td>Az ürgeöntés alapjai</td><td>119</td><td>14.00</td></tr><tr><td>178</td><td>Vitéz János</td><td>Az ürgeöntés alapjai</td><td>220</td><td>14.00</td></tr><tr><td>179</td><td>Szentágotai Istvás</td><td>Az ürgeöntés alapjai</td><td>120</td><td>15.30</td></tr><tr><td>180</td><td>Vitéz János</td><td>Az ürgeöntés alapjai</td><td>119</td><td>15.30</td></tr><tr><td>181</td><td>Szentágotai Istvás</td><td>Az ürgeöntés alapjai</td><td>118</td><td>8.00</td></tr><tr><td>182</td><td>Vitéz János</td><td>Az ürgeöntés alapjai</td><td>219</td><td>8.00</td></tr><tr><td>183</td><td>Szentágotai Istvás</td><td>Az ürgeöntés alapjai</td><td>220</td><td>9.30</td></tr><tr><td>184</td><td>Vitéz János</td><td>Az ürgeöntés alapjai</td><td>218</td><td>9.30</td></tr><tr><td>185</td><td>Szentágotai Istvás</td><td>Az ürgeöntés alapjai</td><td>120</td><td>11.00</td></tr><tr><td>186</td><td>Nógrádi Kata</td><td>ü-business</td><td>219</td><td>12.30</td></tr><tr><td>187</td><td>Balkán András</td><td>Bevezetés az ürgeöntésbe</td><td>217</td><td>9.30</td></tr><tr><td>188</td><td>Farkasos Piroska</td><td>Bevezetés az ürgeöntésbe</td><td>VP 203.</td><td>15.30</td></tr><tr><td>189</td><td>Farkasos Piroska</td><td>Bevezetés az ürgeöntésbe</td><td>VP 203.</td><td>9.30</td></tr><tr><td>190</td><td>Farkasos Piroska</td><td>Bevezetés az ürgeöntésbe</td><td>E.2.238</td><td>11.00</td></tr><tr><td>191</td><td>Varga Kata</td><td>Az ürgeöntés hydrológiai alapjai II.</td><td>220</td><td>14.00</td></tr><tr><td>192</td><td>Varga Kata</td><td>Az ürgeöntés hydrológiai alapjai II.</td><td>119</td><td>15.30</td></tr><tr><td>193</td><td>Farkasos Piroska</td><td>Az ürgeöntés hydrológiai alapjai II.</td><td>217</td><td>14.00</td></tr><tr><td>194</td><td>Farkasos Piroska</td><td>Az ürgeöntés hydrológiai alapjai II.</td><td>E.fsz.I</td><td>15.30</td></tr><tr><td>195</td><td>Balkán András</td><td>Az ürgeöntés hydrológiai alapjai II.</td><td>116</td><td>14.00</td></tr><tr><td>196</td><td>Balkán András</td><td>Az ürgeöntés hydrológiai alapjai II.</td><td>218</td><td>15.30</td></tr><tr><td>197</td><td>Farkasos Piroska</td><td>Az ürgeöntés hydrológiai alapjai II.</td><td>116</td><td>8.00</td></tr><tr><td>198</td><td>Farkasos Piroska</td><td>Az ürgeöntés hydrológiai alapjai II.</td><td>119</td><td>9.30</td></tr><tr><td>199</td><td>Szabó Andrera</td><td>Az ürgeöntés hydrológiai alapjai II.</td><td>218</td><td>8.00</td></tr><tr><td>200</td><td>Szabó Andrera</td><td>Az ürgeöntés hydrológiai alapjai II.</td><td>220</td><td>9.30</td></tr><tr><td>201</td><td>Juhász András</td><td>Öntési gyakorlat</td><td>E.2.238</td><td>12.30</td></tr><tr><td>202</td><td>Juhász András</td><td>Öntési gyakorlat</td><td>E.3.332</td><td>14.00</td></tr><tr><td>203</td><td>Aranyi Mária</td><td>Az ürgeöntés hydrológiai alapjai I.</td><td>S.Asor.S3</td><td>12.30</td></tr><tr><td>204</td><td>Róbert Gida</td><td>Az ürgeöntés hydrológiai alapjai I.</td><td>120</td><td>14.00</td></tr><tr><td>205</td><td>Ujfalussi István</td><td>Az öntés elmélete</td><td>220</td><td>12.30</td></tr><tr><td>206</td><td>Varga Kata</td><td>Az öntés elmélete</td><td>S.Asor.S3</td><td>8.00</td></tr><tr><td>207</td><td>Varga Kata</td><td>Az öntés elmélete</td><td>219</td><td>12.30</td></tr><tr><td>208</td><td>Jogrerős Pál</td><td>Ürgevitel</td><td>VP 203.</td><td>8.00</td></tr><tr><td>209</td><td>Jogrerős Pál</td><td>Ürgevitel</td><td>VP 203.</td><td>9.30</td></tr><tr><td>210</td><td>Szép llonka</td><td>Ürgeöntés az EU-ban</td><td>E.2.238</td><td>15.30</td></tr><tr><td>211</td><td>Szép llonka</td><td>Ürgeöntés az EU-ban</td><td>217</td><td>17.00</td></tr><tr><td>212</td><td>Kiss János</td><td>Ürgeöntés az EU-ban</td><td>120</td><td>18.30</td></tr><tr><td>213</td><td>Kiss János</td><td>Ürgeöntés az EU-ban</td><td>218</td><td>20.00</td></tr><tr><td>214</td><td>Pelikán József</td><td>Az ürge anatómiája</td><td>219</td><td>11.00</td></tr><tr><td>215</td><td>Pelikán József</td><td>Az ürge anatómiája</td><td>E.fsz.IV.</td><td>12.30</td></tr><tr><td>216</td><td>Szép llonka</td><td>Az ürge anatómiája</td><td>218</td><td>11.00</td></tr><tr><td>217</td><td>Szép llonka</td><td>Az ürge anatómiája</td><td>217</td><td>12.30</td></tr><tr><td>218</td><td>Pelikán József</td><td>Az ürge anatómiája</td><td>118</td><td>15.30</td></tr><tr><td>219</td><td>Pelikán József</td><td>Az ürge anatómiája</td><td>219</td><td>17.00</td></tr><tr><td>220</td><td>Kovács László</td><td>Fejezetek az ürgék jogaiból</td><td>119</td><td>11.00</td></tr><tr><td>221</td><td>Kovács László</td><td>Fejezetek az ürgék jogaiból</td><td>VP 203.</td><td>11.00</td></tr><tr><td>222</td><td>Kovács László</td><td>Fejezetek az ürgék jogaiból</td><td>116</td><td>14.00</td></tr><tr><td>223</td><td>Kovács László</td><td>Fejezetek az ürgék jogaiból</td><td>S.Asor.S3</td><td>8.00</td></tr><tr><td>226</td><td>Szentágotai Istvás</td><td>ürgefőzés</td><td>117</td><td>11.00</td></tr><tr><td>227</td><td>Szentágotai Istvás</td><td>Az ürgeöntés hydrológiai alapjai I.</td><td>116</td><td>14.00</td></tr></table>"
                    },
                    "metadata": {}
                }
            ],
            "execution_count": 6
        },
        {
            "cell_type": "markdown",
            "source": [
                "12. <span style=\"color: rgb(36, 41, 47); font-family: -apple-system, BlinkMacSystemFont, &quot;Segoe UI&quot;, Helvetica, Arial, sans-serif, &quot;Apple Color Emoji&quot;, &quot;Segoe UI Emoji&quot;; font-size: 16px;\">Készítsünk listát, amely tartalmazza az egyes órák azonosítóit, és az órán oktatott tantárgy felelősének nevét!</span>\n",
                "\n",
                "1. Rendezzük a listát a tantárgyfelelős neve szerint csökkenő sorrendbe!"
            ],
            "metadata": {
                "azdata_cell_guid": "a765e9d6-58b3-4171-872a-78f3118fd6e3"
            },
            "attachments": {}
        },
        {
            "cell_type": "code",
            "source": [
                "SELECT orak.ora_id,\r\n",
                "Oktatok.nev\r\n",
                "FROM Orak JOIN Tantárgyak ON Orak.targy= Tantárgyak.Tkód\r\n",
                "JOIN Oktatok ON Tantárgyak.Tantárgyfelelős = Oktatok.oktato_id\r\n",
                ""
            ],
            "metadata": {
                "azdata_cell_guid": "422e8127-b652-4d3a-bfd7-9b1637b5781e",
                "language": "sql"
            },
            "outputs": [
                {
                    "output_type": "display_data",
                    "data": {
                        "text/html": "(67 rows affected)"
                    },
                    "metadata": {}
                },
                {
                    "output_type": "display_data",
                    "data": {
                        "text/html": "Total execution time: 00:00:00.036"
                    },
                    "metadata": {}
                },
                {
                    "output_type": "execute_result",
                    "metadata": {},
                    "execution_count": 7,
                    "data": {
                        "application/vnd.dataresource+json": {
                            "schema": {
                                "fields": [
                                    {
                                        "name": "ora_id"
                                    },
                                    {
                                        "name": "nev"
                                    }
                                ]
                            },
                            "data": [
                                {
                                    "ora_id": "159",
                                    "nev": "Balkán András"
                                },
                                {
                                    "ora_id": "160",
                                    "nev": "Balkán András"
                                },
                                {
                                    "ora_id": "161",
                                    "nev": "Balkán András"
                                },
                                {
                                    "ora_id": "162",
                                    "nev": "Balkán András"
                                },
                                {
                                    "ora_id": "163",
                                    "nev": "Balkán András"
                                },
                                {
                                    "ora_id": "164",
                                    "nev": "Balkán András"
                                },
                                {
                                    "ora_id": "165",
                                    "nev": "Balkán András"
                                },
                                {
                                    "ora_id": "166",
                                    "nev": "Balkán András"
                                },
                                {
                                    "ora_id": "167",
                                    "nev": "Balkán András"
                                },
                                {
                                    "ora_id": "168",
                                    "nev": "Balkán András"
                                },
                                {
                                    "ora_id": "169",
                                    "nev": "Balkán András"
                                },
                                {
                                    "ora_id": "170",
                                    "nev": "Balkán András"
                                },
                                {
                                    "ora_id": "171",
                                    "nev": "Balkán András"
                                },
                                {
                                    "ora_id": "172",
                                    "nev": "Balkán András"
                                },
                                {
                                    "ora_id": "173",
                                    "nev": "Balkán András"
                                },
                                {
                                    "ora_id": "174",
                                    "nev": "Balkán András"
                                },
                                {
                                    "ora_id": "175",
                                    "nev": "Balkán András"
                                },
                                {
                                    "ora_id": "176",
                                    "nev": "Balkán András"
                                },
                                {
                                    "ora_id": "177",
                                    "nev": "Balkán András"
                                },
                                {
                                    "ora_id": "178",
                                    "nev": "Balkán András"
                                },
                                {
                                    "ora_id": "179",
                                    "nev": "Balkán András"
                                },
                                {
                                    "ora_id": "180",
                                    "nev": "Balkán András"
                                },
                                {
                                    "ora_id": "181",
                                    "nev": "Balkán András"
                                },
                                {
                                    "ora_id": "182",
                                    "nev": "Balkán András"
                                },
                                {
                                    "ora_id": "183",
                                    "nev": "Balkán András"
                                },
                                {
                                    "ora_id": "184",
                                    "nev": "Balkán András"
                                },
                                {
                                    "ora_id": "185",
                                    "nev": "Balkán András"
                                },
                                {
                                    "ora_id": "186",
                                    "nev": "Kovács László"
                                },
                                {
                                    "ora_id": "187",
                                    "nev": "Balkán András"
                                },
                                {
                                    "ora_id": "188",
                                    "nev": "Balkán András"
                                },
                                {
                                    "ora_id": "189",
                                    "nev": "Balkán András"
                                },
                                {
                                    "ora_id": "190",
                                    "nev": "Balkán András"
                                },
                                {
                                    "ora_id": "191",
                                    "nev": "Balkán András"
                                },
                                {
                                    "ora_id": "192",
                                    "nev": "Balkán András"
                                },
                                {
                                    "ora_id": "193",
                                    "nev": "Balkán András"
                                },
                                {
                                    "ora_id": "194",
                                    "nev": "Balkán András"
                                },
                                {
                                    "ora_id": "195",
                                    "nev": "Balkán András"
                                },
                                {
                                    "ora_id": "196",
                                    "nev": "Balkán András"
                                },
                                {
                                    "ora_id": "197",
                                    "nev": "Balkán András"
                                },
                                {
                                    "ora_id": "198",
                                    "nev": "Balkán András"
                                },
                                {
                                    "ora_id": "199",
                                    "nev": "Balkán András"
                                },
                                {
                                    "ora_id": "200",
                                    "nev": "Balkán András"
                                },
                                {
                                    "ora_id": "201",
                                    "nev": "Pelikán József"
                                },
                                {
                                    "ora_id": "202",
                                    "nev": "Pelikán József"
                                },
                                {
                                    "ora_id": "203",
                                    "nev": "Ujfalussi István"
                                },
                                {
                                    "ora_id": "204",
                                    "nev": "Ujfalussi István"
                                },
                                {
                                    "ora_id": "205",
                                    "nev": "Kovács László"
                                },
                                {
                                    "ora_id": "206",
                                    "nev": "Kovács László"
                                },
                                {
                                    "ora_id": "207",
                                    "nev": "Kovács László"
                                },
                                {
                                    "ora_id": "208",
                                    "nev": "Jogrerős Pál"
                                },
                                {
                                    "ora_id": "209",
                                    "nev": "Jogrerős Pál"
                                },
                                {
                                    "ora_id": "210",
                                    "nev": "Pelikán József"
                                },
                                {
                                    "ora_id": "211",
                                    "nev": "Pelikán József"
                                },
                                {
                                    "ora_id": "212",
                                    "nev": "Pelikán József"
                                },
                                {
                                    "ora_id": "213",
                                    "nev": "Pelikán József"
                                },
                                {
                                    "ora_id": "214",
                                    "nev": "Pelikán József"
                                },
                                {
                                    "ora_id": "215",
                                    "nev": "Pelikán József"
                                },
                                {
                                    "ora_id": "216",
                                    "nev": "Pelikán József"
                                },
                                {
                                    "ora_id": "217",
                                    "nev": "Pelikán József"
                                },
                                {
                                    "ora_id": "218",
                                    "nev": "Pelikán József"
                                },
                                {
                                    "ora_id": "219",
                                    "nev": "Pelikán József"
                                },
                                {
                                    "ora_id": "220",
                                    "nev": "Kovács László"
                                },
                                {
                                    "ora_id": "221",
                                    "nev": "Kovács László"
                                },
                                {
                                    "ora_id": "222",
                                    "nev": "Kovács László"
                                },
                                {
                                    "ora_id": "223",
                                    "nev": "Kovács László"
                                },
                                {
                                    "ora_id": "226",
                                    "nev": "Kovács László"
                                },
                                {
                                    "ora_id": "227",
                                    "nev": "Ujfalussi István"
                                }
                            ]
                        },
                        "text/html": [
                            "<table>",
                            "<tr><th>ora_id</th><th>nev</th></tr>",
                            "<tr><td>159</td><td>Balkán András</td></tr>",
                            "<tr><td>160</td><td>Balkán András</td></tr>",
                            "<tr><td>161</td><td>Balkán András</td></tr>",
                            "<tr><td>162</td><td>Balkán András</td></tr>",
                            "<tr><td>163</td><td>Balkán András</td></tr>",
                            "<tr><td>164</td><td>Balkán András</td></tr>",
                            "<tr><td>165</td><td>Balkán András</td></tr>",
                            "<tr><td>166</td><td>Balkán András</td></tr>",
                            "<tr><td>167</td><td>Balkán András</td></tr>",
                            "<tr><td>168</td><td>Balkán András</td></tr>",
                            "<tr><td>169</td><td>Balkán András</td></tr>",
                            "<tr><td>170</td><td>Balkán András</td></tr>",
                            "<tr><td>171</td><td>Balkán András</td></tr>",
                            "<tr><td>172</td><td>Balkán András</td></tr>",
                            "<tr><td>173</td><td>Balkán András</td></tr>",
                            "<tr><td>174</td><td>Balkán András</td></tr>",
                            "<tr><td>175</td><td>Balkán András</td></tr>",
                            "<tr><td>176</td><td>Balkán András</td></tr>",
                            "<tr><td>177</td><td>Balkán András</td></tr>",
                            "<tr><td>178</td><td>Balkán András</td></tr>",
                            "<tr><td>179</td><td>Balkán András</td></tr>",
                            "<tr><td>180</td><td>Balkán András</td></tr>",
                            "<tr><td>181</td><td>Balkán András</td></tr>",
                            "<tr><td>182</td><td>Balkán András</td></tr>",
                            "<tr><td>183</td><td>Balkán András</td></tr>",
                            "<tr><td>184</td><td>Balkán András</td></tr>",
                            "<tr><td>185</td><td>Balkán András</td></tr>",
                            "<tr><td>186</td><td>Kovács László</td></tr>",
                            "<tr><td>187</td><td>Balkán András</td></tr>",
                            "<tr><td>188</td><td>Balkán András</td></tr>",
                            "<tr><td>189</td><td>Balkán András</td></tr>",
                            "<tr><td>190</td><td>Balkán András</td></tr>",
                            "<tr><td>191</td><td>Balkán András</td></tr>",
                            "<tr><td>192</td><td>Balkán András</td></tr>",
                            "<tr><td>193</td><td>Balkán András</td></tr>",
                            "<tr><td>194</td><td>Balkán András</td></tr>",
                            "<tr><td>195</td><td>Balkán András</td></tr>",
                            "<tr><td>196</td><td>Balkán András</td></tr>",
                            "<tr><td>197</td><td>Balkán András</td></tr>",
                            "<tr><td>198</td><td>Balkán András</td></tr>",
                            "<tr><td>199</td><td>Balkán András</td></tr>",
                            "<tr><td>200</td><td>Balkán András</td></tr>",
                            "<tr><td>201</td><td>Pelikán József</td></tr>",
                            "<tr><td>202</td><td>Pelikán József</td></tr>",
                            "<tr><td>203</td><td>Ujfalussi István</td></tr>",
                            "<tr><td>204</td><td>Ujfalussi István</td></tr>",
                            "<tr><td>205</td><td>Kovács László</td></tr>",
                            "<tr><td>206</td><td>Kovács László</td></tr>",
                            "<tr><td>207</td><td>Kovács László</td></tr>",
                            "<tr><td>208</td><td>Jogrerős Pál</td></tr>",
                            "<tr><td>209</td><td>Jogrerős Pál</td></tr>",
                            "<tr><td>210</td><td>Pelikán József</td></tr>",
                            "<tr><td>211</td><td>Pelikán József</td></tr>",
                            "<tr><td>212</td><td>Pelikán József</td></tr>",
                            "<tr><td>213</td><td>Pelikán József</td></tr>",
                            "<tr><td>214</td><td>Pelikán József</td></tr>",
                            "<tr><td>215</td><td>Pelikán József</td></tr>",
                            "<tr><td>216</td><td>Pelikán József</td></tr>",
                            "<tr><td>217</td><td>Pelikán József</td></tr>",
                            "<tr><td>218</td><td>Pelikán József</td></tr>",
                            "<tr><td>219</td><td>Pelikán József</td></tr>",
                            "<tr><td>220</td><td>Kovács László</td></tr>",
                            "<tr><td>221</td><td>Kovács László</td></tr>",
                            "<tr><td>222</td><td>Kovács László</td></tr>",
                            "<tr><td>223</td><td>Kovács László</td></tr>",
                            "<tr><td>226</td><td>Kovács László</td></tr>",
                            "<tr><td>227</td><td>Ujfalussi István</td></tr>",
                            "</table>"
                        ]
                    }
                }
            ],
            "execution_count": 7
        },
        {
            "cell_type": "markdown",
            "source": [
                "13. <span style=\"color: rgb(36, 41, 47); font-family: -apple-system, BlinkMacSystemFont, &quot;Segoe UI&quot;, Helvetica, Arial, sans-serif, &quot;Apple Color Emoji&quot;, &quot;Segoe UI Emoji&quot;; font-size: 16px;\">Készítsünk listát, amely megjeleníti, hogy az Orak táblában lévő órák közül hányat tart Dr., illetve nem Dr. titulusú tanár!</span>\n",
                "\n",
                "1. Az oszlopokat nevezzük el értelemszerűen!"
            ],
            "metadata": {
                "azdata_cell_guid": "3f9237ae-f109-401c-acb9-31d75e73331b"
            },
            "attachments": {}
        },
        {
            "cell_type": "code",
            "source": [
                "SELECT Beosztasok.beosztasnev,\r\n",
                "    CASE \r\n",
                "        when beosztasnev = 'tanársegéd' THEN 8- elvart\r\n",
                "        When beosztasnev = 'Óraadó' Then 10-elvart\r\n",
                "        Else 0\r\n",
                "        END AS 'tulora'\r\n",
                "From Orak JOIN  Oktatok ON Orak.tanar = Oktatok.oktato_id\r\n",
                "            Join Beosztasok ON Oktatok.beosztás =Beosztasok.beosztas_id\r\n",
                "\r\n",
                ""
            ],
            "metadata": {
                "azdata_cell_guid": "4b31bb89-cfbc-46b1-8639-85c462877786",
                "language": "sql"
            },
            "outputs": [
                {
                    "output_type": "display_data",
                    "data": {
                        "text/html": "(67 rows affected)"
                    },
                    "metadata": {}
                },
                {
                    "output_type": "display_data",
                    "data": {
                        "text/html": "Total execution time: 00:00:00.010"
                    },
                    "metadata": {}
                },
                {
                    "output_type": "execute_result",
                    "execution_count": 9,
                    "data": {
                        "application/vnd.dataresource+json": {
                            "schema": {
                                "fields": [
                                    {
                                        "name": "beosztasnev"
                                    },
                                    {
                                        "name": "tulora"
                                    }
                                ]
                            },
                            "data": [
                                {
                                    "beosztasnev": "Egyetemi tanár",
                                    "tulora": "0"
                                },
                                {
                                    "beosztasnev": "Tanársegéd",
                                    "tulora": "2"
                                },
                                {
                                    "beosztasnev": "Tanársegéd",
                                    "tulora": "2"
                                },
                                {
                                    "beosztasnev": "Óraadó",
                                    "tulora": "4"
                                },
                                {
                                    "beosztasnev": "Docens",
                                    "tulora": "0"
                                },
                                {
                                    "beosztasnev": "Tanársegéd",
                                    "tulora": "2"
                                },
                                {
                                    "beosztasnev": "Docens",
                                    "tulora": "0"
                                },
                                {
                                    "beosztasnev": "Docens",
                                    "tulora": "0"
                                },
                                {
                                    "beosztasnev": "Adjunktus",
                                    "tulora": "0"
                                },
                                {
                                    "beosztasnev": "Egyetemi tanár",
                                    "tulora": "0"
                                },
                                {
                                    "beosztasnev": "Óraadó",
                                    "tulora": "4"
                                },
                                {
                                    "beosztasnev": "Óraadó",
                                    "tulora": "4"
                                },
                                {
                                    "beosztasnev": "Adjunktus",
                                    "tulora": "0"
                                },
                                {
                                    "beosztasnev": "Tanársegéd",
                                    "tulora": "2"
                                },
                                {
                                    "beosztasnev": "Óraadó",
                                    "tulora": "4"
                                },
                                {
                                    "beosztasnev": "Óraadó",
                                    "tulora": "4"
                                },
                                {
                                    "beosztasnev": "Adjunktus",
                                    "tulora": "0"
                                },
                                {
                                    "beosztasnev": "Óraadó",
                                    "tulora": "4"
                                },
                                {
                                    "beosztasnev": "Adjunktus",
                                    "tulora": "0"
                                },
                                {
                                    "beosztasnev": "Tanársegéd",
                                    "tulora": "2"
                                },
                                {
                                    "beosztasnev": "Adjunktus",
                                    "tulora": "0"
                                },
                                {
                                    "beosztasnev": "Tanársegéd",
                                    "tulora": "2"
                                },
                                {
                                    "beosztasnev": "Adjunktus",
                                    "tulora": "0"
                                },
                                {
                                    "beosztasnev": "Tanársegéd",
                                    "tulora": "2"
                                },
                                {
                                    "beosztasnev": "Adjunktus",
                                    "tulora": "0"
                                },
                                {
                                    "beosztasnev": "Tanársegéd",
                                    "tulora": "2"
                                },
                                {
                                    "beosztasnev": "Adjunktus",
                                    "tulora": "0"
                                },
                                {
                                    "beosztasnev": "Óraadó",
                                    "tulora": "4"
                                },
                                {
                                    "beosztasnev": "Docens",
                                    "tulora": "0"
                                },
                                {
                                    "beosztasnev": "Tanársegéd",
                                    "tulora": "2"
                                },
                                {
                                    "beosztasnev": "Tanársegéd",
                                    "tulora": "2"
                                },
                                {
                                    "beosztasnev": "Tanársegéd",
                                    "tulora": "2"
                                },
                                {
                                    "beosztasnev": "Docens",
                                    "tulora": "0"
                                },
                                {
                                    "beosztasnev": "Docens",
                                    "tulora": "0"
                                },
                                {
                                    "beosztasnev": "Tanársegéd",
                                    "tulora": "2"
                                },
                                {
                                    "beosztasnev": "Tanársegéd",
                                    "tulora": "2"
                                },
                                {
                                    "beosztasnev": "Docens",
                                    "tulora": "0"
                                },
                                {
                                    "beosztasnev": "Docens",
                                    "tulora": "0"
                                },
                                {
                                    "beosztasnev": "Tanársegéd",
                                    "tulora": "2"
                                },
                                {
                                    "beosztasnev": "Tanársegéd",
                                    "tulora": "2"
                                },
                                {
                                    "beosztasnev": "Óraadó",
                                    "tulora": "4"
                                },
                                {
                                    "beosztasnev": "Óraadó",
                                    "tulora": "4"
                                },
                                {
                                    "beosztasnev": "Egyetemi tanár",
                                    "tulora": "0"
                                },
                                {
                                    "beosztasnev": "Egyetemi tanár",
                                    "tulora": "0"
                                },
                                {
                                    "beosztasnev": "Óraadó",
                                    "tulora": "4"
                                },
                                {
                                    "beosztasnev": "Tanársegéd",
                                    "tulora": "2"
                                },
                                {
                                    "beosztasnev": "Egyetemi tanár",
                                    "tulora": "0"
                                },
                                {
                                    "beosztasnev": "Docens",
                                    "tulora": "0"
                                },
                                {
                                    "beosztasnev": "Docens",
                                    "tulora": "0"
                                },
                                {
                                    "beosztasnev": "Egyetemi tanár",
                                    "tulora": "0"
                                },
                                {
                                    "beosztasnev": "Egyetemi tanár",
                                    "tulora": "0"
                                },
                                {
                                    "beosztasnev": "Adjunktus",
                                    "tulora": "0"
                                },
                                {
                                    "beosztasnev": "Adjunktus",
                                    "tulora": "0"
                                },
                                {
                                    "beosztasnev": "Tanársegéd",
                                    "tulora": "2"
                                },
                                {
                                    "beosztasnev": "Tanársegéd",
                                    "tulora": "2"
                                },
                                {
                                    "beosztasnev": "Tanársegéd",
                                    "tulora": "2"
                                },
                                {
                                    "beosztasnev": "Tanársegéd",
                                    "tulora": "2"
                                },
                                {
                                    "beosztasnev": "Adjunktus",
                                    "tulora": "0"
                                },
                                {
                                    "beosztasnev": "Adjunktus",
                                    "tulora": "0"
                                },
                                {
                                    "beosztasnev": "Tanársegéd",
                                    "tulora": "2"
                                },
                                {
                                    "beosztasnev": "Tanársegéd",
                                    "tulora": "2"
                                },
                                {
                                    "beosztasnev": "Egyetemi tanár",
                                    "tulora": "0"
                                },
                                {
                                    "beosztasnev": "Egyetemi tanár",
                                    "tulora": "0"
                                },
                                {
                                    "beosztasnev": "Egyetemi tanár",
                                    "tulora": "0"
                                },
                                {
                                    "beosztasnev": "Egyetemi tanár",
                                    "tulora": "0"
                                },
                                {
                                    "beosztasnev": "Adjunktus",
                                    "tulora": "0"
                                },
                                {
                                    "beosztasnev": "Adjunktus",
                                    "tulora": "0"
                                }
                            ]
                        },
                        "text/html": "<table><tr><th>beosztasnev</th><th>tulora</th></tr><tr><td>Egyetemi tanár</td><td>0</td></tr><tr><td>Tanársegéd</td><td>2</td></tr><tr><td>Tanársegéd</td><td>2</td></tr><tr><td>Óraadó</td><td>4</td></tr><tr><td>Docens</td><td>0</td></tr><tr><td>Tanársegéd</td><td>2</td></tr><tr><td>Docens</td><td>0</td></tr><tr><td>Docens</td><td>0</td></tr><tr><td>Adjunktus</td><td>0</td></tr><tr><td>Egyetemi tanár</td><td>0</td></tr><tr><td>Óraadó</td><td>4</td></tr><tr><td>Óraadó</td><td>4</td></tr><tr><td>Adjunktus</td><td>0</td></tr><tr><td>Tanársegéd</td><td>2</td></tr><tr><td>Óraadó</td><td>4</td></tr><tr><td>Óraadó</td><td>4</td></tr><tr><td>Adjunktus</td><td>0</td></tr><tr><td>Óraadó</td><td>4</td></tr><tr><td>Adjunktus</td><td>0</td></tr><tr><td>Tanársegéd</td><td>2</td></tr><tr><td>Adjunktus</td><td>0</td></tr><tr><td>Tanársegéd</td><td>2</td></tr><tr><td>Adjunktus</td><td>0</td></tr><tr><td>Tanársegéd</td><td>2</td></tr><tr><td>Adjunktus</td><td>0</td></tr><tr><td>Tanársegéd</td><td>2</td></tr><tr><td>Adjunktus</td><td>0</td></tr><tr><td>Óraadó</td><td>4</td></tr><tr><td>Docens</td><td>0</td></tr><tr><td>Tanársegéd</td><td>2</td></tr><tr><td>Tanársegéd</td><td>2</td></tr><tr><td>Tanársegéd</td><td>2</td></tr><tr><td>Docens</td><td>0</td></tr><tr><td>Docens</td><td>0</td></tr><tr><td>Tanársegéd</td><td>2</td></tr><tr><td>Tanársegéd</td><td>2</td></tr><tr><td>Docens</td><td>0</td></tr><tr><td>Docens</td><td>0</td></tr><tr><td>Tanársegéd</td><td>2</td></tr><tr><td>Tanársegéd</td><td>2</td></tr><tr><td>Óraadó</td><td>4</td></tr><tr><td>Óraadó</td><td>4</td></tr><tr><td>Egyetemi tanár</td><td>0</td></tr><tr><td>Egyetemi tanár</td><td>0</td></tr><tr><td>Óraadó</td><td>4</td></tr><tr><td>Tanársegéd</td><td>2</td></tr><tr><td>Egyetemi tanár</td><td>0</td></tr><tr><td>Docens</td><td>0</td></tr><tr><td>Docens</td><td>0</td></tr><tr><td>Egyetemi tanár</td><td>0</td></tr><tr><td>Egyetemi tanár</td><td>0</td></tr><tr><td>Adjunktus</td><td>0</td></tr><tr><td>Adjunktus</td><td>0</td></tr><tr><td>Tanársegéd</td><td>2</td></tr><tr><td>Tanársegéd</td><td>2</td></tr><tr><td>Tanársegéd</td><td>2</td></tr><tr><td>Tanársegéd</td><td>2</td></tr><tr><td>Adjunktus</td><td>0</td></tr><tr><td>Adjunktus</td><td>0</td></tr><tr><td>Tanársegéd</td><td>2</td></tr><tr><td>Tanársegéd</td><td>2</td></tr><tr><td>Egyetemi tanár</td><td>0</td></tr><tr><td>Egyetemi tanár</td><td>0</td></tr><tr><td>Egyetemi tanár</td><td>0</td></tr><tr><td>Egyetemi tanár</td><td>0</td></tr><tr><td>Adjunktus</td><td>0</td></tr><tr><td>Adjunktus</td><td>0</td></tr></table>"
                    },
                    "metadata": {}
                }
            ],
            "execution_count": 9
        },
        {
            "cell_type": "markdown",
            "source": [
                "14. <span style=\"color: rgb(36, 41, 47); font-family: -apple-system, BlinkMacSystemFont, &quot;Segoe UI&quot;, Helvetica, Arial, sans-serif, &quot;Apple Color Emoji&quot;, &quot;Segoe UI Emoji&quot;; font-size: 16px;\">Készítsünk listát arról, hogy beosztásonként hány óra szerepel az Orak táblában!</span>\n",
                "\n",
                "1. Jelenítsük meg a beosztások nevét és az órák számát!\n",
                "2. A listát szűrjük azokra a beosztásokra, ahol ez az óraszám 10 feletti!"
            ],
            "metadata": {
                "azdata_cell_guid": "f634e09a-85ef-4e70-8ec6-ef355dfddaa7"
            },
            "attachments": {}
        },
        {
            "cell_type": "code",
            "source": [
                "SELECT COUNT(tanar),\r\n",
                "Beosztasok.beosztasnev\r\n",
                "FROM Orak JOIN Oktatok ON Orak.tanar = Oktatok.oktato_id\r\n",
                "JOIN Beosztasok ON Oktatok.beosztás = Beosztasok.beosztas_id\r\n",
                "GROUP BY Beosztasok.beosztasnev\r\n",
                "HAVING COUNT(tanar)>10\r\n",
                ""
            ],
            "metadata": {
                "azdata_cell_guid": "88abc55b-2c78-495b-a72f-3f8f4eb5fe70",
                "language": "sql"
            },
            "outputs": [
                {
                    "output_type": "display_data",
                    "data": {
                        "text/html": "(3 rows affected)"
                    },
                    "metadata": {}
                },
                {
                    "output_type": "display_data",
                    "data": {
                        "text/html": "Total execution time: 00:00:00.035"
                    },
                    "metadata": {}
                },
                {
                    "output_type": "execute_result",
                    "metadata": {},
                    "execution_count": 11,
                    "data": {
                        "application/vnd.dataresource+json": {
                            "schema": {
                                "fields": [
                                    {
                                        "name": "(No column name)"
                                    },
                                    {
                                        "name": "beosztasnev"
                                    }
                                ]
                            },
                            "data": [
                                {
                                    "(No column name)": "14",
                                    "beosztasnev": "Adjunktus"
                                },
                                {
                                    "(No column name)": "11",
                                    "beosztasnev": "Egyetemi tanár"
                                },
                                {
                                    "(No column name)": "22",
                                    "beosztasnev": "Tanársegéd"
                                }
                            ]
                        },
                        "text/html": [
                            "<table>",
                            "<tr><th>(No column name)</th><th>beosztasnev</th></tr>",
                            "<tr><td>14</td><td>Adjunktus</td></tr>",
                            "<tr><td>11</td><td>Egyetemi tanár</td></tr>",
                            "<tr><td>22</td><td>Tanársegéd</td></tr>",
                            "</table>"
                        ]
                    }
                }
            ],
            "execution_count": 11
        },
        {
            "cell_type": "markdown",
            "source": [
                "15. <span style=\"color: rgb(36, 41, 47); font-family: -apple-system, BlinkMacSystemFont, &quot;Segoe UI&quot;, Helvetica, Arial, sans-serif, &quot;Apple Color Emoji&quot;, &quot;Segoe UI Emoji&quot;; font-size: 16px;\">Melyek azok az órák, amelyek kezdési időpontja olyan sávba esik, amely a mostani időpont (óra:perc) után van?</span>\n",
                "\n",
                "1. Listázzuk az órák azonosítóit, valamint az órakezdés napját és időpontját!\n",
                "2. A listát rendezzük az időpont szerint növekvő sorrendbe!"
            ],
            "metadata": {
                "azdata_cell_guid": "4cbf2f0d-a65d-480a-8186-ccdb24498443"
            },
            "attachments": {}
        },
        {
            "cell_type": "code",
            "source": [
                "SELECT b.beosztasnev, COUNT(*) AS 'Óraszám'\r\n",
                "FROM Orak o JOIN Oktatok okt ON o.tanar = okt.oktato_id\r\n",
                "\t\t    JOIN Beosztasok b ON okt.beosztás = b.beosztas_id\r\n",
                "GROUP BY b.beosztasnev\r\n",
                "HAVING COUNT(*) > 10"
            ],
            "metadata": {
                "azdata_cell_guid": "c148aee8-bc85-40bf-b80a-a4898a6c05cb",
                "language": "sql"
            },
            "outputs": [
                {
                    "output_type": "display_data",
                    "data": {
                        "text/html": "(3 rows affected)"
                    },
                    "metadata": {}
                },
                {
                    "output_type": "display_data",
                    "data": {
                        "text/html": "Total execution time: 00:00:00.036"
                    },
                    "metadata": {}
                },
                {
                    "output_type": "execute_result",
                    "metadata": {},
                    "execution_count": 10,
                    "data": {
                        "application/vnd.dataresource+json": {
                            "schema": {
                                "fields": [
                                    {
                                        "name": "beosztasnev"
                                    },
                                    {
                                        "name": "Óraszám"
                                    }
                                ]
                            },
                            "data": [
                                {
                                    "beosztasnev": "Adjunktus",
                                    "Óraszám": "14"
                                },
                                {
                                    "beosztasnev": "Egyetemi tanár",
                                    "Óraszám": "11"
                                },
                                {
                                    "beosztasnev": "Tanársegéd",
                                    "Óraszám": "22"
                                }
                            ]
                        },
                        "text/html": [
                            "<table>",
                            "<tr><th>beosztasnev</th><th>Óraszám</th></tr>",
                            "<tr><td>Adjunktus</td><td>14</td></tr>",
                            "<tr><td>Egyetemi tanár</td><td>11</td></tr>",
                            "<tr><td>Tanársegéd</td><td>22</td></tr>",
                            "</table>"
                        ]
                    }
                }
            ],
            "execution_count": 10
        }
    ]
}