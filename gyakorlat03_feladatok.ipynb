{
    "metadata": {
        "kernelspec": {
            "name": "SQL",
            "display_name": "SQL",
            "language": "sql"
        },
        "language_info": {
            "name": "sql",
            "version": ""
        },
        "extensions": {
            "azuredatastudio": {
                "version": 1,
                "views": []
            }
        }
    },
    "nbformat_minor": 2,
    "nbformat": 4,
    "cells": [
        {
            "cell_type": "markdown",
            "source": [
                "**Az első 5 feladat ismétlés (többtáblás lekérdezések) a tanulmányi adatbázisból**\n",
                "\n",
                "1. Készítsünk listát arról, hogy melyik óra melyik teremben van!\n",
                "    \n",
                "    1. Jelenítsük meg az óra azonosítóját és a terem nevét!\n",
                "    2. A listát szűrjük a 3 karakter hosszú, \\[100;199\\] zárt intervallumba eső termekre! Feltesszük, hogy a 3 karakter hosszú terem nevek csak számjegyeket tartalmaznak."
            ],
            "metadata": {
                "azdata_cell_guid": "77f2d5b3-38e9-41cc-893f-f5afd02b97ef"
            },
            "attachments": {}
        },
        {
            "cell_type": "code",
            "source": [
                "SELECT Orak.ora_id, Termek.Terem\r\n",
                "FROM Orak JOIN Termek ON Orak.terem = Termek.Tkód\r\n",
                "WHERE  LEN(Termek.terem)=3 AND Termek.Terem BETWEEN 100 AND 199"
            ],
            "metadata": {
                "azdata_cell_guid": "bd3cef1a-4e6e-4ece-9dc3-aaa9d2b5d66d",
                "language": "sql"
            },
            "outputs": [
                {
                    "output_type": "display_data",
                    "data": {
                        "text/html": "(30 rows affected)"
                    },
                    "metadata": {}
                },
                {
                    "output_type": "display_data",
                    "data": {
                        "text/html": "Total execution time: 00:00:00.032"
                    },
                    "metadata": {}
                },
                {
                    "output_type": "execute_result",
                    "metadata": {},
                    "execution_count": 2,
                    "data": {
                        "application/vnd.dataresource+json": {
                            "schema": {
                                "fields": [
                                    {
                                        "name": "ora_id"
                                    },
                                    {
                                        "name": "Terem"
                                    }
                                ]
                            },
                            "data": [
                                {
                                    "ora_id": "159",
                                    "Terem": "117"
                                },
                                {
                                    "ora_id": "160",
                                    "Terem": "118"
                                },
                                {
                                    "ora_id": "161",
                                    "Terem": "118"
                                },
                                {
                                    "ora_id": "162",
                                    "Terem": "119"
                                },
                                {
                                    "ora_id": "163",
                                    "Terem": "120"
                                },
                                {
                                    "ora_id": "164",
                                    "Terem": "119"
                                },
                                {
                                    "ora_id": "165",
                                    "Terem": "119"
                                },
                                {
                                    "ora_id": "166",
                                    "Terem": "119"
                                },
                                {
                                    "ora_id": "167",
                                    "Terem": "120"
                                },
                                {
                                    "ora_id": "170",
                                    "Terem": "120"
                                },
                                {
                                    "ora_id": "172",
                                    "Terem": "119"
                                },
                                {
                                    "ora_id": "173",
                                    "Terem": "119"
                                },
                                {
                                    "ora_id": "175",
                                    "Terem": "120"
                                },
                                {
                                    "ora_id": "176",
                                    "Terem": "118"
                                },
                                {
                                    "ora_id": "177",
                                    "Terem": "119"
                                },
                                {
                                    "ora_id": "179",
                                    "Terem": "120"
                                },
                                {
                                    "ora_id": "180",
                                    "Terem": "119"
                                },
                                {
                                    "ora_id": "181",
                                    "Terem": "118"
                                },
                                {
                                    "ora_id": "185",
                                    "Terem": "120"
                                },
                                {
                                    "ora_id": "192",
                                    "Terem": "119"
                                },
                                {
                                    "ora_id": "195",
                                    "Terem": "116"
                                },
                                {
                                    "ora_id": "197",
                                    "Terem": "116"
                                },
                                {
                                    "ora_id": "198",
                                    "Terem": "119"
                                },
                                {
                                    "ora_id": "204",
                                    "Terem": "120"
                                },
                                {
                                    "ora_id": "212",
                                    "Terem": "120"
                                },
                                {
                                    "ora_id": "218",
                                    "Terem": "118"
                                },
                                {
                                    "ora_id": "220",
                                    "Terem": "119"
                                },
                                {
                                    "ora_id": "222",
                                    "Terem": "116"
                                },
                                {
                                    "ora_id": "226",
                                    "Terem": "117"
                                },
                                {
                                    "ora_id": "227",
                                    "Terem": "116"
                                }
                            ]
                        },
                        "text/html": [
                            "<table>",
                            "<tr><th>ora_id</th><th>Terem</th></tr>",
                            "<tr><td>159</td><td>117</td></tr>",
                            "<tr><td>160</td><td>118</td></tr>",
                            "<tr><td>161</td><td>118</td></tr>",
                            "<tr><td>162</td><td>119</td></tr>",
                            "<tr><td>163</td><td>120</td></tr>",
                            "<tr><td>164</td><td>119</td></tr>",
                            "<tr><td>165</td><td>119</td></tr>",
                            "<tr><td>166</td><td>119</td></tr>",
                            "<tr><td>167</td><td>120</td></tr>",
                            "<tr><td>170</td><td>120</td></tr>",
                            "<tr><td>172</td><td>119</td></tr>",
                            "<tr><td>173</td><td>119</td></tr>",
                            "<tr><td>175</td><td>120</td></tr>",
                            "<tr><td>176</td><td>118</td></tr>",
                            "<tr><td>177</td><td>119</td></tr>",
                            "<tr><td>179</td><td>120</td></tr>",
                            "<tr><td>180</td><td>119</td></tr>",
                            "<tr><td>181</td><td>118</td></tr>",
                            "<tr><td>185</td><td>120</td></tr>",
                            "<tr><td>192</td><td>119</td></tr>",
                            "<tr><td>195</td><td>116</td></tr>",
                            "<tr><td>197</td><td>116</td></tr>",
                            "<tr><td>198</td><td>119</td></tr>",
                            "<tr><td>204</td><td>120</td></tr>",
                            "<tr><td>212</td><td>120</td></tr>",
                            "<tr><td>218</td><td>118</td></tr>",
                            "<tr><td>220</td><td>119</td></tr>",
                            "<tr><td>222</td><td>116</td></tr>",
                            "<tr><td>226</td><td>117</td></tr>",
                            "<tr><td>227</td><td>116</td></tr>",
                            "</table>"
                        ]
                    }
                }
            ],
            "execution_count": 2
        },
        {
            "cell_type": "markdown",
            "source": [
                "2. <span style=\"font-weight: 600; color: rgb(36, 41, 47); font-family: -apple-system, BlinkMacSystemFont, &quot;Segoe UI&quot;, Helvetica, Arial, sans-serif, &quot;Apple Color Emoji&quot;, &quot;Segoe UI Emoji&quot;; font-size: 16px;\">Hány óra van összesen az egyes napokon?</span>\n",
                "\n",
                "1. Jelenítsük meg a napok nevét és az órák számát az adott napon!\n",
                "2. Az oszlopokat nevezzük el értelemszerűen!\n",
                "3. A listát rendezzük óraszám szerint növekvő sorrendbe!"
            ],
            "metadata": {
                "azdata_cell_guid": "88f5b4bb-f4c1-4bad-a0c7-b2592687b422"
            },
            "attachments": {}
        },
        {
            "cell_type": "code",
            "source": [
                "SELECT Napok.nap AS 'napok',\r\n",
                "COUNT(Orak.ora_id) AS 'orak szama'\r\n",
                "FROM Orak JOIN Napok ON Orak.nap = Napok.nap_id\r\n",
                "GROUP BY Napok.nap\r\n",
                "ORDER BY [orak szama] ASC"
            ],
            "metadata": {
                "azdata_cell_guid": "e9de5726-f036-4fb9-8c33-a873955ed886",
                "language": "sql"
            },
            "outputs": [
                {
                    "output_type": "display_data",
                    "data": {
                        "text/html": "(5 rows affected)"
                    },
                    "metadata": {}
                },
                {
                    "output_type": "display_data",
                    "data": {
                        "text/html": "Total execution time: 00:00:00.030"
                    },
                    "metadata": {}
                },
                {
                    "output_type": "execute_result",
                    "metadata": {},
                    "execution_count": 3,
                    "data": {
                        "application/vnd.dataresource+json": {
                            "schema": {
                                "fields": [
                                    {
                                        "name": "napok"
                                    },
                                    {
                                        "name": "orak szama"
                                    }
                                ]
                            },
                            "data": [
                                {
                                    "napok": "Péntek",
                                    "orak szama": "6"
                                },
                                {
                                    "napok": "Szerda",
                                    "orak szama": "6"
                                },
                                {
                                    "napok": "Kedd",
                                    "orak szama": "13"
                                },
                                {
                                    "napok": "Csütörtök",
                                    "orak szama": "19"
                                },
                                {
                                    "napok": "Hétfő",
                                    "orak szama": "23"
                                }
                            ]
                        },
                        "text/html": [
                            "<table>",
                            "<tr><th>napok</th><th>orak szama</th></tr>",
                            "<tr><td>Péntek</td><td>6</td></tr>",
                            "<tr><td>Szerda</td><td>6</td></tr>",
                            "<tr><td>Kedd</td><td>13</td></tr>",
                            "<tr><td>Csütörtök</td><td>19</td></tr>",
                            "<tr><td>Hétfő</td><td>23</td></tr>",
                            "</table>"
                        ]
                    }
                }
            ],
            "execution_count": 3
        },
        {
            "cell_type": "markdown",
            "source": [
                "3. <span style=\"font-weight: 600; color: rgb(36, 41, 47); font-family: -apple-system, BlinkMacSystemFont, &quot;Segoe UI&quot;, Helvetica, Arial, sans-serif, &quot;Apple Color Emoji&quot;, &quot;Segoe UI Emoji&quot;; font-size: 16px;\">Készítsünk listát arról, hogy melyik oktatónak hány órája van az Órák táblában!</span>\n",
                "\n",
                "1. A lista jelenítse meg az oktatók nevét, és az órák számát!\n",
                "2. Az oszlopokat nevezzük el értelemszerűen!\n",
                "3. A listából hagyjuk ki az óraadókat!"
            ],
            "metadata": {
                "azdata_cell_guid": "9e7249de-1b59-43d8-84b1-26fa7d81fc5a"
            },
            "attachments": {}
        },
        {
            "cell_type": "code",
            "source": [
                "SELECT Oktatok.nev,\r\n",
                "COUNT(*) AS 'orak szama'\r\n",
                "FROM Orak JOIN Oktatok ON Orak.tanar = Oktatok.oktato_id\r\n",
                "JOIN    Beosztasok ON Oktatok.beosztás = Beosztasok.beosztas_id\r\n",
                "WHERE Oktatok.beosztás <> 1\r\n",
                "GROUP BY Oktatok.nev\r\n",
                "ORDER BY Oktatok.nev ASC"
            ],
            "metadata": {
                "azdata_cell_guid": "6405d3e8-a9b1-45d7-aa76-3b1e785ef6cc",
                "language": "sql"
            },
            "outputs": [
                {
                    "output_type": "display_data",
                    "data": {
                        "text/html": "(15 rows affected)"
                    },
                    "metadata": {}
                },
                {
                    "output_type": "display_data",
                    "data": {
                        "text/html": "Total execution time: 00:00:00.028"
                    },
                    "metadata": {}
                },
                {
                    "output_type": "execute_result",
                    "metadata": {},
                    "execution_count": 4,
                    "data": {
                        "application/vnd.dataresource+json": {
                            "schema": {
                                "fields": [
                                    {
                                        "name": "nev"
                                    },
                                    {
                                        "name": "orak szama"
                                    }
                                ]
                            },
                            "data": [
                                {
                                    "nev": "Balkán András",
                                    "orak szama": "3"
                                },
                                {
                                    "nev": "Farkasos Piroska",
                                    "orak szama": "7"
                                },
                                {
                                    "nev": "Jogrerős Pál",
                                    "orak szama": "2"
                                },
                                {
                                    "nev": "Juhász András",
                                    "orak szama": "2"
                                },
                                {
                                    "nev": "Kiss János",
                                    "orak szama": "4"
                                },
                                {
                                    "nev": "Kovács László",
                                    "orak szama": "4"
                                },
                                {
                                    "nev": "Pelikán József",
                                    "orak szama": "6"
                                },
                                {
                                    "nev": "Róbert Gida",
                                    "orak szama": "1"
                                },
                                {
                                    "nev": "Szénási ászló",
                                    "orak szama": "2"
                                },
                                {
                                    "nev": "Szentágotai Istvás",
                                    "orak szama": "8"
                                },
                                {
                                    "nev": "Szép llonka",
                                    "orak szama": "4"
                                },
                                {
                                    "nev": "Szerb László",
                                    "orak szama": "3"
                                },
                                {
                                    "nev": "Ujfalussi István",
                                    "orak szama": "3"
                                },
                                {
                                    "nev": "Varga Kata",
                                    "orak szama": "4"
                                },
                                {
                                    "nev": "Vitéz János",
                                    "orak szama": "4"
                                }
                            ]
                        },
                        "text/html": [
                            "<table>",
                            "<tr><th>nev</th><th>orak szama</th></tr>",
                            "<tr><td>Balkán András</td><td>3</td></tr>",
                            "<tr><td>Farkasos Piroska</td><td>7</td></tr>",
                            "<tr><td>Jogrerős Pál</td><td>2</td></tr>",
                            "<tr><td>Juhász András</td><td>2</td></tr>",
                            "<tr><td>Kiss János</td><td>4</td></tr>",
                            "<tr><td>Kovács László</td><td>4</td></tr>",
                            "<tr><td>Pelikán József</td><td>6</td></tr>",
                            "<tr><td>Róbert Gida</td><td>1</td></tr>",
                            "<tr><td>Szénási ászló</td><td>2</td></tr>",
                            "<tr><td>Szentágotai Istvás</td><td>8</td></tr>",
                            "<tr><td>Szép llonka</td><td>4</td></tr>",
                            "<tr><td>Szerb László</td><td>3</td></tr>",
                            "<tr><td>Ujfalussi István</td><td>3</td></tr>",
                            "<tr><td>Varga Kata</td><td>4</td></tr>",
                            "<tr><td>Vitéz János</td><td>4</td></tr>",
                            "</table>"
                        ]
                    }
                }
            ],
            "execution_count": 4
        },
        {
            "cell_type": "markdown",
            "source": [
                "4. <span style=\"color: rgb(36, 41, 47); font-family: -apple-system, BlinkMacSystemFont, &quot;Segoe UI&quot;, Helvetica, Arial, sans-serif, &quot;Apple Color Emoji&quot;, &quot;Segoe UI Emoji&quot;; font-size: 16px;\">Van-e olyan tantárgy, amelyből nincs óra?</span>\n",
                "\n",
                "1. Jelentsük meg a tantárgy nevét és a tantárgyfelelős nevét!"
            ],
            "metadata": {
                "azdata_cell_guid": "6478e469-c094-472c-a772-ccd5b5c61516"
            },
            "attachments": {}
        },
        {
            "cell_type": "code",
            "source": [
                "SELECT Tantárgyak.Tantárgynév,\r\n",
                "Oktatok.nev\r\n",
                "FROM Tantárgyak Join Oktatok ON Tantárgyak.Tantárgyfelelős = Oktatok.oktato_id\r\n",
                ""
            ],
            "metadata": {
                "azdata_cell_guid": "02031ea2-3838-458d-839c-228e3b362b61",
                "language": "sql"
            },
            "outputs": [
                {
                    "output_type": "display_data",
                    "data": {
                        "text/html": "(13 rows affected)"
                    },
                    "metadata": {}
                },
                {
                    "output_type": "display_data",
                    "data": {
                        "text/html": "Total execution time: 00:00:00.030"
                    },
                    "metadata": {}
                },
                {
                    "output_type": "execute_result",
                    "metadata": {},
                    "execution_count": 9,
                    "data": {
                        "application/vnd.dataresource+json": {
                            "schema": {
                                "fields": [
                                    {
                                        "name": "Tantárgynév"
                                    },
                                    {
                                        "name": "nev"
                                    }
                                ]
                            },
                            "data": [
                                {
                                    "Tantárgynév": "Az ürgeöntés alapjai",
                                    "nev": "Balkán András"
                                },
                                {
                                    "Tantárgynév": "Bevezetés az ürgeöntésbe",
                                    "nev": "Balkán András"
                                },
                                {
                                    "Tantárgynév": "Az ürge anatómiája",
                                    "nev": "Pelikán József"
                                },
                                {
                                    "Tantárgynév": "Az ürgeöntés hydrológiai alapjai I.",
                                    "nev": "Ujfalussi István"
                                },
                                {
                                    "Tantárgynév": "Az ürgeöntés hydrológiai alapjai II.",
                                    "nev": "Balkán András"
                                },
                                {
                                    "Tantárgynév": "Ürgeöntés az EU-ban",
                                    "nev": "Pelikán József"
                                },
                                {
                                    "Tantárgynév": "Fejezetek az ürgék jogaiból",
                                    "nev": "Kovács László"
                                },
                                {
                                    "Tantárgynév": "Folyami gáttan",
                                    "nev": "Varga Kata"
                                },
                                {
                                    "Tantárgynév": "Ürgevitel",
                                    "nev": "Jogrerős Pál"
                                },
                                {
                                    "Tantárgynév": "ü-business",
                                    "nev": "Kovács László"
                                },
                                {
                                    "Tantárgynév": "Öntési gyakorlat",
                                    "nev": "Pelikán József"
                                },
                                {
                                    "Tantárgynév": "Az öntés elmélete",
                                    "nev": "Kovács László"
                                },
                                {
                                    "Tantárgynév": "ürgefőzés",
                                    "nev": "Kovács László"
                                }
                            ]
                        },
                        "text/html": [
                            "<table>",
                            "<tr><th>Tantárgynév</th><th>nev</th></tr>",
                            "<tr><td>Az ürgeöntés alapjai</td><td>Balkán András</td></tr>",
                            "<tr><td>Bevezetés az ürgeöntésbe</td><td>Balkán András</td></tr>",
                            "<tr><td>Az ürge anatómiája</td><td>Pelikán József</td></tr>",
                            "<tr><td>Az ürgeöntés hydrológiai alapjai I.</td><td>Ujfalussi István</td></tr>",
                            "<tr><td>Az ürgeöntés hydrológiai alapjai II.</td><td>Balkán András</td></tr>",
                            "<tr><td>Ürgeöntés az EU-ban</td><td>Pelikán József</td></tr>",
                            "<tr><td>Fejezetek az ürgék jogaiból</td><td>Kovács László</td></tr>",
                            "<tr><td>Folyami gáttan</td><td>Varga Kata</td></tr>",
                            "<tr><td>Ürgevitel</td><td>Jogrerős Pál</td></tr>",
                            "<tr><td>ü-business</td><td>Kovács László</td></tr>",
                            "<tr><td>Öntési gyakorlat</td><td>Pelikán József</td></tr>",
                            "<tr><td>Az öntés elmélete</td><td>Kovács László</td></tr>",
                            "<tr><td>ürgefőzés</td><td>Kovács László</td></tr>",
                            "</table>"
                        ]
                    }
                }
            ],
            "execution_count": 9
        },
        {
            "cell_type": "markdown",
            "source": [
                "5. <span style=\"background-color: rgb(255, 255, 255); color: rgb(36, 41, 47); font-family: -apple-system, BlinkMacSystemFont, &quot;Segoe UI&quot;, Helvetica, Arial, sans-serif, &quot;Apple Color Emoji&quot;, &quot;Segoe UI Emoji&quot;; font-size: 16px;\">Hány óra van összesen a 120-as teremben?</span>"
            ],
            "metadata": {
                "azdata_cell_guid": "9edbbaf9-c276-4898-9a01-e1b2993c089f"
            },
            "attachments": {}
        },
        {
            "cell_type": "code",
            "source": [
                ""
            ],
            "metadata": {
                "azdata_cell_guid": "5ad5fdcb-2878-4111-861a-833bcd50e935",
                "language": "sql"
            },
            "outputs": [
                {
                    "output_type": "display_data",
                    "data": {
                        "text/html": "Commands completed successfully."
                    },
                    "metadata": {}
                },
                {
                    "output_type": "display_data",
                    "data": {
                        "text/html": "Total execution time: 00:00:00"
                    },
                    "metadata": {}
                }
            ],
            "execution_count": 5
        },
        {
            "cell_type": "markdown",
            "source": [
                "**A 6-10 feladatokat halmazműveletek segítségével oldjuk meg, szintén a tanulmányi adatbázison**\n",
                "\n",
                "6. <span style=\"background-color:rgb(255, 255, 255);color:rgb(36, 41, 47);font-family:-apple-system, BlinkMacSystemFont, &quot;Segoe UI&quot;, Helvetica, Arial, sans-serif, &quot;Apple Color Emoji&quot;, &quot;Segoe UI Emoji&quot;;font-size:16px;font-weight:600;\">Jelenítsük meg azon tanárok azonosítóját és nevét, akik hétfői vagy keddi napokon tanítanak!</span>"
            ],
            "metadata": {
                "azdata_cell_guid": "5fe65c1c-2479-45ac-ad03-ec99d12eae21"
            },
            "attachments": {}
        },
        {
            "cell_type": "code",
            "source": [
                ""
            ],
            "metadata": {
                "azdata_cell_guid": "924f2dde-f1c2-4def-a7f9-dbf4bace7735",
                "language": "sql"
            },
            "outputs": [
                {
                    "output_type": "display_data",
                    "data": {
                        "text/html": "Commands completed successfully."
                    },
                    "metadata": {}
                },
                {
                    "output_type": "display_data",
                    "data": {
                        "text/html": "Total execution time: 00:00:00"
                    },
                    "metadata": {}
                }
            ],
            "execution_count": 6
        },
        {
            "cell_type": "markdown",
            "source": [
                "7. <span style=\"background-color: rgb(255, 255, 255); color: rgb(36, 41, 47); font-family: -apple-system, BlinkMacSystemFont, &quot;Segoe UI&quot;, Helvetica, Arial, sans-serif, &quot;Apple Color Emoji&quot;, &quot;Segoe UI Emoji&quot;; font-size: 16px; font-weight: 600;\">Melyek azok a tantárgyak, amelyek esetén van óra a 8.00-kor kezdődő sávban, de nincs a 12.30-kor kezdődő sávban?</span>"
            ],
            "metadata": {
                "azdata_cell_guid": "3aeb6bf5-b111-40d5-92b2-9712ce335696"
            },
            "attachments": {}
        },
        {
            "cell_type": "code",
            "source": [
                ""
            ],
            "metadata": {
                "azdata_cell_guid": "3e89b651-f56f-4102-af52-30eb2bbe360d",
                "language": "sql"
            },
            "outputs": [
                {
                    "output_type": "display_data",
                    "data": {
                        "text/html": "Commands completed successfully."
                    },
                    "metadata": {}
                },
                {
                    "output_type": "display_data",
                    "data": {
                        "text/html": "Total execution time: 00:00:00"
                    },
                    "metadata": {}
                }
            ],
            "execution_count": 7
        },
        {
            "cell_type": "markdown",
            "source": [
                "8. <span style=\"background-color: rgb(255, 255, 255); color: rgb(36, 41, 47); font-family: -apple-system, BlinkMacSystemFont, &quot;Segoe UI&quot;, Helvetica, Arial, sans-serif, &quot;Apple Color Emoji&quot;, &quot;Segoe UI Emoji&quot;; font-size: 16px; font-weight: 600;\">Listázzuk azokat a termeket, amelyekben oktat Kovács László és van olyan tanóra a teremben, ahol a tantárgy nevében nem szerepel az 'ürge' szó!</span>"
            ],
            "metadata": {
                "azdata_cell_guid": "26a504dc-ff6a-439f-94c0-4580eca3eacf"
            },
            "attachments": {}
        },
        {
            "cell_type": "code",
            "source": [
                ""
            ],
            "metadata": {
                "azdata_cell_guid": "1cbb8aeb-78b5-4350-aa45-e3202fdab85b",
                "language": "sql"
            },
            "outputs": [
                {
                    "output_type": "display_data",
                    "data": {
                        "text/html": "Commands completed successfully."
                    },
                    "metadata": {}
                },
                {
                    "output_type": "display_data",
                    "data": {
                        "text/html": "Total execution time: 00:00:00"
                    },
                    "metadata": {}
                }
            ],
            "execution_count": 8
        },
        {
            "cell_type": "markdown",
            "source": [
                "9. <span style=\"font-weight: 600; color: rgb(36, 41, 47); font-family: -apple-system, BlinkMacSystemFont, &quot;Segoe UI&quot;, Helvetica, Arial, sans-serif, &quot;Apple Color Emoji&quot;, &quot;Segoe UI Emoji&quot;; font-size: 16px;\">Készítsünk listát arról, hogy melyik tanárnak hány órája van a (munka) hét elején (hétfőn), hét közben (kedd, szerda és csütörtök), illetve a hét végén (péntek)!</span>\n",
                "\n",
                "1. Jelenítsük meg a tanár azonosítóját, nevét, az időszakot (hét eleje - hét közben - hét vége), valamint az óraszámot!\n",
                "2. A három megjelölt időszakot külön kérdezzük le, majd fűzzük össze a lekérdezések eredményeit!\n",
                "3. Rendezzük a listát az oktató neve, azon belül időszak szerint!"
            ],
            "metadata": {
                "azdata_cell_guid": "435e2860-2dd5-4877-90f4-34a43baeb53c"
            },
            "attachments": {}
        },
        {
            "cell_type": "code",
            "source": [
                ""
            ],
            "metadata": {
                "azdata_cell_guid": "ce846351-ddbe-4d8e-b8fb-2a92c73ac80b",
                "language": "sql"
            },
            "outputs": [
                {
                    "output_type": "display_data",
                    "data": {
                        "text/html": "Commands completed successfully."
                    },
                    "metadata": {}
                },
                {
                    "output_type": "display_data",
                    "data": {
                        "text/html": "Total execution time: 00:00:00"
                    },
                    "metadata": {}
                }
            ],
            "execution_count": 9
        },
        {
            "cell_type": "markdown",
            "source": [
                "10. <span style=\"background-color: rgb(255, 255, 255); color: rgb(36, 41, 47); font-family: -apple-system, BlinkMacSystemFont, &quot;Segoe UI&quot;, Helvetica, Arial, sans-serif, &quot;Apple Color Emoji&quot;, &quot;Segoe UI Emoji&quot;; font-size: 16px; font-weight: 600;\">Melyik napokon nincs órája Pelikán Józsefnek?</span>"
            ],
            "metadata": {
                "azdata_cell_guid": "217c5772-afe2-4a7c-b913-e3a3e09d6411"
            },
            "attachments": {}
        },
        {
            "cell_type": "code",
            "source": [
                "SELECT nap\r\n",
                "FROM Napok \r\n",
                "\r\n",
                "EXCEPT\r\n",
                "\r\n",
                "SELECT Napok.nap\r\n",
                "FROM Orak JOIN Napok On Orak.nap = Napok.nap_id\r\n",
                "        JOIN Oktatok ON Orak.tanar = Oktatok.oktato_id\r\n",
                "WHERE Oktatok.nev = 'Pelikán József'"
            ],
            "metadata": {
                "azdata_cell_guid": "a9cc0926-3dbd-4ed8-8179-1c39d64a0762",
                "language": "sql"
            },
            "outputs": [
                {
                    "output_type": "display_data",
                    "data": {
                        "text/html": "(3 rows affected)"
                    },
                    "metadata": {}
                },
                {
                    "output_type": "display_data",
                    "data": {
                        "text/html": "Total execution time: 00:00:00.029"
                    },
                    "metadata": {}
                },
                {
                    "output_type": "execute_result",
                    "execution_count": 55,
                    "data": {
                        "application/vnd.dataresource+json": {
                            "schema": {
                                "fields": [
                                    {
                                        "name": "nap"
                                    }
                                ]
                            },
                            "data": [
                                {
                                    "nap": "Csütörtök"
                                },
                                {
                                    "nap": "Péntek"
                                },
                                {
                                    "nap": "Szerda"
                                }
                            ]
                        },
                        "text/html": "<table><tr><th>nap</th></tr><tr><td>Csütörtök</td></tr><tr><td>Péntek</td></tr><tr><td>Szerda</td></tr></table>"
                    },
                    "metadata": {}
                }
            ],
            "execution_count": 55
        },
        {
            "cell_type": "markdown",
            "source": [
                "**A 11-15 feladatok gyakorlásra szolgálnak a közelgő zh-ra :-)**\n",
                "\n",
                "11. _Készítsünk listát az oktatók adatairól!_\n",
                "\n",
                "1. Az oktatók titulusa és neve összefűzve jelenjen meg, közöttük szóközzel!\n",
                "2. Ha valakinek nincs titulusa, akkor csak a neve jelenjen meg, szóköz nélkül!\n",
                "3. A listát rendezzük a beosztás kódja, azon belül a státusz kódja szerint növekvő sorrendbe!\n",
                "4. Az oszlopokat nevezzük el értelemszerűen!"
            ],
            "metadata": {
                "azdata_cell_guid": "d2340f5f-1614-473c-b937-85740d67f7c1"
            },
            "attachments": {}
        },
        {
            "cell_type": "code",
            "source": [
                "SELECT *,\r\n",
                "Case WHEN titulus IS NULL THEN nev \r\n",
                "ELSE titulus +  ' '+ nev\r\n",
                "END as 'uj'\r\n",
                "FROM Oktatok\r\n",
                "ORDER BY beosztás, status ASC"
            ],
            "metadata": {
                "azdata_cell_guid": "e99c2c53-898f-4787-b0e6-182d106dc16f",
                "language": "sql"
            },
            "outputs": [
                {
                    "output_type": "display_data",
                    "data": {
                        "text/html": "(25 rows affected)"
                    },
                    "metadata": {}
                },
                {
                    "output_type": "display_data",
                    "data": {
                        "text/html": "Total execution time: 00:00:00.034"
                    },
                    "metadata": {}
                },
                {
                    "output_type": "execute_result",
                    "metadata": {},
                    "execution_count": 15,
                    "data": {
                        "application/vnd.dataresource+json": {
                            "schema": {
                                "fields": [
                                    {
                                        "name": "oktato_id"
                                    },
                                    {
                                        "name": "nev"
                                    },
                                    {
                                        "name": "titulus"
                                    },
                                    {
                                        "name": "beosztás"
                                    },
                                    {
                                        "name": "status"
                                    },
                                    {
                                        "name": "uj"
                                    }
                                ]
                            },
                            "data": [
                                {
                                    "oktato_id": "18",
                                    "nev": "Nógrádi Kata",
                                    "titulus": "NULL",
                                    "beosztás": "1",
                                    "status": "1",
                                    "uj": "Nógrádi Kata"
                                },
                                {
                                    "oktato_id": "19",
                                    "nev": "Rácz András",
                                    "titulus": "NULL",
                                    "beosztás": "1",
                                    "status": "1",
                                    "uj": "Rácz András"
                                },
                                {
                                    "oktato_id": "20",
                                    "nev": "Kovács András",
                                    "titulus": "NULL",
                                    "beosztás": "1",
                                    "status": "1",
                                    "uj": "Kovács András"
                                },
                                {
                                    "oktato_id": "104",
                                    "nev": "Ludas Mátyás",
                                    "titulus": "NULL",
                                    "beosztás": "1",
                                    "status": "1",
                                    "uj": "Ludas Mátyás"
                                },
                                {
                                    "oktato_id": "200",
                                    "nev": "Aranyi Mária",
                                    "titulus": "NULL",
                                    "beosztás": "1",
                                    "status": "1",
                                    "uj": "Aranyi Mária"
                                },
                                {
                                    "oktato_id": "300",
                                    "nev": "Szabó Andrera",
                                    "titulus": "NULL",
                                    "beosztás": "1",
                                    "status": "1",
                                    "uj": "Szabó Andrera"
                                },
                                {
                                    "oktato_id": "105",
                                    "nev": "Kiss István",
                                    "titulus": "NULL",
                                    "beosztás": "1",
                                    "status": "2",
                                    "uj": "Kiss István"
                                },
                                {
                                    "oktato_id": "107",
                                    "nev": "Mészáros Kriszta",
                                    "titulus": "NULL",
                                    "beosztás": "1",
                                    "status": "2",
                                    "uj": "Mészáros Kriszta"
                                },
                                {
                                    "oktato_id": "108",
                                    "nev": "Róbert Gida",
                                    "titulus": "NULL",
                                    "beosztás": "2",
                                    "status": "1",
                                    "uj": "Róbert Gida"
                                },
                                {
                                    "oktato_id": "111",
                                    "nev": "Vitéz János",
                                    "titulus": "NULL",
                                    "beosztás": "2",
                                    "status": "1",
                                    "uj": "Vitéz János"
                                },
                                {
                                    "oktato_id": "7",
                                    "nev": "Kiss János",
                                    "titulus": "NULL",
                                    "beosztás": "2",
                                    "status": "1",
                                    "uj": "Kiss János"
                                },
                                {
                                    "oktato_id": "8",
                                    "nev": "Pelikán József",
                                    "titulus": "NULL",
                                    "beosztás": "2",
                                    "status": "3",
                                    "uj": "Pelikán József"
                                },
                                {
                                    "oktato_id": "9",
                                    "nev": "Farkasos Piroska",
                                    "titulus": "NULL",
                                    "beosztás": "2",
                                    "status": "3",
                                    "uj": "Farkasos Piroska"
                                },
                                {
                                    "oktato_id": "6",
                                    "nev": "Szép llonka",
                                    "titulus": "Dr.",
                                    "beosztás": "3",
                                    "status": "1",
                                    "uj": "Dr. Szép llonka"
                                },
                                {
                                    "oktato_id": "14",
                                    "nev": "Szénási ászló",
                                    "titulus": "NULL",
                                    "beosztás": "3",
                                    "status": "1",
                                    "uj": "Szénási ászló"
                                },
                                {
                                    "oktato_id": "2",
                                    "nev": "Szentágotai Istvás",
                                    "titulus": "Dr.",
                                    "beosztás": "3",
                                    "status": "2",
                                    "uj": "Dr. Szentágotai Istvás"
                                },
                                {
                                    "oktato_id": "3",
                                    "nev": "Szerb László",
                                    "titulus": "NULL",
                                    "beosztás": "4",
                                    "status": "1",
                                    "uj": "Szerb László"
                                },
                                {
                                    "oktato_id": "11",
                                    "nev": "Józsa Gábor",
                                    "titulus": "Dr.",
                                    "beosztás": "4",
                                    "status": "1",
                                    "uj": "Dr. Józsa Gábor"
                                },
                                {
                                    "oktato_id": "12",
                                    "nev": "Varga Kata",
                                    "titulus": "Dr.",
                                    "beosztás": "4",
                                    "status": "1",
                                    "uj": "Dr. Varga Kata"
                                },
                                {
                                    "oktato_id": "5",
                                    "nev": "Balkán András",
                                    "titulus": "Dr.",
                                    "beosztás": "4",
                                    "status": "2",
                                    "uj": "Dr. Balkán András"
                                },
                                {
                                    "oktato_id": "302",
                                    "nev": "Kovacs Istvan",
                                    "titulus": "Dr.",
                                    "beosztás": "5",
                                    "status": "1",
                                    "uj": "Dr. Kovacs Istvan"
                                },
                                {
                                    "oktato_id": "301",
                                    "nev": "Juhász András",
                                    "titulus": "Dr.",
                                    "beosztás": "6",
                                    "status": "1",
                                    "uj": "Dr. Juhász András"
                                },
                                {
                                    "oktato_id": "10",
                                    "nev": "Jogrerős Pál",
                                    "titulus": "Prof.",
                                    "beosztás": "6",
                                    "status": "1",
                                    "uj": "Prof. Jogrerős Pál"
                                },
                                {
                                    "oktato_id": "1",
                                    "nev": "Kovács László",
                                    "titulus": "Dr.",
                                    "beosztás": "6",
                                    "status": "2",
                                    "uj": "Dr. Kovács László"
                                },
                                {
                                    "oktato_id": "4",
                                    "nev": "Ujfalussi István",
                                    "titulus": "Prof, tanszékvezető",
                                    "beosztás": "6",
                                    "status": "2",
                                    "uj": "Prof, tanszékvezető Ujfalussi István"
                                }
                            ]
                        },
                        "text/html": [
                            "<table>",
                            "<tr><th>oktato_id</th><th>nev</th><th>titulus</th><th>beosztás</th><th>status</th><th>uj</th></tr>",
                            "<tr><td>18</td><td>Nógrádi Kata</td><td>NULL</td><td>1</td><td>1</td><td>Nógrádi Kata</td></tr>",
                            "<tr><td>19</td><td>Rácz András</td><td>NULL</td><td>1</td><td>1</td><td>Rácz András</td></tr>",
                            "<tr><td>20</td><td>Kovács András</td><td>NULL</td><td>1</td><td>1</td><td>Kovács András</td></tr>",
                            "<tr><td>104</td><td>Ludas Mátyás</td><td>NULL</td><td>1</td><td>1</td><td>Ludas Mátyás</td></tr>",
                            "<tr><td>200</td><td>Aranyi Mária</td><td>NULL</td><td>1</td><td>1</td><td>Aranyi Mária</td></tr>",
                            "<tr><td>300</td><td>Szabó Andrera</td><td>NULL</td><td>1</td><td>1</td><td>Szabó Andrera</td></tr>",
                            "<tr><td>105</td><td>Kiss István</td><td>NULL</td><td>1</td><td>2</td><td>Kiss István</td></tr>",
                            "<tr><td>107</td><td>Mészáros Kriszta</td><td>NULL</td><td>1</td><td>2</td><td>Mészáros Kriszta</td></tr>",
                            "<tr><td>108</td><td>Róbert Gida</td><td>NULL</td><td>2</td><td>1</td><td>Róbert Gida</td></tr>",
                            "<tr><td>111</td><td>Vitéz János</td><td>NULL</td><td>2</td><td>1</td><td>Vitéz János</td></tr>",
                            "<tr><td>7</td><td>Kiss János</td><td>NULL</td><td>2</td><td>1</td><td>Kiss János</td></tr>",
                            "<tr><td>8</td><td>Pelikán József</td><td>NULL</td><td>2</td><td>3</td><td>Pelikán József</td></tr>",
                            "<tr><td>9</td><td>Farkasos Piroska</td><td>NULL</td><td>2</td><td>3</td><td>Farkasos Piroska</td></tr>",
                            "<tr><td>6</td><td>Szép llonka</td><td>Dr.</td><td>3</td><td>1</td><td>Dr. Szép llonka</td></tr>",
                            "<tr><td>14</td><td>Szénási ászló</td><td>NULL</td><td>3</td><td>1</td><td>Szénási ászló</td></tr>",
                            "<tr><td>2</td><td>Szentágotai Istvás</td><td>Dr.</td><td>3</td><td>2</td><td>Dr. Szentágotai Istvás</td></tr>",
                            "<tr><td>3</td><td>Szerb László</td><td>NULL</td><td>4</td><td>1</td><td>Szerb László</td></tr>",
                            "<tr><td>11</td><td>Józsa Gábor</td><td>Dr.</td><td>4</td><td>1</td><td>Dr. Józsa Gábor</td></tr>",
                            "<tr><td>12</td><td>Varga Kata</td><td>Dr.</td><td>4</td><td>1</td><td>Dr. Varga Kata</td></tr>",
                            "<tr><td>5</td><td>Balkán András</td><td>Dr.</td><td>4</td><td>2</td><td>Dr. Balkán András</td></tr>",
                            "<tr><td>302</td><td>Kovacs Istvan</td><td>Dr.</td><td>5</td><td>1</td><td>Dr. Kovacs Istvan</td></tr>",
                            "<tr><td>301</td><td>Juhász András</td><td>Dr.</td><td>6</td><td>1</td><td>Dr. Juhász András</td></tr>",
                            "<tr><td>10</td><td>Jogrerős Pál</td><td>Prof.</td><td>6</td><td>1</td><td>Prof. Jogrerős Pál</td></tr>",
                            "<tr><td>1</td><td>Kovács László</td><td>Dr.</td><td>6</td><td>2</td><td>Dr. Kovács László</td></tr>",
                            "<tr><td>4</td><td>Ujfalussi István</td><td>Prof, tanszékvezető</td><td>6</td><td>2</td><td>Prof, tanszékvezető Ujfalussi István</td></tr>",
                            "</table>"
                        ]
                    }
                }
            ],
            "execution_count": 15
        },
        {
            "cell_type": "markdown",
            "source": [
                "<span style=\"color: #09885a;\">12</span>. Készítsünk listát, amely megmutatja, hogy összesen hány tantárgy van kreditenkénti csoportosításban!\n",
                "\n",
                "  \n",
                "\n",
                "A listából hagyjuk ki azokat a tételeket, ahol ez a darabszám <span style=\"color: #09885a;\">1</span>!\n",
                "\n",
                "A Folyami gáttan tantárgyat ne vegyük figyelembe!\n",
                "\n",
                "A listát rendezzük darabszám szerint csökkenő sorrendbe!\n",
                "\n",
                "Az oszlopokat nevezzük el értelemszerűen!"
            ],
            "metadata": {
                "azdata_cell_guid": "a765e9d6-58b3-4171-872a-78f3118fd6e3"
            },
            "attachments": {}
        },
        {
            "cell_type": "code",
            "source": [
                ""
            ],
            "metadata": {
                "azdata_cell_guid": "422e8127-b652-4d3a-bfd7-9b1637b5781e",
                "language": "sql"
            },
            "outputs": [
                {
                    "output_type": "display_data",
                    "data": {
                        "text/html": "Commands completed successfully."
                    },
                    "metadata": {}
                },
                {
                    "output_type": "display_data",
                    "data": {
                        "text/html": "Total execution time: 00:00:00"
                    },
                    "metadata": {}
                }
            ],
            "execution_count": 12
        },
        {
            "cell_type": "markdown",
            "source": [
                "13. _Készítsünk listát az oktatók nevéről, a beosztásuk alapján elvárt és a tényleges óraszámukról!_\n",
                "\n",
                "1. Az oszlopok neve legyen 'Oktató neve', 'Elvárt óraszám' és 'Tényleges óraszám'\n",
                "2. Szűrjük a listát azokra az oktatókra, ahol az elvárt és a tényleges óraszám azonos"
            ],
            "metadata": {
                "azdata_cell_guid": "3f9237ae-f109-401c-acb9-31d75e73331b"
            },
            "attachments": {}
        },
        {
            "cell_type": "code",
            "source": [
                "SELECT Oktatok.nev,\r\n",
                "Beosztasok.elvart,\r\n",
                "COUNT(*) AS 'asd'\r\n",
                "FROM Orak JOIN Oktatok On ORak.tanar = Oktatok.oktato_id\r\n",
                "JOIN Beosztasok on Oktatok.beosztás = Beosztasok.beosztas_id\r\n",
                "GROUP BY Oktatok.nev, Beosztasok.elvart"
            ],
            "metadata": {
                "azdata_cell_guid": "4b31bb89-cfbc-46b1-8639-85c462877786",
                "language": "sql"
            },
            "outputs": [
                {
                    "output_type": "display_data",
                    "data": {
                        "text/html": "(20 rows affected)"
                    },
                    "metadata": {}
                },
                {
                    "output_type": "display_data",
                    "data": {
                        "text/html": "Total execution time: 00:00:00.053"
                    },
                    "metadata": {}
                },
                {
                    "output_type": "execute_result",
                    "metadata": {},
                    "execution_count": 20,
                    "data": {
                        "application/vnd.dataresource+json": {
                            "schema": {
                                "fields": [
                                    {
                                        "name": "nev"
                                    },
                                    {
                                        "name": "elvart"
                                    },
                                    {
                                        "name": "asd"
                                    }
                                ]
                            },
                            "data": [
                                {
                                    "nev": "Jogrerős Pál",
                                    "elvart": "2",
                                    "asd": "2"
                                },
                                {
                                    "nev": "Juhász András",
                                    "elvart": "2",
                                    "asd": "2"
                                },
                                {
                                    "nev": "Kovács László",
                                    "elvart": "2",
                                    "asd": "4"
                                },
                                {
                                    "nev": "Ujfalussi István",
                                    "elvart": "2",
                                    "asd": "3"
                                },
                                {
                                    "nev": "Balkán András",
                                    "elvart": "4",
                                    "asd": "3"
                                },
                                {
                                    "nev": "Szerb László",
                                    "elvart": "4",
                                    "asd": "3"
                                },
                                {
                                    "nev": "Varga Kata",
                                    "elvart": "4",
                                    "asd": "4"
                                },
                                {
                                    "nev": "Szénási ászló",
                                    "elvart": "5",
                                    "asd": "2"
                                },
                                {
                                    "nev": "Szentágotai Istvás",
                                    "elvart": "5",
                                    "asd": "8"
                                },
                                {
                                    "nev": "Szép llonka",
                                    "elvart": "5",
                                    "asd": "4"
                                },
                                {
                                    "nev": "Aranyi Mária",
                                    "elvart": "6",
                                    "asd": "1"
                                },
                                {
                                    "nev": "Farkasos Piroska",
                                    "elvart": "6",
                                    "asd": "7"
                                },
                                {
                                    "nev": "Kiss János",
                                    "elvart": "6",
                                    "asd": "4"
                                },
                                {
                                    "nev": "Kovács András",
                                    "elvart": "6",
                                    "asd": "4"
                                },
                                {
                                    "nev": "Ludas Mátyás",
                                    "elvart": "6",
                                    "asd": "2"
                                },
                                {
                                    "nev": "Nógrádi Kata",
                                    "elvart": "6",
                                    "asd": "1"
                                },
                                {
                                    "nev": "Pelikán József",
                                    "elvart": "6",
                                    "asd": "6"
                                },
                                {
                                    "nev": "Róbert Gida",
                                    "elvart": "6",
                                    "asd": "1"
                                },
                                {
                                    "nev": "Szabó Andrera",
                                    "elvart": "6",
                                    "asd": "2"
                                },
                                {
                                    "nev": "Vitéz János",
                                    "elvart": "6",
                                    "asd": "4"
                                }
                            ]
                        },
                        "text/html": [
                            "<table>",
                            "<tr><th>nev</th><th>elvart</th><th>asd</th></tr>",
                            "<tr><td>Jogrerős Pál</td><td>2</td><td>2</td></tr>",
                            "<tr><td>Juhász András</td><td>2</td><td>2</td></tr>",
                            "<tr><td>Kovács László</td><td>2</td><td>4</td></tr>",
                            "<tr><td>Ujfalussi István</td><td>2</td><td>3</td></tr>",
                            "<tr><td>Balkán András</td><td>4</td><td>3</td></tr>",
                            "<tr><td>Szerb László</td><td>4</td><td>3</td></tr>",
                            "<tr><td>Varga Kata</td><td>4</td><td>4</td></tr>",
                            "<tr><td>Szénási ászló</td><td>5</td><td>2</td></tr>",
                            "<tr><td>Szentágotai Istvás</td><td>5</td><td>8</td></tr>",
                            "<tr><td>Szép llonka</td><td>5</td><td>4</td></tr>",
                            "<tr><td>Aranyi Mária</td><td>6</td><td>1</td></tr>",
                            "<tr><td>Farkasos Piroska</td><td>6</td><td>7</td></tr>",
                            "<tr><td>Kiss János</td><td>6</td><td>4</td></tr>",
                            "<tr><td>Kovács András</td><td>6</td><td>4</td></tr>",
                            "<tr><td>Ludas Mátyás</td><td>6</td><td>2</td></tr>",
                            "<tr><td>Nógrádi Kata</td><td>6</td><td>1</td></tr>",
                            "<tr><td>Pelikán József</td><td>6</td><td>6</td></tr>",
                            "<tr><td>Róbert Gida</td><td>6</td><td>1</td></tr>",
                            "<tr><td>Szabó Andrera</td><td>6</td><td>2</td></tr>",
                            "<tr><td>Vitéz János</td><td>6</td><td>4</td></tr>",
                            "</table>"
                        ]
                    }
                }
            ],
            "execution_count": 20
        },
        {
            "cell_type": "markdown",
            "source": [
                "14. _Készítsünk listát, amely megmutatja, hogy mely tantárgyból nincs óra egyáltalán!_\n",
                "\n",
                "1. Csak a tantárgy neve jelenjen meg!"
            ],
            "metadata": {
                "azdata_cell_guid": "f634e09a-85ef-4e70-8ec6-ef355dfddaa7"
            },
            "attachments": {}
        },
        {
            "cell_type": "code",
            "source": [
                "SELECT *\r\n",
                "FROM Tantárgyak t LEFT JOIN Orak o ON t.Tkód = o.targy\r\n",
                "WHERE t.Tantárgynév LIKE '%alapjai%'"
            ],
            "metadata": {
                "azdata_cell_guid": "88abc55b-2c78-495b-a72f-3f8f4eb5fe70",
                "language": "sql"
            },
            "outputs": [
                {
                    "output_type": "display_data",
                    "data": {
                        "text/html": "(40 rows affected)"
                    },
                    "metadata": {}
                },
                {
                    "output_type": "display_data",
                    "data": {
                        "text/html": "Total execution time: 00:00:00.028"
                    },
                    "metadata": {}
                },
                {
                    "output_type": "execute_result",
                    "metadata": {},
                    "execution_count": 45,
                    "data": {
                        "application/vnd.dataresource+json": {
                            "schema": {
                                "fields": [
                                    {
                                        "name": "Tkód"
                                    },
                                    {
                                        "name": "Tantárgynév"
                                    },
                                    {
                                        "name": "Tantárgyfelelős"
                                    },
                                    {
                                        "name": "Tantargykod"
                                    },
                                    {
                                        "name": "Kredit"
                                    },
                                    {
                                        "name": "ora_id"
                                    },
                                    {
                                        "name": "tanar"
                                    },
                                    {
                                        "name": "nap"
                                    },
                                    {
                                        "name": "Sav"
                                    },
                                    {
                                        "name": "targy"
                                    },
                                    {
                                        "name": "terem"
                                    }
                                ]
                            },
                            "data": [
                                {
                                    "Tkód": "1",
                                    "Tantárgynév": "Az ürgeöntés alapjai",
                                    "Tantárgyfelelős": "5",
                                    "Tantargykod": "NULL",
                                    "Kredit": "2",
                                    "ora_id": "159",
                                    "tanar": "4",
                                    "nap": "3",
                                    "Sav": "1",
                                    "targy": "1",
                                    "terem": "1"
                                },
                                {
                                    "Tkód": "1",
                                    "Tantárgynév": "Az ürgeöntés alapjai",
                                    "Tantárgyfelelős": "5",
                                    "Tantargykod": "NULL",
                                    "Kredit": "2",
                                    "ora_id": "160",
                                    "tanar": "8",
                                    "nap": "2",
                                    "Sav": "5",
                                    "targy": "1",
                                    "terem": "2"
                                },
                                {
                                    "Tkód": "1",
                                    "Tantárgynév": "Az ürgeöntés alapjai",
                                    "Tantárgyfelelős": "5",
                                    "Tantargykod": "NULL",
                                    "Kredit": "2",
                                    "ora_id": "161",
                                    "tanar": "8",
                                    "nap": "1",
                                    "Sav": "2",
                                    "targy": "1",
                                    "terem": "2"
                                },
                                {
                                    "Tkód": "1",
                                    "Tantárgynév": "Az ürgeöntés alapjai",
                                    "Tantárgyfelelős": "5",
                                    "Tantargykod": "NULL",
                                    "Kredit": "2",
                                    "ora_id": "162",
                                    "tanar": "20",
                                    "nap": "1",
                                    "Sav": "4",
                                    "targy": "1",
                                    "terem": "3"
                                },
                                {
                                    "Tkód": "1",
                                    "Tantárgynév": "Az ürgeöntés alapjai",
                                    "Tantárgyfelelős": "5",
                                    "Tantargykod": "NULL",
                                    "Kredit": "2",
                                    "ora_id": "163",
                                    "tanar": "3",
                                    "nap": "3",
                                    "Sav": "2",
                                    "targy": "1",
                                    "terem": "4"
                                },
                                {
                                    "Tkód": "1",
                                    "Tantárgynév": "Az ürgeöntés alapjai",
                                    "Tantárgyfelelős": "5",
                                    "Tantargykod": "NULL",
                                    "Kredit": "2",
                                    "ora_id": "164",
                                    "tanar": "7",
                                    "nap": "2",
                                    "Sav": "3",
                                    "targy": "1",
                                    "terem": "3"
                                },
                                {
                                    "Tkód": "1",
                                    "Tantárgynév": "Az ürgeöntés alapjai",
                                    "Tantárgyfelelős": "5",
                                    "Tantargykod": "NULL",
                                    "Kredit": "2",
                                    "ora_id": "165",
                                    "tanar": "3",
                                    "nap": "2",
                                    "Sav": "3",
                                    "targy": "1",
                                    "terem": "3"
                                },
                                {
                                    "Tkód": "1",
                                    "Tantárgynév": "Az ürgeöntés alapjai",
                                    "Tantárgyfelelős": "5",
                                    "Tantargykod": "NULL",
                                    "Kredit": "2",
                                    "ora_id": "166",
                                    "tanar": "3",
                                    "nap": "2",
                                    "Sav": "4",
                                    "targy": "1",
                                    "terem": "3"
                                },
                                {
                                    "Tkód": "1",
                                    "Tantárgynév": "Az ürgeöntés alapjai",
                                    "Tantárgyfelelős": "5",
                                    "Tantargykod": "NULL",
                                    "Kredit": "2",
                                    "ora_id": "167",
                                    "tanar": "2",
                                    "nap": "1",
                                    "Sav": "4",
                                    "targy": "1",
                                    "terem": "4"
                                },
                                {
                                    "Tkód": "1",
                                    "Tantárgynév": "Az ürgeöntés alapjai",
                                    "Tantárgyfelelős": "5",
                                    "Tantargykod": "NULL",
                                    "Kredit": "2",
                                    "ora_id": "168",
                                    "tanar": "4",
                                    "nap": "4",
                                    "Sav": "3",
                                    "targy": "1",
                                    "terem": "5"
                                },
                                {
                                    "Tkód": "1",
                                    "Tantárgynév": "Az ürgeöntés alapjai",
                                    "Tantárgyfelelős": "5",
                                    "Tantargykod": "NULL",
                                    "Kredit": "2",
                                    "ora_id": "169",
                                    "tanar": "20",
                                    "nap": "1",
                                    "Sav": "2",
                                    "targy": "1",
                                    "terem": "6"
                                },
                                {
                                    "Tkód": "1",
                                    "Tantárgynév": "Az ürgeöntés alapjai",
                                    "Tantárgyfelelős": "5",
                                    "Tantargykod": "NULL",
                                    "Kredit": "2",
                                    "ora_id": "170",
                                    "tanar": "104",
                                    "nap": "1",
                                    "Sav": "2",
                                    "targy": "1",
                                    "terem": "4"
                                },
                                {
                                    "Tkód": "1",
                                    "Tantárgynév": "Az ürgeöntés alapjai",
                                    "Tantárgyfelelős": "5",
                                    "Tantargykod": "NULL",
                                    "Kredit": "2",
                                    "ora_id": "171",
                                    "tanar": "14",
                                    "nap": "2",
                                    "Sav": "2",
                                    "targy": "1",
                                    "terem": "8"
                                },
                                {
                                    "Tkód": "1",
                                    "Tantárgynév": "Az ürgeöntés alapjai",
                                    "Tantárgyfelelős": "5",
                                    "Tantargykod": "NULL",
                                    "Kredit": "2",
                                    "ora_id": "172",
                                    "tanar": "7",
                                    "nap": "2",
                                    "Sav": "2",
                                    "targy": "1",
                                    "terem": "3"
                                },
                                {
                                    "Tkód": "1",
                                    "Tantárgynév": "Az ürgeöntés alapjai",
                                    "Tantárgyfelelős": "5",
                                    "Tantargykod": "NULL",
                                    "Kredit": "2",
                                    "ora_id": "173",
                                    "tanar": "20",
                                    "nap": "4",
                                    "Sav": "3",
                                    "targy": "1",
                                    "terem": "3"
                                },
                                {
                                    "Tkód": "1",
                                    "Tantárgynév": "Az ürgeöntés alapjai",
                                    "Tantárgyfelelős": "5",
                                    "Tantargykod": "NULL",
                                    "Kredit": "2",
                                    "ora_id": "174",
                                    "tanar": "104",
                                    "nap": "4",
                                    "Sav": "3",
                                    "targy": "1",
                                    "terem": "7"
                                },
                                {
                                    "Tkód": "1",
                                    "Tantárgynév": "Az ürgeöntés alapjai",
                                    "Tantárgyfelelős": "5",
                                    "Tantargykod": "NULL",
                                    "Kredit": "2",
                                    "ora_id": "175",
                                    "tanar": "14",
                                    "nap": "4",
                                    "Sav": "4",
                                    "targy": "1",
                                    "terem": "4"
                                },
                                {
                                    "Tkód": "1",
                                    "Tantárgynév": "Az ürgeöntés alapjai",
                                    "Tantárgyfelelős": "5",
                                    "Tantargykod": "NULL",
                                    "Kredit": "2",
                                    "ora_id": "176",
                                    "tanar": "20",
                                    "nap": "4",
                                    "Sav": "4",
                                    "targy": "1",
                                    "terem": "2"
                                },
                                {
                                    "Tkód": "1",
                                    "Tantárgynév": "Az ürgeöntés alapjai",
                                    "Tantárgyfelelős": "5",
                                    "Tantargykod": "NULL",
                                    "Kredit": "2",
                                    "ora_id": "177",
                                    "tanar": "2",
                                    "nap": "4",
                                    "Sav": "5",
                                    "targy": "1",
                                    "terem": "3"
                                },
                                {
                                    "Tkód": "1",
                                    "Tantárgynév": "Az ürgeöntés alapjai",
                                    "Tantárgyfelelős": "5",
                                    "Tantargykod": "NULL",
                                    "Kredit": "2",
                                    "ora_id": "178",
                                    "tanar": "111",
                                    "nap": "4",
                                    "Sav": "5",
                                    "targy": "1",
                                    "terem": "8"
                                },
                                {
                                    "Tkód": "1",
                                    "Tantárgynév": "Az ürgeöntés alapjai",
                                    "Tantárgyfelelős": "5",
                                    "Tantargykod": "NULL",
                                    "Kredit": "2",
                                    "ora_id": "179",
                                    "tanar": "2",
                                    "nap": "4",
                                    "Sav": "7",
                                    "targy": "1",
                                    "terem": "4"
                                },
                                {
                                    "Tkód": "1",
                                    "Tantárgynév": "Az ürgeöntés alapjai",
                                    "Tantárgyfelelős": "5",
                                    "Tantargykod": "NULL",
                                    "Kredit": "2",
                                    "ora_id": "180",
                                    "tanar": "111",
                                    "nap": "4",
                                    "Sav": "7",
                                    "targy": "1",
                                    "terem": "3"
                                },
                                {
                                    "Tkód": "1",
                                    "Tantárgynév": "Az ürgeöntés alapjai",
                                    "Tantárgyfelelős": "5",
                                    "Tantargykod": "NULL",
                                    "Kredit": "2",
                                    "ora_id": "181",
                                    "tanar": "2",
                                    "nap": "5",
                                    "Sav": "1",
                                    "targy": "1",
                                    "terem": "2"
                                },
                                {
                                    "Tkód": "1",
                                    "Tantárgynév": "Az ürgeöntés alapjai",
                                    "Tantárgyfelelős": "5",
                                    "Tantargykod": "NULL",
                                    "Kredit": "2",
                                    "ora_id": "182",
                                    "tanar": "111",
                                    "nap": "5",
                                    "Sav": "1",
                                    "targy": "1",
                                    "terem": "7"
                                },
                                {
                                    "Tkód": "1",
                                    "Tantárgynév": "Az ürgeöntés alapjai",
                                    "Tantárgyfelelős": "5",
                                    "Tantargykod": "NULL",
                                    "Kredit": "2",
                                    "ora_id": "183",
                                    "tanar": "2",
                                    "nap": "5",
                                    "Sav": "2",
                                    "targy": "1",
                                    "terem": "8"
                                },
                                {
                                    "Tkód": "1",
                                    "Tantárgynév": "Az ürgeöntés alapjai",
                                    "Tantárgyfelelős": "5",
                                    "Tantargykod": "NULL",
                                    "Kredit": "2",
                                    "ora_id": "184",
                                    "tanar": "111",
                                    "nap": "5",
                                    "Sav": "2",
                                    "targy": "1",
                                    "terem": "6"
                                },
                                {
                                    "Tkód": "1",
                                    "Tantárgynév": "Az ürgeöntés alapjai",
                                    "Tantárgyfelelős": "5",
                                    "Tantargykod": "NULL",
                                    "Kredit": "2",
                                    "ora_id": "185",
                                    "tanar": "2",
                                    "nap": "4",
                                    "Sav": "3",
                                    "targy": "1",
                                    "terem": "4"
                                },
                                {
                                    "Tkód": "4",
                                    "Tantárgynév": "Az ürgeöntés hydrológiai alapjai I.",
                                    "Tantárgyfelelős": "4",
                                    "Tantargykod": "NULL",
                                    "Kredit": "2",
                                    "ora_id": "203",
                                    "tanar": "200",
                                    "nap": "1",
                                    "Sav": "4",
                                    "targy": "4",
                                    "terem": "10"
                                },
                                {
                                    "Tkód": "4",
                                    "Tantárgynév": "Az ürgeöntés hydrológiai alapjai I.",
                                    "Tantárgyfelelős": "4",
                                    "Tantargykod": "NULL",
                                    "Kredit": "2",
                                    "ora_id": "204",
                                    "tanar": "108",
                                    "nap": "2",
                                    "Sav": "5",
                                    "targy": "4",
                                    "terem": "4"
                                },
                                {
                                    "Tkód": "4",
                                    "Tantárgynév": "Az ürgeöntés hydrológiai alapjai I.",
                                    "Tantárgyfelelős": "4",
                                    "Tantargykod": "NULL",
                                    "Kredit": "2",
                                    "ora_id": "227",
                                    "tanar": "2",
                                    "nap": "2",
                                    "Sav": "5",
                                    "targy": "4",
                                    "terem": "12"
                                },
                                {
                                    "Tkód": "5",
                                    "Tantárgynév": "Az ürgeöntés hydrológiai alapjai II.",
                                    "Tantárgyfelelős": "5",
                                    "Tantargykod": "NULL",
                                    "Kredit": "4",
                                    "ora_id": "191",
                                    "tanar": "12",
                                    "nap": "1",
                                    "Sav": "5",
                                    "targy": "5",
                                    "terem": "8"
                                },
                                {
                                    "Tkód": "5",
                                    "Tantárgynév": "Az ürgeöntés hydrológiai alapjai II.",
                                    "Tantárgyfelelős": "5",
                                    "Tantargykod": "NULL",
                                    "Kredit": "4",
                                    "ora_id": "192",
                                    "tanar": "12",
                                    "nap": "1",
                                    "Sav": "7",
                                    "targy": "5",
                                    "terem": "3"
                                },
                                {
                                    "Tkód": "5",
                                    "Tantárgynév": "Az ürgeöntés hydrológiai alapjai II.",
                                    "Tantárgyfelelős": "5",
                                    "Tantargykod": "NULL",
                                    "Kredit": "4",
                                    "ora_id": "193",
                                    "tanar": "9",
                                    "nap": "1",
                                    "Sav": "5",
                                    "targy": "5",
                                    "terem": "5"
                                },
                                {
                                    "Tkód": "5",
                                    "Tantárgynév": "Az ürgeöntés hydrológiai alapjai II.",
                                    "Tantárgyfelelős": "5",
                                    "Tantargykod": "NULL",
                                    "Kredit": "4",
                                    "ora_id": "194",
                                    "tanar": "9",
                                    "nap": "1",
                                    "Sav": "7",
                                    "targy": "5",
                                    "terem": "11"
                                },
                                {
                                    "Tkód": "5",
                                    "Tantárgynév": "Az ürgeöntés hydrológiai alapjai II.",
                                    "Tantárgyfelelős": "5",
                                    "Tantargykod": "NULL",
                                    "Kredit": "4",
                                    "ora_id": "195",
                                    "tanar": "5",
                                    "nap": "1",
                                    "Sav": "5",
                                    "targy": "5",
                                    "terem": "12"
                                },
                                {
                                    "Tkód": "5",
                                    "Tantárgynév": "Az ürgeöntés hydrológiai alapjai II.",
                                    "Tantárgyfelelős": "5",
                                    "Tantargykod": "NULL",
                                    "Kredit": "4",
                                    "ora_id": "196",
                                    "tanar": "5",
                                    "nap": "1",
                                    "Sav": "7",
                                    "targy": "5",
                                    "terem": "6"
                                },
                                {
                                    "Tkód": "5",
                                    "Tantárgynév": "Az ürgeöntés hydrológiai alapjai II.",
                                    "Tantárgyfelelős": "5",
                                    "Tantargykod": "NULL",
                                    "Kredit": "4",
                                    "ora_id": "197",
                                    "tanar": "9",
                                    "nap": "4",
                                    "Sav": "1",
                                    "targy": "5",
                                    "terem": "16"
                                },
                                {
                                    "Tkód": "5",
                                    "Tantárgynév": "Az ürgeöntés hydrológiai alapjai II.",
                                    "Tantárgyfelelős": "5",
                                    "Tantargykod": "NULL",
                                    "Kredit": "4",
                                    "ora_id": "198",
                                    "tanar": "9",
                                    "nap": "3",
                                    "Sav": "2",
                                    "targy": "5",
                                    "terem": "3"
                                },
                                {
                                    "Tkód": "5",
                                    "Tantárgynév": "Az ürgeöntés hydrológiai alapjai II.",
                                    "Tantárgyfelelős": "5",
                                    "Tantargykod": "NULL",
                                    "Kredit": "4",
                                    "ora_id": "199",
                                    "tanar": "300",
                                    "nap": "4",
                                    "Sav": "1",
                                    "targy": "5",
                                    "terem": "6"
                                },
                                {
                                    "Tkód": "5",
                                    "Tantárgynév": "Az ürgeöntés hydrológiai alapjai II.",
                                    "Tantárgyfelelős": "5",
                                    "Tantargykod": "NULL",
                                    "Kredit": "4",
                                    "ora_id": "200",
                                    "tanar": "300",
                                    "nap": "4",
                                    "Sav": "2",
                                    "targy": "5",
                                    "terem": "8"
                                }
                            ]
                        },
                        "text/html": [
                            "<table>",
                            "<tr><th>Tkód</th><th>Tantárgynév</th><th>Tantárgyfelelős</th><th>Tantargykod</th><th>Kredit</th><th>ora_id</th><th>tanar</th><th>nap</th><th>Sav</th><th>targy</th><th>terem</th></tr>",
                            "<tr><td>1</td><td>Az ürgeöntés alapjai</td><td>5</td><td>NULL</td><td>2</td><td>159</td><td>4</td><td>3</td><td>1</td><td>1</td><td>1</td></tr>",
                            "<tr><td>1</td><td>Az ürgeöntés alapjai</td><td>5</td><td>NULL</td><td>2</td><td>160</td><td>8</td><td>2</td><td>5</td><td>1</td><td>2</td></tr>",
                            "<tr><td>1</td><td>Az ürgeöntés alapjai</td><td>5</td><td>NULL</td><td>2</td><td>161</td><td>8</td><td>1</td><td>2</td><td>1</td><td>2</td></tr>",
                            "<tr><td>1</td><td>Az ürgeöntés alapjai</td><td>5</td><td>NULL</td><td>2</td><td>162</td><td>20</td><td>1</td><td>4</td><td>1</td><td>3</td></tr>",
                            "<tr><td>1</td><td>Az ürgeöntés alapjai</td><td>5</td><td>NULL</td><td>2</td><td>163</td><td>3</td><td>3</td><td>2</td><td>1</td><td>4</td></tr>",
                            "<tr><td>1</td><td>Az ürgeöntés alapjai</td><td>5</td><td>NULL</td><td>2</td><td>164</td><td>7</td><td>2</td><td>3</td><td>1</td><td>3</td></tr>",
                            "<tr><td>1</td><td>Az ürgeöntés alapjai</td><td>5</td><td>NULL</td><td>2</td><td>165</td><td>3</td><td>2</td><td>3</td><td>1</td><td>3</td></tr>",
                            "<tr><td>1</td><td>Az ürgeöntés alapjai</td><td>5</td><td>NULL</td><td>2</td><td>166</td><td>3</td><td>2</td><td>4</td><td>1</td><td>3</td></tr>",
                            "<tr><td>1</td><td>Az ürgeöntés alapjai</td><td>5</td><td>NULL</td><td>2</td><td>167</td><td>2</td><td>1</td><td>4</td><td>1</td><td>4</td></tr>",
                            "<tr><td>1</td><td>Az ürgeöntés alapjai</td><td>5</td><td>NULL</td><td>2</td><td>168</td><td>4</td><td>4</td><td>3</td><td>1</td><td>5</td></tr>",
                            "<tr><td>1</td><td>Az ürgeöntés alapjai</td><td>5</td><td>NULL</td><td>2</td><td>169</td><td>20</td><td>1</td><td>2</td><td>1</td><td>6</td></tr>",
                            "<tr><td>1</td><td>Az ürgeöntés alapjai</td><td>5</td><td>NULL</td><td>2</td><td>170</td><td>104</td><td>1</td><td>2</td><td>1</td><td>4</td></tr>",
                            "<tr><td>1</td><td>Az ürgeöntés alapjai</td><td>5</td><td>NULL</td><td>2</td><td>171</td><td>14</td><td>2</td><td>2</td><td>1</td><td>8</td></tr>",
                            "<tr><td>1</td><td>Az ürgeöntés alapjai</td><td>5</td><td>NULL</td><td>2</td><td>172</td><td>7</td><td>2</td><td>2</td><td>1</td><td>3</td></tr>",
                            "<tr><td>1</td><td>Az ürgeöntés alapjai</td><td>5</td><td>NULL</td><td>2</td><td>173</td><td>20</td><td>4</td><td>3</td><td>1</td><td>3</td></tr>",
                            "<tr><td>1</td><td>Az ürgeöntés alapjai</td><td>5</td><td>NULL</td><td>2</td><td>174</td><td>104</td><td>4</td><td>3</td><td>1</td><td>7</td></tr>",
                            "<tr><td>1</td><td>Az ürgeöntés alapjai</td><td>5</td><td>NULL</td><td>2</td><td>175</td><td>14</td><td>4</td><td>4</td><td>1</td><td>4</td></tr>",
                            "<tr><td>1</td><td>Az ürgeöntés alapjai</td><td>5</td><td>NULL</td><td>2</td><td>176</td><td>20</td><td>4</td><td>4</td><td>1</td><td>2</td></tr>",
                            "<tr><td>1</td><td>Az ürgeöntés alapjai</td><td>5</td><td>NULL</td><td>2</td><td>177</td><td>2</td><td>4</td><td>5</td><td>1</td><td>3</td></tr>",
                            "<tr><td>1</td><td>Az ürgeöntés alapjai</td><td>5</td><td>NULL</td><td>2</td><td>178</td><td>111</td><td>4</td><td>5</td><td>1</td><td>8</td></tr>",
                            "<tr><td>1</td><td>Az ürgeöntés alapjai</td><td>5</td><td>NULL</td><td>2</td><td>179</td><td>2</td><td>4</td><td>7</td><td>1</td><td>4</td></tr>",
                            "<tr><td>1</td><td>Az ürgeöntés alapjai</td><td>5</td><td>NULL</td><td>2</td><td>180</td><td>111</td><td>4</td><td>7</td><td>1</td><td>3</td></tr>",
                            "<tr><td>1</td><td>Az ürgeöntés alapjai</td><td>5</td><td>NULL</td><td>2</td><td>181</td><td>2</td><td>5</td><td>1</td><td>1</td><td>2</td></tr>",
                            "<tr><td>1</td><td>Az ürgeöntés alapjai</td><td>5</td><td>NULL</td><td>2</td><td>182</td><td>111</td><td>5</td><td>1</td><td>1</td><td>7</td></tr>",
                            "<tr><td>1</td><td>Az ürgeöntés alapjai</td><td>5</td><td>NULL</td><td>2</td><td>183</td><td>2</td><td>5</td><td>2</td><td>1</td><td>8</td></tr>",
                            "<tr><td>1</td><td>Az ürgeöntés alapjai</td><td>5</td><td>NULL</td><td>2</td><td>184</td><td>111</td><td>5</td><td>2</td><td>1</td><td>6</td></tr>",
                            "<tr><td>1</td><td>Az ürgeöntés alapjai</td><td>5</td><td>NULL</td><td>2</td><td>185</td><td>2</td><td>4</td><td>3</td><td>1</td><td>4</td></tr>",
                            "<tr><td>4</td><td>Az ürgeöntés hydrológiai alapjai I.</td><td>4</td><td>NULL</td><td>2</td><td>203</td><td>200</td><td>1</td><td>4</td><td>4</td><td>10</td></tr>",
                            "<tr><td>4</td><td>Az ürgeöntés hydrológiai alapjai I.</td><td>4</td><td>NULL</td><td>2</td><td>204</td><td>108</td><td>2</td><td>5</td><td>4</td><td>4</td></tr>",
                            "<tr><td>4</td><td>Az ürgeöntés hydrológiai alapjai I.</td><td>4</td><td>NULL</td><td>2</td><td>227</td><td>2</td><td>2</td><td>5</td><td>4</td><td>12</td></tr>",
                            "<tr><td>5</td><td>Az ürgeöntés hydrológiai alapjai II.</td><td>5</td><td>NULL</td><td>4</td><td>191</td><td>12</td><td>1</td><td>5</td><td>5</td><td>8</td></tr>",
                            "<tr><td>5</td><td>Az ürgeöntés hydrológiai alapjai II.</td><td>5</td><td>NULL</td><td>4</td><td>192</td><td>12</td><td>1</td><td>7</td><td>5</td><td>3</td></tr>",
                            "<tr><td>5</td><td>Az ürgeöntés hydrológiai alapjai II.</td><td>5</td><td>NULL</td><td>4</td><td>193</td><td>9</td><td>1</td><td>5</td><td>5</td><td>5</td></tr>",
                            "<tr><td>5</td><td>Az ürgeöntés hydrológiai alapjai II.</td><td>5</td><td>NULL</td><td>4</td><td>194</td><td>9</td><td>1</td><td>7</td><td>5</td><td>11</td></tr>",
                            "<tr><td>5</td><td>Az ürgeöntés hydrológiai alapjai II.</td><td>5</td><td>NULL</td><td>4</td><td>195</td><td>5</td><td>1</td><td>5</td><td>5</td><td>12</td></tr>",
                            "<tr><td>5</td><td>Az ürgeöntés hydrológiai alapjai II.</td><td>5</td><td>NULL</td><td>4</td><td>196</td><td>5</td><td>1</td><td>7</td><td>5</td><td>6</td></tr>",
                            "<tr><td>5</td><td>Az ürgeöntés hydrológiai alapjai II.</td><td>5</td><td>NULL</td><td>4</td><td>197</td><td>9</td><td>4</td><td>1</td><td>5</td><td>16</td></tr>",
                            "<tr><td>5</td><td>Az ürgeöntés hydrológiai alapjai II.</td><td>5</td><td>NULL</td><td>4</td><td>198</td><td>9</td><td>3</td><td>2</td><td>5</td><td>3</td></tr>",
                            "<tr><td>5</td><td>Az ürgeöntés hydrológiai alapjai II.</td><td>5</td><td>NULL</td><td>4</td><td>199</td><td>300</td><td>4</td><td>1</td><td>5</td><td>6</td></tr>",
                            "<tr><td>5</td><td>Az ürgeöntés hydrológiai alapjai II.</td><td>5</td><td>NULL</td><td>4</td><td>200</td><td>300</td><td>4</td><td>2</td><td>5</td><td>8</td></tr>",
                            "</table>"
                        ]
                    }
                }
            ],
            "execution_count": 45
        },
        {
            "cell_type": "markdown",
            "source": [
                "15. _Hány órájuk van az óraadóknak napi bontásban?_\n",
                "\n",
                "1. Csak a napok nevét és az óraszámot jelenítsük meg!\n",
                "2. Rendezzük a listát óraszám szerint növekvő sorrendbe!"
            ],
            "metadata": {
                "azdata_cell_guid": "4cbf2f0d-a65d-480a-8186-ccdb24498443"
            },
            "attachments": {}
        },
        {
            "cell_type": "code",
            "source": [
                ""
            ],
            "metadata": {
                "azdata_cell_guid": "c148aee8-bc85-40bf-b80a-a4898a6c05cb",
                "language": "sql"
            },
            "outputs": [
                {
                    "output_type": "display_data",
                    "data": {
                        "text/html": "Commands completed successfully."
                    },
                    "metadata": {}
                },
                {
                    "output_type": "display_data",
                    "data": {
                        "text/html": "Total execution time: 00:00:00"
                    },
                    "metadata": {}
                }
            ],
            "execution_count": 15
        }
    ]
}