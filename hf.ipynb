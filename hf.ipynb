{
    "metadata": {
        "kernelspec": {
            "name": "SQL",
            "display_name": "SQL",
            "language": "sql"
        },
        "language_info": {
            "name": "sql",
            "version": ""
        }
    },
    "nbformat_minor": 2,
    "nbformat": 4,
    "cells": [
        {
            "cell_type": "code",
            "source": [
                "SELECT MEGYS, COUNT(*) AS 'Darab', COUNT(*)*100/551 AS 'százaléka az összesnek'\r\n",
                "FROM Termek\r\n",
                "GROUP BY MEGYS\r\n",
                "ORDER BY COUNT(*)\r\n",
                "\r\n",
                "SELECT MEGYS, MAX(KESZLET) AS 'készlet maximum', MIN(KESZLET) AS 'készlet minimum', AVG(KESZLET) AS 'készlet átlag'\r\n",
                "FROM Termek\r\n",
                "GROUP BY MEGYS\r\n",
                "\r\n",
                "SELECT MEGYS, DATEDIFF(DAY,MIN(FElVITEL), MAX(FELVITEL)) AS 'eltelt napok száma a kettő felvitt adat között'\r\n",
                "FROM TERMEK \r\n",
                "GROUP BY MEGYS\r\n",
                "ORDER BY DATEDIFF(DAY,MIN(FElVITEL), MAX(FELVITEL)) DESC"
            ],
            "metadata": {
                "azdata_cell_guid": "438ce9e7-7fde-4bbc-b814-12c5fcafc609",
                "language": "sql"
            },
            "outputs": [
                {
                    "output_type": "display_data",
                    "data": {
                        "text/html": "(6 rows affected)"
                    },
                    "metadata": {}
                },
                {
                    "output_type": "display_data",
                    "data": {
                        "text/html": "(6 rows affected)"
                    },
                    "metadata": {}
                },
                {
                    "output_type": "display_data",
                    "data": {
                        "text/html": "(6 rows affected)"
                    },
                    "metadata": {}
                },
                {
                    "output_type": "display_data",
                    "data": {
                        "text/html": "Total execution time: 00:00:00.101"
                    },
                    "metadata": {}
                },
                {
                    "output_type": "execute_result",
                    "metadata": {},
                    "execution_count": 1,
                    "data": {
                        "application/vnd.dataresource+json": {
                            "schema": {
                                "fields": [
                                    {
                                        "name": "MEGYS"
                                    },
                                    {
                                        "name": "Darab"
                                    },
                                    {
                                        "name": "százaléka az összesnek"
                                    }
                                ]
                            },
                            "data": [
                                {
                                    "MEGYS": "doboz",
                                    "Darab": "1",
                                    "százaléka az összesnek": "0"
                                },
                                {
                                    "MEGYS": "tekercs",
                                    "Darab": "1",
                                    "százaléka az összesnek": "0"
                                },
                                {
                                    "MEGYS": "üveg",
                                    "Darab": "1",
                                    "százaléka az összesnek": "0"
                                },
                                {
                                    "MEGYS": "ív",
                                    "Darab": "21",
                                    "százaléka az összesnek": "3"
                                },
                                {
                                    "MEGYS": "csomag",
                                    "Darab": "44",
                                    "százaléka az összesnek": "7"
                                },
                                {
                                    "MEGYS": "db",
                                    "Darab": "483",
                                    "százaléka az összesnek": "87"
                                }
                            ]
                        },
                        "text/html": [
                            "<table>",
                            "<tr><th>MEGYS</th><th>Darab</th><th>százaléka az összesnek</th></tr>",
                            "<tr><td>doboz</td><td>1</td><td>0</td></tr>",
                            "<tr><td>tekercs</td><td>1</td><td>0</td></tr>",
                            "<tr><td>üveg</td><td>1</td><td>0</td></tr>",
                            "<tr><td>ív</td><td>21</td><td>3</td></tr>",
                            "<tr><td>csomag</td><td>44</td><td>7</td></tr>",
                            "<tr><td>db</td><td>483</td><td>87</td></tr>",
                            "</table>"
                        ]
                    }
                },
                {
                    "output_type": "execute_result",
                    "metadata": {},
                    "execution_count": 1,
                    "data": {
                        "application/vnd.dataresource+json": {
                            "schema": {
                                "fields": [
                                    {
                                        "name": "MEGYS"
                                    },
                                    {
                                        "name": "készlet maximum"
                                    },
                                    {
                                        "name": "készlet minimum"
                                    },
                                    {
                                        "name": "készlet átlag"
                                    }
                                ]
                            },
                            "data": [
                                {
                                    "MEGYS": "csomag",
                                    "készlet maximum": "5000",
                                    "készlet minimum": "100",
                                    "készlet átlag": "796,5909090909091"
                                },
                                {
                                    "MEGYS": "db",
                                    "készlet maximum": "50000",
                                    "készlet minimum": "0",
                                    "készlet átlag": "1687,6418219461698"
                                },
                                {
                                    "MEGYS": "doboz",
                                    "készlet maximum": "100",
                                    "készlet minimum": "100",
                                    "készlet átlag": "100"
                                },
                                {
                                    "MEGYS": "ív",
                                    "készlet maximum": "3100",
                                    "készlet minimum": "100",
                                    "készlet átlag": "728,5714285714286"
                                },
                                {
                                    "MEGYS": "tekercs",
                                    "készlet maximum": "8000",
                                    "készlet minimum": "8000",
                                    "készlet átlag": "8000"
                                },
                                {
                                    "MEGYS": "üveg",
                                    "készlet maximum": "300",
                                    "készlet minimum": "300",
                                    "készlet átlag": "300"
                                }
                            ]
                        },
                        "text/html": [
                            "<table>",
                            "<tr><th>MEGYS</th><th>készlet maximum</th><th>készlet minimum</th><th>készlet átlag</th></tr>",
                            "<tr><td>csomag</td><td>5000</td><td>100</td><td>796,5909090909091</td></tr>",
                            "<tr><td>db</td><td>50000</td><td>0</td><td>1687,6418219461698</td></tr>",
                            "<tr><td>doboz</td><td>100</td><td>100</td><td>100</td></tr>",
                            "<tr><td>ív</td><td>3100</td><td>100</td><td>728,5714285714286</td></tr>",
                            "<tr><td>tekercs</td><td>8000</td><td>8000</td><td>8000</td></tr>",
                            "<tr><td>üveg</td><td>300</td><td>300</td><td>300</td></tr>",
                            "</table>"
                        ]
                    }
                },
                {
                    "output_type": "execute_result",
                    "metadata": {},
                    "execution_count": 1,
                    "data": {
                        "application/vnd.dataresource+json": {
                            "schema": {
                                "fields": [
                                    {
                                        "name": "MEGYS"
                                    },
                                    {
                                        "name": "eltelt napok száma a kettő felvitt adat között"
                                    }
                                ]
                            },
                            "data": [
                                {
                                    "MEGYS": "db",
                                    "eltelt napok száma a kettő felvitt adat között": "163"
                                },
                                {
                                    "MEGYS": "csomag",
                                    "eltelt napok száma a kettő felvitt adat között": "51"
                                },
                                {
                                    "MEGYS": "ív",
                                    "eltelt napok száma a kettő felvitt adat között": "28"
                                },
                                {
                                    "MEGYS": "tekercs",
                                    "eltelt napok száma a kettő felvitt adat között": "0"
                                },
                                {
                                    "MEGYS": "üveg",
                                    "eltelt napok száma a kettő felvitt adat között": "0"
                                },
                                {
                                    "MEGYS": "doboz",
                                    "eltelt napok száma a kettő felvitt adat között": "0"
                                }
                            ]
                        },
                        "text/html": [
                            "<table>",
                            "<tr><th>MEGYS</th><th>eltelt napok száma a kettő felvitt adat között</th></tr>",
                            "<tr><td>db</td><td>163</td></tr>",
                            "<tr><td>csomag</td><td>51</td></tr>",
                            "<tr><td>ív</td><td>28</td></tr>",
                            "<tr><td>tekercs</td><td>0</td></tr>",
                            "<tr><td>üveg</td><td>0</td></tr>",
                            "<tr><td>doboz</td><td>0</td></tr>",
                            "</table>"
                        ]
                    }
                }
            ],
            "execution_count": 1
        },
        {
            "cell_type": "code",
            "source": [
                "SELECT TOP 10 MEGNEVEZES, LISTAAR, LEIRAS\r\n",
                "FROM Termek\r\n",
                "ORDER BY LISTAAR DESC\r\n",
                "\r\n",
                "\r\n",
                "\r\n",
                "SELECT MAX(LEN(MEGNEVEZES)) AS 'maximum megnevezés hossz' , AVG(LEN(MEGNEVEZES)) AS 'átlagos megnevezés hossz', MIN(LEN(MEGNEVEZES)) AS 'minimum megnevezés hossz'\r\n",
                "FROM Termek\r\n",
                "WHERE MEGNEVEZES LIKE '%női%'\r\n",
                "\r\n",
                "SELECT MEGNEVEZES, \r\n",
                "IIF(LEIRAS IS NULL, 'nincs', LEIRAS)\r\n",
                "FROM Termek \r\n",
                "WHERE  MEGNEVEZES LIKE '%[0-9]%';\r\n",
                "\r\n",
                ""
            ],
            "metadata": {
                "azdata_cell_guid": "a2630bbf-3324-4d11-9d10-60314f511069",
                "language": "sql"
            },
            "outputs": [
                {
                    "output_type": "display_data",
                    "data": {
                        "text/html": "(10 rows affected)"
                    },
                    "metadata": {}
                },
                {
                    "output_type": "display_data",
                    "data": {
                        "text/html": "(1 row affected)"
                    },
                    "metadata": {}
                },
                {
                    "output_type": "display_data",
                    "data": {
                        "text/html": "(190 rows affected)"
                    },
                    "metadata": {}
                },
                {
                    "output_type": "display_data",
                    "data": {
                        "text/html": "Total execution time: 00:00:00.059"
                    },
                    "metadata": {}
                },
                {
                    "output_type": "execute_result",
                    "metadata": {},
                    "execution_count": 22,
                    "data": {
                        "application/vnd.dataresource+json": {
                            "schema": {
                                "fields": [
                                    {
                                        "name": "MEGNEVEZES"
                                    },
                                    {
                                        "name": "LISTAAR"
                                    },
                                    {
                                        "name": "LEIRAS"
                                    }
                                ]
                            },
                            "data": [
                                {
                                    "MEGNEVEZES": "kosztüm (hosszú)",
                                    "LISTAAR": "46000",
                                    "LEIRAS": "tört fehér  "
                                },
                                {
                                    "MEGNEVEZES": "kosztüm (rövid)",
                                    "LISTAAR": "39000",
                                    "LEIRAS": "szürke  "
                                },
                                {
                                    "MEGNEVEZES": "női koktélruha",
                                    "LISTAAR": "32000",
                                    "LEIRAS": "fekete  "
                                },
                                {
                                    "MEGNEVEZES": "női szövet kabát",
                                    "LISTAAR": "24000",
                                    "LEIRAS": "piros (szövet) "
                                },
                                {
                                    "MEGNEVEZES": "férfi szövet kabát",
                                    "LISTAAR": "22000",
                                    "LEIRAS": "fekete (szövet) "
                                },
                                {
                                    "MEGNEVEZES": "fiú ünneplős ruha",
                                    "LISTAAR": "16900",
                                    "LEIRAS": "NULL"
                                },
                                {
                                    "MEGNEVEZES": "lány ünneplős ruha",
                                    "LISTAAR": "16900",
                                    "LEIRAS": "NULL"
                                },
                                {
                                    "MEGNEVEZES": "Oki toner C",
                                    "LISTAAR": "14250",
                                    "LEIRAS": "NULL"
                                },
                                {
                                    "MEGNEVEZES": "férfi szövet nadrág",
                                    "LISTAAR": "11900",
                                    "LEIRAS": "barna (szövet) "
                                },
                                {
                                    "MEGNEVEZES": "gyermek kabát (fiú)",
                                    "LISTAAR": "8900",
                                    "LEIRAS": "NULL"
                                }
                            ]
                        },
                        "text/html": [
                            "<table>",
                            "<tr><th>MEGNEVEZES</th><th>LISTAAR</th><th>LEIRAS</th></tr>",
                            "<tr><td>kosztüm (hosszú)</td><td>46000</td><td>tört fehér  </td></tr>",
                            "<tr><td>kosztüm (rövid)</td><td>39000</td><td>szürke  </td></tr>",
                            "<tr><td>női koktélruha</td><td>32000</td><td>fekete  </td></tr>",
                            "<tr><td>női szövet kabát</td><td>24000</td><td>piros (szövet) </td></tr>",
                            "<tr><td>férfi szövet kabát</td><td>22000</td><td>fekete (szövet) </td></tr>",
                            "<tr><td>fiú ünneplős ruha</td><td>16900</td><td>NULL</td></tr>",
                            "<tr><td>lány ünneplős ruha</td><td>16900</td><td>NULL</td></tr>",
                            "<tr><td>Oki toner C</td><td>14250</td><td>NULL</td></tr>",
                            "<tr><td>férfi szövet nadrág</td><td>11900</td><td>barna (szövet) </td></tr>",
                            "<tr><td>gyermek kabát (fiú)</td><td>8900</td><td>NULL</td></tr>",
                            "</table>"
                        ]
                    }
                },
                {
                    "output_type": "execute_result",
                    "metadata": {
                        "azdata_chartOptions": {
                            "type": "bar",
                            "dataDirection": "horizontal",
                            "columnsAsLabels": true,
                            "labelFirstColumn": false,
                            "legendPosition": "top"
                        }
                    },
                    "execution_count": 22,
                    "data": {
                        "application/vnd.dataresource+json": {
                            "schema": {
                                "fields": [
                                    {
                                        "name": "maximum megnevezés hossz"
                                    },
                                    {
                                        "name": "átlagos megnevezés hossz"
                                    },
                                    {
                                        "name": "minimum megnevezés hossz"
                                    }
                                ]
                            },
                            "data": [
                                {
                                    "maximum megnevezés hossz": "17",
                                    "átlagos megnevezés hossz": "13",
                                    "minimum megnevezés hossz": "8"
                                }
                            ]
                        },
                        "text/html": [
                            "<table>",
                            "<tr><th>maximum megnevezés hossz</th><th>átlagos megnevezés hossz</th><th>minimum megnevezés hossz</th></tr>",
                            "<tr><td>17</td><td>13</td><td>8</td></tr>",
                            "</table>"
                        ]
                    }
                },
                {
                    "output_type": "execute_result",
                    "metadata": {},
                    "execution_count": 22,
                    "data": {
                        "application/vnd.dataresource+json": {
                            "schema": {
                                "fields": [
                                    {
                                        "name": "MEGNEVEZES"
                                    },
                                    {
                                        "name": "(No column name)"
                                    }
                                ]
                            },
                            "data": [
                                {
                                    "MEGNEVEZES": "félfamentes rajzlap A4 (10 lap)",
                                    "(No column name)": "nincs"
                                },
                                {
                                    "MEGNEVEZES": "Fotópapír A/4 fényes",
                                    "(No column name)": "nincs"
                                },
                                {
                                    "MEGNEVEZES": "Öntapadós hologramos papír A/4",
                                    "(No column name)": "nincs"
                                },
                                {
                                    "MEGNEVEZES": "Oklevél A/4 egyszínű",
                                    "(No column name)": "nincs"
                                },
                                {
                                    "MEGNEVEZES": "Oklevél A/4 színes",
                                    "(No column name)": "nincs"
                                },
                                {
                                    "MEGNEVEZES": "Emléklap A/5",
                                    "(No column name)": "nincs"
                                },
                                {
                                    "MEGNEVEZES": "Pausz papír A/4",
                                    "(No column name)": "nincs"
                                },
                                {
                                    "MEGNEVEZES": "Fax papír 15 m",
                                    "(No column name)": "nincs"
                                },
                                {
                                    "MEGNEVEZES": "Öntapadó A/4",
                                    "(No column name)": "nincs"
                                },
                                {
                                    "MEGNEVEZES": "Selyemfényű karton A/4",
                                    "(No column name)": "nincs"
                                },
                                {
                                    "MEGNEVEZES": "Műnyomó 300g 17,5*20",
                                    "(No column name)": "nincs"
                                },
                                {
                                    "MEGNEVEZES": "Color Copy A/4 250 g",
                                    "(No column name)": "nincs"
                                },
                                {
                                    "MEGNEVEZES": "Color Copy A4 200 g",
                                    "(No column name)": "nincs"
                                },
                                {
                                    "MEGNEVEZES": "Kreatív A/4 300g ",
                                    "(No column name)": "nincs"
                                },
                                {
                                    "MEGNEVEZES": "Színes A/3 160 gr IQ",
                                    "(No column name)": "nincs"
                                },
                                {
                                    "MEGNEVEZES": "Színes karton A4",
                                    "(No column name)": "nincs"
                                },
                                {
                                    "MEGNEVEZES": "Színes ofszet B/4",
                                    "(No column name)": "nincs"
                                },
                                {
                                    "MEGNEVEZES": "Dipa A/4 keretezett",
                                    "(No column name)": "nincs"
                                },
                                {
                                    "MEGNEVEZES": "Színes másoló a/4 80g",
                                    "(No column name)": "nincs"
                                },
                                {
                                    "MEGNEVEZES": "Color Copy 160 g-os ",
                                    "(No column name)": "nincs"
                                },
                                {
                                    "MEGNEVEZES": "Color Copy A4 120 g",
                                    "(No column name)": "nincs"
                                },
                                {
                                    "MEGNEVEZES": "Fehér másoló A/3",
                                    "(No column name)": "nincs"
                                },
                                {
                                    "MEGNEVEZES": "Fehér másoló A/4",
                                    "(No column name)": "nincs"
                                },
                                {
                                    "MEGNEVEZES": "Márványos A/4",
                                    "(No column name)": "nincs"
                                },
                                {
                                    "MEGNEVEZES": "Kreatív A/4 120g ",
                                    "(No column name)": "nincs"
                                },
                                {
                                    "MEGNEVEZES": "Átírótömb A/6",
                                    "(No column name)": "nincs"
                                },
                                {
                                    "MEGNEVEZES": "Beírókönyv A5 ",
                                    "(No column name)": "nincs"
                                },
                                {
                                    "MEGNEVEZES": "Beírókönyv A4",
                                    "(No column name)": "nincs"
                                },
                                {
                                    "MEGNEVEZES": "Bevételi pénztárbizonylat 3×25",
                                    "(No column name)": "nincs"
                                },
                                {
                                    "MEGNEVEZES": "Kiadási pénztárbizonylat 2×25",
                                    "(No column name)": "nincs"
                                },
                                {
                                    "MEGNEVEZES": "Határidő napló A/6",
                                    "(No column name)": "nincs"
                                },
                                {
                                    "MEGNEVEZES": "Boríték LA 4 francia",
                                    "(No column name)": "nincs"
                                },
                                {
                                    "MEGNEVEZES": "Boríték LC 5",
                                    "(No column name)": "nincs"
                                },
                                {
                                    "MEGNEVEZES": "Boríték LC 6",
                                    "(No column name)": "nincs"
                                },
                                {
                                    "MEGNEVEZES": "Gemkapocs 28 mm",
                                    "(No column name)": "nincs"
                                },
                                {
                                    "MEGNEVEZES": "Genotherm lefűzhető A/5",
                                    "(No column name)": "nincs"
                                },
                                {
                                    "MEGNEVEZES": "Genotherm lefűzhető A4 10db-os",
                                    "(No column name)": "nincs"
                                },
                                {
                                    "MEGNEVEZES": "Genotherm A4 10db-os",
                                    "(No column name)": "nincs"
                                },
                                {
                                    "MEGNEVEZES": "Hibajav.roll.Pritt 4,2mm",
                                    "(No column name)": "nincs"
                                },
                                {
                                    "MEGNEVEZES": "Hibajavító roller 5 mm",
                                    "(No column name)": "nincs"
                                },
                                {
                                    "MEGNEVEZES": "Naptár 24-es",
                                    "(No column name)": "nincs"
                                },
                                {
                                    "MEGNEVEZES": "Notesz A/5 sima",
                                    "(No column name)": "nincs"
                                },
                                {
                                    "MEGNEVEZES": "Notesz A/5 sima spirál",
                                    "(No column name)": "nincs"
                                },
                                {
                                    "MEGNEVEZES": "Notesz A/6 College",
                                    "(No column name)": "nincs"
                                },
                                {
                                    "MEGNEVEZES": "Pénztárgépsz. 2 pl. nem öníró",
                                    "(No column name)": "nincs"
                                },
                                {
                                    "MEGNEVEZES": "Pénztárgépszalag 2pl SC 57.5/60",
                                    "(No column name)": "nincs"
                                },
                                {
                                    "MEGNEVEZES": "Tűzőgép Boxer 10",
                                    "(No column name)": "nincs"
                                },
                                {
                                    "MEGNEVEZES": "Tűzőgép SAX 239",
                                    "(No column name)": "nincs"
                                },
                                {
                                    "MEGNEVEZES": "Tűzőkapocs 10-es",
                                    "(No column name)": "nincs"
                                },
                                {
                                    "MEGNEVEZES": "Tűzőkapocs 24/6",
                                    "(No column name)": "nincs"
                                },
                                {
                                    "MEGNEVEZES": "Fólia tasakos A4 125 mik.",
                                    "(No column name)": "nincs"
                                },
                                {
                                    "MEGNEVEZES": "Fólia tasakos A4 80 mik.",
                                    "(No column name)": "nincs"
                                },
                                {
                                    "MEGNEVEZES": "Fólia tasakos A4100 mik.",
                                    "(No column name)": "nincs"
                                },
                                {
                                    "MEGNEVEZES": "Boríték C/4-es",
                                    "(No column name)": "nincs"
                                },
                                {
                                    "MEGNEVEZES": "Boríték B/4-es",
                                    "(No column name)": "nincs"
                                },
                                {
                                    "MEGNEVEZES": "Bélyegző IDEAL 50",
                                    "(No column name)": "nincs"
                                },
                                {
                                    "MEGNEVEZES": "Bélyegző RP 18-47",
                                    "(No column name)": "nincs"
                                },
                                {
                                    "MEGNEVEZES": "Ragasztószalag 19 mm-es",
                                    "(No column name)": "nincs"
                                },
                                {
                                    "MEGNEVEZES": "Mappa müa A/4",
                                    "(No column name)": "nincs"
                                },
                                {
                                    "MEGNEVEZES": "Irattartó müa. boríték A/4",
                                    "(No column name)": "nincs"
                                },
                                {
                                    "MEGNEVEZES": "Gémkapocs 28-as színes",
                                    "(No column name)": "nincs"
                                },
                                {
                                    "MEGNEVEZES": "Gémkapocs 50-es",
                                    "(No column name)": "nincs"
                                },
                                {
                                    "MEGNEVEZES": "Festékpatron BCI-3BK",
                                    "(No column name)": "nincs"
                                },
                                {
                                    "MEGNEVEZES": "Genoterm HERLITZ 10-es",
                                    "(No column name)": "nincs"
                                },
                                {
                                    "MEGNEVEZES": "Spirál 1/4 ",
                                    "(No column name)": "nincs"
                                },
                                {
                                    "MEGNEVEZES": "Ragasztószalag nagy 12 mm",
                                    "(No column name)": "nincs"
                                },
                                {
                                    "MEGNEVEZES": "Ajándék cs. 2×100×70",
                                    "(No column name)": "nincs"
                                },
                                {
                                    "MEGNEVEZES": "Ajándék csom. 100x70 metál",
                                    "(No column name)": "nincs"
                                },
                                {
                                    "MEGNEVEZES": "Ajándék csom. 150x70",
                                    "(No column name)": "nincs"
                                },
                                {
                                    "MEGNEVEZES": "Ajándék csom. 200x70",
                                    "(No column name)": "nincs"
                                },
                                {
                                    "MEGNEVEZES": "Ajándék csom. 50x70 húsvéti",
                                    "(No column name)": "nincs"
                                },
                                {
                                    "MEGNEVEZES": "Ajándék csom. 70x50 metál",
                                    "(No column name)": "nincs"
                                },
                                {
                                    "MEGNEVEZES": "házt.csom.  5 ív",
                                    "(No column name)": "nincs"
                                },
                                {
                                    "MEGNEVEZES": "Ajándék csom. gyűrt 50x70 ",
                                    "(No column name)": "nincs"
                                },
                                {
                                    "MEGNEVEZES": "Ajándék cs. húsvéti 200x70",
                                    "(No column name)": "nincs"
                                },
                                {
                                    "MEGNEVEZES": "Határidő napló 2010-s",
                                    "(No column name)": "nincs"
                                },
                                {
                                    "MEGNEVEZES": "Levélpapír A/4",
                                    "(No column name)": "nincs"
                                },
                                {
                                    "MEGNEVEZES": "Műanyag pohár 1 dl-es",
                                    "(No column name)": "nincs"
                                },
                                {
                                    "MEGNEVEZES": "Műanyag pohár 5 cl-es",
                                    "(No column name)": "nincs"
                                },
                                {
                                    "MEGNEVEZES": "Díszdoboz tollnak 2 db-os",
                                    "(No column name)": "nincs"
                                },
                                {
                                    "MEGNEVEZES": "Díszdoboz tollnak 2 db-os keskeny",
                                    "(No column name)": "nincs"
                                },
                                {
                                    "MEGNEVEZES": "Mappa bőr A5",
                                    "(No column name)": "nincs"
                                },
                                {
                                    "MEGNEVEZES": "Címke 8 db-os",
                                    "(No column name)": "nincs"
                                },
                                {
                                    "MEGNEVEZES": "Alufólia 10 m-es",
                                    "(No column name)": "nincs"
                                },
                                {
                                    "MEGNEVEZES": "Alufólia 20 m-es",
                                    "(No column name)": "nincs"
                                },
                                {
                                    "MEGNEVEZES": "Papízsebkendő,10db Szindy",
                                    "(No column name)": "nincs"
                                },
                                {
                                    "MEGNEVEZES": "Szemetes zsák 60 literes",
                                    "(No column name)": "nincs"
                                },
                                {
                                    "MEGNEVEZES": "Celofán 50 db-os",
                                    "(No column name)": "nincs"
                                },
                                {
                                    "MEGNEVEZES": "Ragasztó, Technokol 35g kék",
                                    "(No column name)": "nincs"
                                },
                                {
                                    "MEGNEVEZES": "Ragasztó, Technokol 35g piros",
                                    "(No column name)": "nincs"
                                },
                                {
                                    "MEGNEVEZES": "Ecset Centrum 10,11,12",
                                    "(No column name)": "nincs"
                                },
                                {
                                    "MEGNEVEZES": "Ecset Centrum 7,8,9",
                                    "(No column name)": "nincs"
                                },
                                {
                                    "MEGNEVEZES": "Ecset Deák 2-es",
                                    "(No column name)": "nincs"
                                },
                                {
                                    "MEGNEVEZES": "Ecset Lizzy 10-es",
                                    "(No column name)": "nincs"
                                },
                                {
                                    "MEGNEVEZES": "Ecset Nebulo 4-es",
                                    "(No column name)": "nincs"
                                },
                                {
                                    "MEGNEVEZES": "Füzet  A/4 ",
                                    "(No column name)": "nincs"
                                },
                                {
                                    "MEGNEVEZES": "Füzet  A4 mintás",
                                    "(No column name)": "nincs"
                                },
                                {
                                    "MEGNEVEZES": "Füzet 31-32 szótár",
                                    "(No column name)": "nincs"
                                },
                                {
                                    "MEGNEVEZES": "Füzet A/5 hangjegy 36/16",
                                    "(No column name)": "nincs"
                                },
                                {
                                    "MEGNEVEZES": "Füzet A/5, mintás",
                                    "(No column name)": "nincs"
                                },
                                {
                                    "MEGNEVEZES": "Hurkapálca 10 db-os",
                                    "(No column name)": "nincs"
                                },
                                {
                                    "MEGNEVEZES": "Papírcenti 100 cm-es",
                                    "(No column name)": "nincs"
                                },
                                {
                                    "MEGNEVEZES": "Ragasztószalag 19 mm-es SCOTCH+ tépő",
                                    "(No column name)": "nincs"
                                },
                                {
                                    "MEGNEVEZES": "Szögmérő 180 fokos műa.",
                                    "(No column name)": "nincs"
                                },
                                {
                                    "MEGNEVEZES": "Ecset Nebuló 10-es",
                                    "(No column name)": "nincs"
                                },
                                {
                                    "MEGNEVEZES": "Gyurma színes 200 g-os",
                                    "(No column name)": "nincs"
                                },
                                {
                                    "MEGNEVEZES": "Gyűjtőlap A/4",
                                    "(No column name)": "nincs"
                                },
                                {
                                    "MEGNEVEZES": "Gyűrűskönyv bet. A/4",
                                    "(No column name)": "nincs"
                                },
                                {
                                    "MEGNEVEZES": "Gyűrűskönyv bet. A/5",
                                    "(No column name)": "nincs"
                                },
                                {
                                    "MEGNEVEZES": "Gyűrűskönyv betét A/5",
                                    "(No column name)": "nincs"
                                },
                                {
                                    "MEGNEVEZES": "Írólap 10-50 ffam.",
                                    "(No column name)": "nincs"
                                },
                                {
                                    "MEGNEVEZES": "Írólap 20-50 ",
                                    "(No column name)": "nincs"
                                },
                                {
                                    "MEGNEVEZES": "Post-it 51×38 100 lapos",
                                    "(No column name)": "nincs"
                                },
                                {
                                    "MEGNEVEZES": "Post-it 75×75 100 lapos",
                                    "(No column name)": "nincs"
                                },
                                {
                                    "MEGNEVEZES": "Radír KOH-I-NOR 80",
                                    "(No column name)": "nincs"
                                },
                                {
                                    "MEGNEVEZES": "Radír Koh-i-nor 40",
                                    "(No column name)": "nincs"
                                },
                                {
                                    "MEGNEVEZES": "Radír Tikky 30 ",
                                    "(No column name)": "nincs"
                                },
                                {
                                    "MEGNEVEZES": "Radír Tikky 40 ",
                                    "(No column name)": "nincs"
                                },
                                {
                                    "MEGNEVEZES": "Rajzlap A/4 10db ffam.",
                                    "(No column name)": "nincs"
                                },
                                {
                                    "MEGNEVEZES": "Regiszteres füzet A4",
                                    "(No column name)": "nincs"
                                },
                                {
                                    "MEGNEVEZES": "Regiszteres füzet A5 Hightech",
                                    "(No column name)": "nincs"
                                },
                                {
                                    "MEGNEVEZES": "Rovatolt papír 20 íves",
                                    "(No column name)": "nincs"
                                },
                                {
                                    "MEGNEVEZES": "Sp.Füzet A/4  perforált, lyuk.",
                                    "(No column name)": "nincs"
                                },
                                {
                                    "MEGNEVEZES": "Sp.Füzet A/4 70-as",
                                    "(No column name)": "nincs"
                                },
                                {
                                    "MEGNEVEZES": "Sp.Füzet A/4  70es",
                                    "(No column name)": "nincs"
                                },
                                {
                                    "MEGNEVEZES": "Sp.Füzet A/5 70-es",
                                    "(No column name)": "nincs"
                                },
                                {
                                    "MEGNEVEZES": "Tolltartó 1 zipzáros",
                                    "(No column name)": "nincs"
                                },
                                {
                                    "MEGNEVEZES": "Tolltartó 2 részes NG.",
                                    "(No column name)": "nincs"
                                },
                                {
                                    "MEGNEVEZES": "Tolltartó 2 zipzáros töltött",
                                    "(No column name)": "nincs"
                                },
                                {
                                    "MEGNEVEZES": "Olló Tagit 18 cm-es",
                                    "(No column name)": "nincs"
                                },
                                {
                                    "MEGNEVEZES": "Füzet A5 1-8 osz.-ig",
                                    "(No column name)": "nincs"
                                },
                                {
                                    "MEGNEVEZES": "Füzetborító A/4 átlátszó",
                                    "(No column name)": "nincs"
                                },
                                {
                                    "MEGNEVEZES": "Füzetborító átlátszó A5",
                                    "(No column name)": "nincs"
                                },
                                {
                                    "MEGNEVEZES": "Füzettartó A/4 keménytáblás",
                                    "(No column name)": "nincs"
                                },
                                {
                                    "MEGNEVEZES": "Füzettartó A/4 keménytáblás",
                                    "(No column name)": "nincs"
                                },
                                {
                                    "MEGNEVEZES": "Füzettartó A/5 vastag",
                                    "(No column name)": "nincs"
                                },
                                {
                                    "MEGNEVEZES": "Füzettartó A/5  ",
                                    "(No column name)": "nincs"
                                },
                                {
                                    "MEGNEVEZES": "Hegyző fém 1 lyukú",
                                    "(No column name)": "nincs"
                                },
                                {
                                    "MEGNEVEZES": "Hegyző fém 2 lyukú",
                                    "(No column name)": "nincs"
                                },
                                {
                                    "MEGNEVEZES": "Radírtoll betét ER100",
                                    "(No column name)": "nincs"
                                },
                                {
                                    "MEGNEVEZES": "Ragasztó 9 g Pax",
                                    "(No column name)": "nincs"
                                },
                                {
                                    "MEGNEVEZES": "Ragasztó 8 g Pritt",
                                    "(No column name)": "nincs"
                                },
                                {
                                    "MEGNEVEZES": "Vízfesték  12 színű nagy",
                                    "(No column name)": "nincs"
                                },
                                {
                                    "MEGNEVEZES": "Vízfesték 12 db-os ",
                                    "(No column name)": "nincs"
                                },
                                {
                                    "MEGNEVEZES": "Vízfesték 12 színű kerek",
                                    "(No column name)": "nincs"
                                },
                                {
                                    "MEGNEVEZES": "Vízfesték 12db-os kínai",
                                    "(No column name)": "nincs"
                                },
                                {
                                    "MEGNEVEZES": "Vonalzó 15 cm-es ESSELTE",
                                    "(No column name)": "nincs"
                                },
                                {
                                    "MEGNEVEZES": "Vonalzó 16 cm-es LIZZY",
                                    "(No column name)": "nincs"
                                },
                                {
                                    "MEGNEVEZES": "Vonalzó 30 cm",
                                    "(No column name)": "nincs"
                                },
                                {
                                    "MEGNEVEZES": "Vonalzó 20 cm-es ",
                                    "(No column name)": "nincs"
                                },
                                {
                                    "MEGNEVEZES": "Vonalzó 45 fokos",
                                    "(No column name)": "nincs"
                                },
                                {
                                    "MEGNEVEZES": "Vonalzó 60 fokos",
                                    "(No column name)": "nincs"
                                },
                                {
                                    "MEGNEVEZES": "Füzettartó A/4",
                                    "(No column name)": "nincs"
                                },
                                {
                                    "MEGNEVEZES": "Beíró A/5 kockás",
                                    "(No column name)": "nincs"
                                },
                                {
                                    "MEGNEVEZES": "Füzetborító A/4 mintás",
                                    "(No column name)": "nincs"
                                },
                                {
                                    "MEGNEVEZES": "Gyurma 12 szinű",
                                    "(No column name)": "nincs"
                                },
                                {
                                    "MEGNEVEZES": "G.toll betét S7L ",
                                    "(No column name)": "nincs"
                                },
                                {
                                    "MEGNEVEZES": "G.toll betét X20",
                                    "(No column name)": "nincs"
                                },
                                {
                                    "MEGNEVEZES": "G.toll betét Zebra F-0.7",
                                    "(No column name)": "nincs"
                                },
                                {
                                    "MEGNEVEZES": "G.toll betét Zebra H-0,7",
                                    "(No column name)": "nincs"
                                },
                                {
                                    "MEGNEVEZES": "G.toll betét Zebra K-0,7",
                                    "(No column name)": "nincs"
                                },
                                {
                                    "MEGNEVEZES": "Színes ceruza 6-os",
                                    "(No column name)": "nincs"
                                },
                                {
                                    "MEGNEVEZES": "Színes ceruza 12 szín",
                                    "(No column name)": "nincs"
                                },
                                {
                                    "MEGNEVEZES": "Filctoll, textil Edding 4500",
                                    "(No column name)": "nincs"
                                },
                                {
                                    "MEGNEVEZES": "Ceruza 2H-4B",
                                    "(No column name)": "nincs"
                                },
                                {
                                    "MEGNEVEZES": "Ceruza 2H-3B Koh-i-nor",
                                    "(No column name)": "nincs"
                                },
                                {
                                    "MEGNEVEZES": "Filctoll Edding 750",
                                    "(No column name)": "nincs"
                                },
                                {
                                    "MEGNEVEZES": "G. toll betét S7S",
                                    "(No column name)": "nincs"
                                },
                                {
                                    "MEGNEVEZES": "G. toll betét UNI lachnok Fine SA-7C",
                                    "(No column name)": "nincs"
                                },
                                {
                                    "MEGNEVEZES": "Golyóstoll Zebra 301",
                                    "(No column name)": "nincs"
                                },
                                {
                                    "MEGNEVEZES": "Ironbél  2B ICO",
                                    "(No column name)": "nincs"
                                },
                                {
                                    "MEGNEVEZES": "Ironbél B 0,5",
                                    "(No column name)": "nincs"
                                },
                                {
                                    "MEGNEVEZES": "Ironbél H 0,5",
                                    "(No column name)": "nincs"
                                },
                                {
                                    "MEGNEVEZES": "Ironbél HB 0,5",
                                    "(No column name)": "nincs"
                                },
                                {
                                    "MEGNEVEZES": "Ironbél HI-POLIMER HB 0,7",
                                    "(No column name)": "nincs"
                                },
                                {
                                    "MEGNEVEZES": "Lakk filc Edding 750",
                                    "(No column name)": "nincs"
                                },
                                {
                                    "MEGNEVEZES": "Tintapatron 30 db-os kék",
                                    "(No column name)": "nincs"
                                },
                                {
                                    "MEGNEVEZES": "Golyóstoll + ceruza Twister 2in1",
                                    "(No column name)": "nincs"
                                },
                                {
                                    "MEGNEVEZES": "Golyóstoll 3 funkciós ",
                                    "(No column name)": "nincs"
                                },
                                {
                                    "MEGNEVEZES": "Pixiron 0,7 Handy",
                                    "(No column name)": "nincs"
                                },
                                {
                                    "MEGNEVEZES": "Golyóstoll Stabiló 308",
                                    "(No column name)": "nincs"
                                },
                                {
                                    "MEGNEVEZES": "Golyóstoll UNIBALL 07",
                                    "(No column name)": "nincs"
                                },
                                {
                                    "MEGNEVEZES": "Anyanyelvi gyakorló 2",
                                    "(No column name)": "nincs"
                                },
                                {
                                    "MEGNEVEZES": "Anyanyelvi gyakorló 3",
                                    "(No column name)": "nincs"
                                },
                                {
                                    "MEGNEVEZES": "Fizika 13 éveseknek",
                                    "(No column name)": "nincs"
                                },
                                {
                                    "MEGNEVEZES": "Fizika munkafüzet 13 év.",
                                    "(No column name)": "nincs"
                                },
                                {
                                    "MEGNEVEZES": "Fizika munkafüzet 14 év.",
                                    "(No column name)": "nincs"
                                },
                                {
                                    "MEGNEVEZES": "Matematika gyakorló 2",
                                    "(No column name)": "nincs"
                                },
                                {
                                    "MEGNEVEZES": "Matematika gyakorló 3",
                                    "(No column name)": "nincs"
                                },
                                {
                                    "MEGNEVEZES": "Matematika gyakorló 4",
                                    "(No column name)": "nincs"
                                }
                            ]
                        },
                        "text/html": [
                            "<table>",
                            "<tr><th>MEGNEVEZES</th><th>(No column name)</th></tr>",
                            "<tr><td>félfamentes rajzlap A4 (10 lap)</td><td>nincs</td></tr>",
                            "<tr><td>Fotópapír A/4 fényes</td><td>nincs</td></tr>",
                            "<tr><td>Öntapadós hologramos papír A/4</td><td>nincs</td></tr>",
                            "<tr><td>Oklevél A/4 egyszínű</td><td>nincs</td></tr>",
                            "<tr><td>Oklevél A/4 színes</td><td>nincs</td></tr>",
                            "<tr><td>Emléklap A/5</td><td>nincs</td></tr>",
                            "<tr><td>Pausz papír A/4</td><td>nincs</td></tr>",
                            "<tr><td>Fax papír 15 m</td><td>nincs</td></tr>",
                            "<tr><td>Öntapadó A/4</td><td>nincs</td></tr>",
                            "<tr><td>Selyemfényű karton A/4</td><td>nincs</td></tr>",
                            "<tr><td>Műnyomó 300g 17,5*20</td><td>nincs</td></tr>",
                            "<tr><td>Color Copy A/4 250 g</td><td>nincs</td></tr>",
                            "<tr><td>Color Copy A4 200 g</td><td>nincs</td></tr>",
                            "<tr><td>Kreatív A/4 300g </td><td>nincs</td></tr>",
                            "<tr><td>Színes A/3 160 gr IQ</td><td>nincs</td></tr>",
                            "<tr><td>Színes karton A4</td><td>nincs</td></tr>",
                            "<tr><td>Színes ofszet B/4</td><td>nincs</td></tr>",
                            "<tr><td>Dipa A/4 keretezett</td><td>nincs</td></tr>",
                            "<tr><td>Színes másoló a/4 80g</td><td>nincs</td></tr>",
                            "<tr><td>Color Copy 160 g-os </td><td>nincs</td></tr>",
                            "<tr><td>Color Copy A4 120 g</td><td>nincs</td></tr>",
                            "<tr><td>Fehér másoló A/3</td><td>nincs</td></tr>",
                            "<tr><td>Fehér másoló A/4</td><td>nincs</td></tr>",
                            "<tr><td>Márványos A/4</td><td>nincs</td></tr>",
                            "<tr><td>Kreatív A/4 120g </td><td>nincs</td></tr>",
                            "<tr><td>Átírótömb A/6</td><td>nincs</td></tr>",
                            "<tr><td>Beírókönyv A5 </td><td>nincs</td></tr>",
                            "<tr><td>Beírókönyv A4</td><td>nincs</td></tr>",
                            "<tr><td>Bevételi pénztárbizonylat 3×25</td><td>nincs</td></tr>",
                            "<tr><td>Kiadási pénztárbizonylat 2×25</td><td>nincs</td></tr>",
                            "<tr><td>Határidő napló A/6</td><td>nincs</td></tr>",
                            "<tr><td>Boríték LA 4 francia</td><td>nincs</td></tr>",
                            "<tr><td>Boríték LC 5</td><td>nincs</td></tr>",
                            "<tr><td>Boríték LC 6</td><td>nincs</td></tr>",
                            "<tr><td>Gemkapocs 28 mm</td><td>nincs</td></tr>",
                            "<tr><td>Genotherm lefűzhető A/5</td><td>nincs</td></tr>",
                            "<tr><td>Genotherm lefűzhető A4 10db-os</td><td>nincs</td></tr>",
                            "<tr><td>Genotherm A4 10db-os</td><td>nincs</td></tr>",
                            "<tr><td>Hibajav.roll.Pritt 4,2mm</td><td>nincs</td></tr>",
                            "<tr><td>Hibajavító roller 5 mm</td><td>nincs</td></tr>",
                            "<tr><td>Naptár 24-es</td><td>nincs</td></tr>",
                            "<tr><td>Notesz A/5 sima</td><td>nincs</td></tr>",
                            "<tr><td>Notesz A/5 sima spirál</td><td>nincs</td></tr>",
                            "<tr><td>Notesz A/6 College</td><td>nincs</td></tr>",
                            "<tr><td>Pénztárgépsz. 2 pl. nem öníró</td><td>nincs</td></tr>",
                            "<tr><td>Pénztárgépszalag 2pl SC 57.5/60</td><td>nincs</td></tr>",
                            "<tr><td>Tűzőgép Boxer 10</td><td>nincs</td></tr>",
                            "<tr><td>Tűzőgép SAX 239</td><td>nincs</td></tr>",
                            "<tr><td>Tűzőkapocs 10-es</td><td>nincs</td></tr>",
                            "<tr><td>Tűzőkapocs 24/6</td><td>nincs</td></tr>",
                            "<tr><td>Fólia tasakos A4 125 mik.</td><td>nincs</td></tr>",
                            "<tr><td>Fólia tasakos A4 80 mik.</td><td>nincs</td></tr>",
                            "<tr><td>Fólia tasakos A4100 mik.</td><td>nincs</td></tr>",
                            "<tr><td>Boríték C/4-es</td><td>nincs</td></tr>",
                            "<tr><td>Boríték B/4-es</td><td>nincs</td></tr>",
                            "<tr><td>Bélyegző IDEAL 50</td><td>nincs</td></tr>",
                            "<tr><td>Bélyegző RP 18-47</td><td>nincs</td></tr>",
                            "<tr><td>Ragasztószalag 19 mm-es</td><td>nincs</td></tr>",
                            "<tr><td>Mappa müa A/4</td><td>nincs</td></tr>",
                            "<tr><td>Irattartó müa. boríték A/4</td><td>nincs</td></tr>",
                            "<tr><td>Gémkapocs 28-as színes</td><td>nincs</td></tr>",
                            "<tr><td>Gémkapocs 50-es</td><td>nincs</td></tr>",
                            "<tr><td>Festékpatron BCI-3BK</td><td>nincs</td></tr>",
                            "<tr><td>Genoterm HERLITZ 10-es</td><td>nincs</td></tr>",
                            "<tr><td>Spirál 1/4 </td><td>nincs</td></tr>",
                            "<tr><td>Ragasztószalag nagy 12 mm</td><td>nincs</td></tr>",
                            "<tr><td>Ajándék cs. 2×100×70</td><td>nincs</td></tr>",
                            "<tr><td>Ajándék csom. 100x70 metál</td><td>nincs</td></tr>",
                            "<tr><td>Ajándék csom. 150x70</td><td>nincs</td></tr>",
                            "<tr><td>Ajándék csom. 200x70</td><td>nincs</td></tr>",
                            "<tr><td>Ajándék csom. 50x70 húsvéti</td><td>nincs</td></tr>",
                            "<tr><td>Ajándék csom. 70x50 metál</td><td>nincs</td></tr>",
                            "<tr><td>házt.csom.  5 ív</td><td>nincs</td></tr>",
                            "<tr><td>Ajándék csom. gyűrt 50x70 </td><td>nincs</td></tr>",
                            "<tr><td>Ajándék cs. húsvéti 200x70</td><td>nincs</td></tr>",
                            "<tr><td>Határidő napló 2010-s</td><td>nincs</td></tr>",
                            "<tr><td>Levélpapír A/4</td><td>nincs</td></tr>",
                            "<tr><td>Műanyag pohár 1 dl-es</td><td>nincs</td></tr>",
                            "<tr><td>Műanyag pohár 5 cl-es</td><td>nincs</td></tr>",
                            "<tr><td>Díszdoboz tollnak 2 db-os</td><td>nincs</td></tr>",
                            "<tr><td>Díszdoboz tollnak 2 db-os keskeny</td><td>nincs</td></tr>",
                            "<tr><td>Mappa bőr A5</td><td>nincs</td></tr>",
                            "<tr><td>Címke 8 db-os</td><td>nincs</td></tr>",
                            "<tr><td>Alufólia 10 m-es</td><td>nincs</td></tr>",
                            "<tr><td>Alufólia 20 m-es</td><td>nincs</td></tr>",
                            "<tr><td>Papízsebkendő,10db Szindy</td><td>nincs</td></tr>",
                            "<tr><td>Szemetes zsák 60 literes</td><td>nincs</td></tr>",
                            "<tr><td>Celofán 50 db-os</td><td>nincs</td></tr>",
                            "<tr><td>Ragasztó, Technokol 35g kék</td><td>nincs</td></tr>",
                            "<tr><td>Ragasztó, Technokol 35g piros</td><td>nincs</td></tr>",
                            "<tr><td>Ecset Centrum 10,11,12</td><td>nincs</td></tr>",
                            "<tr><td>Ecset Centrum 7,8,9</td><td>nincs</td></tr>",
                            "<tr><td>Ecset Deák 2-es</td><td>nincs</td></tr>",
                            "<tr><td>Ecset Lizzy 10-es</td><td>nincs</td></tr>",
                            "<tr><td>Ecset Nebulo 4-es</td><td>nincs</td></tr>",
                            "<tr><td>Füzet  A/4 </td><td>nincs</td></tr>",
                            "<tr><td>Füzet  A4 mintás</td><td>nincs</td></tr>",
                            "<tr><td>Füzet 31-32 szótár</td><td>nincs</td></tr>",
                            "<tr><td>Füzet A/5 hangjegy 36/16</td><td>nincs</td></tr>",
                            "<tr><td>Füzet A/5, mintás</td><td>nincs</td></tr>",
                            "<tr><td>Hurkapálca 10 db-os</td><td>nincs</td></tr>",
                            "<tr><td>Papírcenti 100 cm-es</td><td>nincs</td></tr>",
                            "<tr><td>Ragasztószalag 19 mm-es SCOTCH+ tépő</td><td>nincs</td></tr>",
                            "<tr><td>Szögmérő 180 fokos műa.</td><td>nincs</td></tr>",
                            "<tr><td>Ecset Nebuló 10-es</td><td>nincs</td></tr>",
                            "<tr><td>Gyurma színes 200 g-os</td><td>nincs</td></tr>",
                            "<tr><td>Gyűjtőlap A/4</td><td>nincs</td></tr>",
                            "<tr><td>Gyűrűskönyv bet. A/4</td><td>nincs</td></tr>",
                            "<tr><td>Gyűrűskönyv bet. A/5</td><td>nincs</td></tr>",
                            "<tr><td>Gyűrűskönyv betét A/5</td><td>nincs</td></tr>",
                            "<tr><td>Írólap 10-50 ffam.</td><td>nincs</td></tr>",
                            "<tr><td>Írólap 20-50 </td><td>nincs</td></tr>",
                            "<tr><td>Post-it 51×38 100 lapos</td><td>nincs</td></tr>",
                            "<tr><td>Post-it 75×75 100 lapos</td><td>nincs</td></tr>",
                            "<tr><td>Radír KOH-I-NOR 80</td><td>nincs</td></tr>",
                            "<tr><td>Radír Koh-i-nor 40</td><td>nincs</td></tr>",
                            "<tr><td>Radír Tikky 30 </td><td>nincs</td></tr>",
                            "<tr><td>Radír Tikky 40 </td><td>nincs</td></tr>",
                            "<tr><td>Rajzlap A/4 10db ffam.</td><td>nincs</td></tr>",
                            "<tr><td>Regiszteres füzet A4</td><td>nincs</td></tr>",
                            "<tr><td>Regiszteres füzet A5 Hightech</td><td>nincs</td></tr>",
                            "<tr><td>Rovatolt papír 20 íves</td><td>nincs</td></tr>",
                            "<tr><td>Sp.Füzet A/4  perforált, lyuk.</td><td>nincs</td></tr>",
                            "<tr><td>Sp.Füzet A/4 70-as</td><td>nincs</td></tr>",
                            "<tr><td>Sp.Füzet A/4  70es</td><td>nincs</td></tr>",
                            "<tr><td>Sp.Füzet A/5 70-es</td><td>nincs</td></tr>",
                            "<tr><td>Tolltartó 1 zipzáros</td><td>nincs</td></tr>",
                            "<tr><td>Tolltartó 2 részes NG.</td><td>nincs</td></tr>",
                            "<tr><td>Tolltartó 2 zipzáros töltött</td><td>nincs</td></tr>",
                            "<tr><td>Olló Tagit 18 cm-es</td><td>nincs</td></tr>",
                            "<tr><td>Füzet A5 1-8 osz.-ig</td><td>nincs</td></tr>",
                            "<tr><td>Füzetborító A/4 átlátszó</td><td>nincs</td></tr>",
                            "<tr><td>Füzetborító átlátszó A5</td><td>nincs</td></tr>",
                            "<tr><td>Füzettartó A/4 keménytáblás</td><td>nincs</td></tr>",
                            "<tr><td>Füzettartó A/4 keménytáblás</td><td>nincs</td></tr>",
                            "<tr><td>Füzettartó A/5 vastag</td><td>nincs</td></tr>",
                            "<tr><td>Füzettartó A/5  </td><td>nincs</td></tr>",
                            "<tr><td>Hegyző fém 1 lyukú</td><td>nincs</td></tr>",
                            "<tr><td>Hegyző fém 2 lyukú</td><td>nincs</td></tr>",
                            "<tr><td>Radírtoll betét ER100</td><td>nincs</td></tr>",
                            "<tr><td>Ragasztó 9 g Pax</td><td>nincs</td></tr>",
                            "<tr><td>Ragasztó 8 g Pritt</td><td>nincs</td></tr>",
                            "<tr><td>Vízfesték  12 színű nagy</td><td>nincs</td></tr>",
                            "<tr><td>Vízfesték 12 db-os </td><td>nincs</td></tr>",
                            "<tr><td>Vízfesték 12 színű kerek</td><td>nincs</td></tr>",
                            "<tr><td>Vízfesték 12db-os kínai</td><td>nincs</td></tr>",
                            "<tr><td>Vonalzó 15 cm-es ESSELTE</td><td>nincs</td></tr>",
                            "<tr><td>Vonalzó 16 cm-es LIZZY</td><td>nincs</td></tr>",
                            "<tr><td>Vonalzó 30 cm</td><td>nincs</td></tr>",
                            "<tr><td>Vonalzó 20 cm-es </td><td>nincs</td></tr>",
                            "<tr><td>Vonalzó 45 fokos</td><td>nincs</td></tr>",
                            "<tr><td>Vonalzó 60 fokos</td><td>nincs</td></tr>",
                            "<tr><td>Füzettartó A/4</td><td>nincs</td></tr>",
                            "<tr><td>Beíró A/5 kockás</td><td>nincs</td></tr>",
                            "<tr><td>Füzetborító A/4 mintás</td><td>nincs</td></tr>",
                            "<tr><td>Gyurma 12 szinű</td><td>nincs</td></tr>",
                            "<tr><td>G.toll betét S7L </td><td>nincs</td></tr>",
                            "<tr><td>G.toll betét X20</td><td>nincs</td></tr>",
                            "<tr><td>G.toll betét Zebra F-0.7</td><td>nincs</td></tr>",
                            "<tr><td>G.toll betét Zebra H-0,7</td><td>nincs</td></tr>",
                            "<tr><td>G.toll betét Zebra K-0,7</td><td>nincs</td></tr>",
                            "<tr><td>Színes ceruza 6-os</td><td>nincs</td></tr>",
                            "<tr><td>Színes ceruza 12 szín</td><td>nincs</td></tr>",
                            "<tr><td>Filctoll, textil Edding 4500</td><td>nincs</td></tr>",
                            "<tr><td>Ceruza 2H-4B</td><td>nincs</td></tr>",
                            "<tr><td>Ceruza 2H-3B Koh-i-nor</td><td>nincs</td></tr>",
                            "<tr><td>Filctoll Edding 750</td><td>nincs</td></tr>",
                            "<tr><td>G. toll betét S7S</td><td>nincs</td></tr>",
                            "<tr><td>G. toll betét UNI lachnok Fine SA-7C</td><td>nincs</td></tr>",
                            "<tr><td>Golyóstoll Zebra 301</td><td>nincs</td></tr>",
                            "<tr><td>Ironbél  2B ICO</td><td>nincs</td></tr>",
                            "<tr><td>Ironbél B 0,5</td><td>nincs</td></tr>",
                            "<tr><td>Ironbél H 0,5</td><td>nincs</td></tr>",
                            "<tr><td>Ironbél HB 0,5</td><td>nincs</td></tr>",
                            "<tr><td>Ironbél HI-POLIMER HB 0,7</td><td>nincs</td></tr>",
                            "<tr><td>Lakk filc Edding 750</td><td>nincs</td></tr>",
                            "<tr><td>Tintapatron 30 db-os kék</td><td>nincs</td></tr>",
                            "<tr><td>Golyóstoll + ceruza Twister 2in1</td><td>nincs</td></tr>",
                            "<tr><td>Golyóstoll 3 funkciós </td><td>nincs</td></tr>",
                            "<tr><td>Pixiron 0,7 Handy</td><td>nincs</td></tr>",
                            "<tr><td>Golyóstoll Stabiló 308</td><td>nincs</td></tr>",
                            "<tr><td>Golyóstoll UNIBALL 07</td><td>nincs</td></tr>",
                            "<tr><td>Anyanyelvi gyakorló 2</td><td>nincs</td></tr>",
                            "<tr><td>Anyanyelvi gyakorló 3</td><td>nincs</td></tr>",
                            "<tr><td>Fizika 13 éveseknek</td><td>nincs</td></tr>",
                            "<tr><td>Fizika munkafüzet 13 év.</td><td>nincs</td></tr>",
                            "<tr><td>Fizika munkafüzet 14 év.</td><td>nincs</td></tr>",
                            "<tr><td>Matematika gyakorló 2</td><td>nincs</td></tr>",
                            "<tr><td>Matematika gyakorló 3</td><td>nincs</td></tr>",
                            "<tr><td>Matematika gyakorló 4</td><td>nincs</td></tr>",
                            "</table>"
                        ]
                    }
                }
            ],
            "execution_count": 22
        },
        {
            "cell_type": "markdown",
            "source": [
                "![](data:image/png;base64,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)"
            ],
            "metadata": {
                "azdata_cell_guid": "39a6d47b-f896-4de0-9d46-890ff55c8424"
            },
            "attachments": {}
        }
    ]
}