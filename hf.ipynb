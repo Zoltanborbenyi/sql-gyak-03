{
    "metadata": {
        "kernelspec": {
            "name": "SQL",
            "display_name": "SQL",
            "language": "sql"
        },
        "language_info": {
            "name": "sql",
            "version": ""
        }
    },
    "nbformat_minor": 2,
    "nbformat": 4,
    "cells": [
        {
            "cell_type": "code",
            "source": [
                "SELECT MEGYS, COUNT(*), COUNT(*)*100/551 AS 'százaléka az összesnek'\r\n",
                "FROM Termek\r\n",
                "GROUP BY MEGYS\r\n",
                "ORDER BY COUNT(*)\r\n",
                "\r\n",
                "SELECT MEGYS, MAX(KESZLET) AS 'készlet maximum', MIN(KESZLET) AS 'készlet minimum', AVG(KESZLET) AS 'készlet átlag'\r\n",
                "FROM Termek\r\n",
                "GROUP BY MEGYS\r\n",
                "\r\n",
                "SELECT MEGYS, DATEDIFF(DAY,MIN(FElVITEL), MAX(FELVITEL)) AS 'eltelt napok száma a kettő felvitt adat között'\r\n",
                "FROM TERMEK \r\n",
                "GROUP BY MEGYS\r\n",
                "ORDER BY DATEDIFF(DAY,MIN(FElVITEL), MAX(FELVITEL)) DESC"
            ],
            "metadata": {
                "azdata_cell_guid": "438ce9e7-7fde-4bbc-b814-12c5fcafc609",
                "language": "sql"
            },
            "outputs": [
                {
                    "output_type": "display_data",
                    "data": {
                        "text/html": "(6 rows affected)"
                    },
                    "metadata": {}
                },
                {
                    "output_type": "display_data",
                    "data": {
                        "text/html": "(6 rows affected)"
                    },
                    "metadata": {}
                },
                {
                    "output_type": "display_data",
                    "data": {
                        "text/html": "(6 rows affected)"
                    },
                    "metadata": {}
                },
                {
                    "output_type": "display_data",
                    "data": {
                        "text/html": "Total execution time: 00:00:00.044"
                    },
                    "metadata": {}
                },
                {
                    "output_type": "execute_result",
                    "metadata": {},
                    "execution_count": 97,
                    "data": {
                        "application/vnd.dataresource+json": {
                            "schema": {
                                "fields": [
                                    {
                                        "name": "MEGYS"
                                    },
                                    {
                                        "name": "(No column name)"
                                    },
                                    {
                                        "name": "százaléka az összesnek"
                                    }
                                ]
                            },
                            "data": [
                                {
                                    "MEGYS": "doboz",
                                    "(No column name)": "1",
                                    "százaléka az összesnek": "0"
                                },
                                {
                                    "MEGYS": "tekercs",
                                    "(No column name)": "1",
                                    "százaléka az összesnek": "0"
                                },
                                {
                                    "MEGYS": "üveg",
                                    "(No column name)": "1",
                                    "százaléka az összesnek": "0"
                                },
                                {
                                    "MEGYS": "ív",
                                    "(No column name)": "21",
                                    "százaléka az összesnek": "3"
                                },
                                {
                                    "MEGYS": "csomag",
                                    "(No column name)": "44",
                                    "százaléka az összesnek": "7"
                                },
                                {
                                    "MEGYS": "db",
                                    "(No column name)": "483",
                                    "százaléka az összesnek": "87"
                                }
                            ]
                        },
                        "text/html": [
                            "<table>",
                            "<tr><th>MEGYS</th><th>(No column name)</th><th>százaléka az összesnek</th></tr>",
                            "<tr><td>doboz</td><td>1</td><td>0</td></tr>",
                            "<tr><td>tekercs</td><td>1</td><td>0</td></tr>",
                            "<tr><td>üveg</td><td>1</td><td>0</td></tr>",
                            "<tr><td>ív</td><td>21</td><td>3</td></tr>",
                            "<tr><td>csomag</td><td>44</td><td>7</td></tr>",
                            "<tr><td>db</td><td>483</td><td>87</td></tr>",
                            "</table>"
                        ]
                    }
                },
                {
                    "output_type": "execute_result",
                    "metadata": {},
                    "execution_count": 97,
                    "data": {
                        "application/vnd.dataresource+json": {
                            "schema": {
                                "fields": [
                                    {
                                        "name": "MEGYS"
                                    },
                                    {
                                        "name": "készlet maximum"
                                    },
                                    {
                                        "name": "készlet minimum"
                                    },
                                    {
                                        "name": "készlet átlag"
                                    }
                                ]
                            },
                            "data": [
                                {
                                    "MEGYS": "csomag",
                                    "készlet maximum": "5000",
                                    "készlet minimum": "100",
                                    "készlet átlag": "796,5909090909091"
                                },
                                {
                                    "MEGYS": "db",
                                    "készlet maximum": "50000",
                                    "készlet minimum": "0",
                                    "készlet átlag": "1687,6418219461698"
                                },
                                {
                                    "MEGYS": "doboz",
                                    "készlet maximum": "100",
                                    "készlet minimum": "100",
                                    "készlet átlag": "100"
                                },
                                {
                                    "MEGYS": "ív",
                                    "készlet maximum": "3100",
                                    "készlet minimum": "100",
                                    "készlet átlag": "728,5714285714286"
                                },
                                {
                                    "MEGYS": "tekercs",
                                    "készlet maximum": "8000",
                                    "készlet minimum": "8000",
                                    "készlet átlag": "8000"
                                },
                                {
                                    "MEGYS": "üveg",
                                    "készlet maximum": "300",
                                    "készlet minimum": "300",
                                    "készlet átlag": "300"
                                }
                            ]
                        },
                        "text/html": [
                            "<table>",
                            "<tr><th>MEGYS</th><th>készlet maximum</th><th>készlet minimum</th><th>készlet átlag</th></tr>",
                            "<tr><td>csomag</td><td>5000</td><td>100</td><td>796,5909090909091</td></tr>",
                            "<tr><td>db</td><td>50000</td><td>0</td><td>1687,6418219461698</td></tr>",
                            "<tr><td>doboz</td><td>100</td><td>100</td><td>100</td></tr>",
                            "<tr><td>ív</td><td>3100</td><td>100</td><td>728,5714285714286</td></tr>",
                            "<tr><td>tekercs</td><td>8000</td><td>8000</td><td>8000</td></tr>",
                            "<tr><td>üveg</td><td>300</td><td>300</td><td>300</td></tr>",
                            "</table>"
                        ]
                    }
                },
                {
                    "output_type": "execute_result",
                    "metadata": {},
                    "execution_count": 97,
                    "data": {
                        "application/vnd.dataresource+json": {
                            "schema": {
                                "fields": [
                                    {
                                        "name": "MEGYS"
                                    },
                                    {
                                        "name": "eltelt napok száma a kettő felvitt adat között"
                                    }
                                ]
                            },
                            "data": [
                                {
                                    "MEGYS": "db",
                                    "eltelt napok száma a kettő felvitt adat között": "163"
                                },
                                {
                                    "MEGYS": "csomag",
                                    "eltelt napok száma a kettő felvitt adat között": "51"
                                },
                                {
                                    "MEGYS": "ív",
                                    "eltelt napok száma a kettő felvitt adat között": "28"
                                },
                                {
                                    "MEGYS": "tekercs",
                                    "eltelt napok száma a kettő felvitt adat között": "0"
                                },
                                {
                                    "MEGYS": "üveg",
                                    "eltelt napok száma a kettő felvitt adat között": "0"
                                },
                                {
                                    "MEGYS": "doboz",
                                    "eltelt napok száma a kettő felvitt adat között": "0"
                                }
                            ]
                        },
                        "text/html": [
                            "<table>",
                            "<tr><th>MEGYS</th><th>eltelt napok száma a kettő felvitt adat között</th></tr>",
                            "<tr><td>db</td><td>163</td></tr>",
                            "<tr><td>csomag</td><td>51</td></tr>",
                            "<tr><td>ív</td><td>28</td></tr>",
                            "<tr><td>tekercs</td><td>0</td></tr>",
                            "<tr><td>üveg</td><td>0</td></tr>",
                            "<tr><td>doboz</td><td>0</td></tr>",
                            "</table>"
                        ]
                    }
                }
            ],
            "execution_count": 97
        },
        {
            "cell_type": "code",
            "source": [
                "SELECT TOP 5 MEGNEVEZES, LISTAAR\r\n",
                "FROM Termek\r\n",
                "ORDER BY LISTAAR DESC\r\n",
                "\r\n",
                "\r\n",
                "SELECT MAX(LEN(MEGNEVEZES)) AS 'maximum megnevezés hossz' , AVG(LEN(MEGNEVEZES)) AS 'átlagos megnevezés hossz', MIN(LEN(MEGNEVEZES)) AS 'minimum megnevezés hossz'\r\n",
                "FROM Termek\r\n",
                "\r\n",
                ""
            ],
            "metadata": {
                "azdata_cell_guid": "a2630bbf-3324-4d11-9d10-60314f511069",
                "language": "sql"
            },
            "outputs": [
                {
                    "output_type": "display_data",
                    "data": {
                        "text/html": "(5 rows affected)"
                    },
                    "metadata": {}
                },
                {
                    "output_type": "display_data",
                    "data": {
                        "text/html": "(1 row affected)"
                    },
                    "metadata": {}
                },
                {
                    "output_type": "display_data",
                    "data": {
                        "text/html": "Total execution time: 00:00:00.036"
                    },
                    "metadata": {}
                },
                {
                    "output_type": "execute_result",
                    "metadata": {},
                    "execution_count": 95,
                    "data": {
                        "application/vnd.dataresource+json": {
                            "schema": {
                                "fields": [
                                    {
                                        "name": "MEGNEVEZES"
                                    },
                                    {
                                        "name": "LISTAAR"
                                    }
                                ]
                            },
                            "data": [
                                {
                                    "MEGNEVEZES": "kosztüm (hosszú)",
                                    "LISTAAR": "46000"
                                },
                                {
                                    "MEGNEVEZES": "kosztüm (rövid)",
                                    "LISTAAR": "39000"
                                },
                                {
                                    "MEGNEVEZES": "női koktélruha",
                                    "LISTAAR": "32000"
                                },
                                {
                                    "MEGNEVEZES": "női szövet kabát",
                                    "LISTAAR": "24000"
                                },
                                {
                                    "MEGNEVEZES": "férfi szövet kabát",
                                    "LISTAAR": "22000"
                                }
                            ]
                        },
                        "text/html": [
                            "<table>",
                            "<tr><th>MEGNEVEZES</th><th>LISTAAR</th></tr>",
                            "<tr><td>kosztüm (hosszú)</td><td>46000</td></tr>",
                            "<tr><td>kosztüm (rövid)</td><td>39000</td></tr>",
                            "<tr><td>női koktélruha</td><td>32000</td></tr>",
                            "<tr><td>női szövet kabát</td><td>24000</td></tr>",
                            "<tr><td>férfi szövet kabát</td><td>22000</td></tr>",
                            "</table>"
                        ]
                    }
                },
                {
                    "output_type": "execute_result",
                    "metadata": {
                        "azdata_chartOptions": {
                            "type": "bar",
                            "dataDirection": "horizontal",
                            "columnsAsLabels": true,
                            "labelFirstColumn": false,
                            "legendPosition": "top",
                            "yAxisLabel": "Karakter számok",
                            "xAxisLabel": ""
                        }
                    },
                    "execution_count": 95,
                    "data": {
                        "application/vnd.dataresource+json": {
                            "schema": {
                                "fields": [
                                    {
                                        "name": "maximum megnevezés hossz"
                                    },
                                    {
                                        "name": "átlagos megnevezés hossz"
                                    },
                                    {
                                        "name": "minimum megnevezés hossz"
                                    }
                                ]
                            },
                            "data": [
                                {
                                    "maximum megnevezés hossz": "40",
                                    "átlagos megnevezés hossz": "18",
                                    "minimum megnevezés hossz": "3"
                                }
                            ]
                        },
                        "text/html": [
                            "<table>",
                            "<tr><th>maximum megnevezés hossz</th><th>átlagos megnevezés hossz</th><th>minimum megnevezés hossz</th></tr>",
                            "<tr><td>40</td><td>18</td><td>3</td></tr>",
                            "</table>"
                        ]
                    }
                }
            ],
            "execution_count": 95
        }
    ]
}