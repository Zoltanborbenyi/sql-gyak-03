{
    "metadata": {
        "kernelspec": {
            "name": "SQL",
            "display_name": "SQL",
            "language": "sql"
        },
        "language_info": {
            "name": "sql",
            "version": ""
        }
    },
    "nbformat_minor": 2,
    "nbformat": 4,
    "cells": [
        {
            "cell_type": "code",
            "source": [
                "SELECT COUNT(*) AS 'Azonos év a kezdet és a vége de a hónap más(db)'\r\n",
                "FROM Foglalas\r\n",
                "WHERE YEAR(mettol) = YEAR(MEDDIG) AND MONTH(METTOL) <> MONTH(MEDDIG)"
            ],
            "metadata": {
                "azdata_cell_guid": "eec2f577-5762-4c97-9369-fdf06b14a3d9",
                "language": "sql"
            },
            "outputs": [
                {
                    "output_type": "display_data",
                    "data": {
                        "text/html": "(1 row affected)"
                    },
                    "metadata": {}
                },
                {
                    "output_type": "display_data",
                    "data": {
                        "text/html": "Total execution time: 00:00:00.006"
                    },
                    "metadata": {}
                },
                {
                    "output_type": "execute_result",
                    "metadata": {},
                    "execution_count": 5,
                    "data": {
                        "application/vnd.dataresource+json": {
                            "schema": {
                                "fields": [
                                    {
                                        "name": "Azonos év a kezdet és a vége de a hónap más(db)"
                                    }
                                ]
                            },
                            "data": [
                                {
                                    "Azonos év a kezdet és a vége de a hónap más(db)": "131"
                                }
                            ]
                        },
                        "text/html": [
                            "<table>",
                            "<tr><th>Azonos év a kezdet és a vége de a hónap más(db)</th></tr>",
                            "<tr><td>131</td></tr>",
                            "</table>"
                        ]
                    }
                }
            ],
            "execution_count": 5
        }
    ]
}